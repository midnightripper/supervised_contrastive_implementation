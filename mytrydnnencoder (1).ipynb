{
  "cells": [
    {
      "cell_type": "code",
      "execution_count": 2,
      "metadata": {
        "id": "SuSGOCTpCEYv"
      },
      "outputs": [
        {
          "name": "stderr",
          "output_type": "stream",
          "text": [
            "2023-05-20 10:32:09.969592: I tensorflow/tsl/cuda/cudart_stub.cc:28] Could not find cuda drivers on your machine, GPU will not be used.\n",
            "2023-05-20 10:32:10.032672: I tensorflow/tsl/cuda/cudart_stub.cc:28] Could not find cuda drivers on your machine, GPU will not be used.\n",
            "2023-05-20 10:32:10.034630: I tensorflow/core/platform/cpu_feature_guard.cc:182] This TensorFlow binary is optimized to use available CPU instructions in performance-critical operations.\n",
            "To enable the following instructions: AVX2 FMA, in other operations, rebuild TensorFlow with the appropriate compiler flags.\n",
            "2023-05-20 10:32:11.253288: W tensorflow/compiler/tf2tensorrt/utils/py_utils.cc:38] TF-TRT Warning: Could not find TensorRT\n"
          ]
        }
      ],
      "source": [
        "# Import section\n",
        "import os\n",
        "import glob\n",
        "import tensorflow as tf\n",
        "from tensorflow import keras\n",
        "from tensorflow.keras import layers\n",
        "from keras.layers import Dense\n",
        "from keras.callbacks import ModelCheckpoint ,EarlyStopping\n",
        "from keras.layers import Dropout\n",
        "from keras import optimizers\n",
        "from keras import backend as K\n",
        "import keras\n",
        "from sklearn import svm\n",
        "from tensorflow.keras.models import Sequential\n",
        "\n",
        "adam = tf.keras.optimizers.Adam(learning_rate=0.0005)"
      ]
    },
    {
      "cell_type": "code",
      "execution_count": 3,
      "metadata": {
        "id": "SyxjlrPvCPod"
      },
      "outputs": [],
      "source": [
        "#loading data \n",
        "import numpy as np\n",
        "import scipy.io\n",
        "def dataloader(path,featType):#if featType = 1 ==> acoustic, if featType = 2 ==> acoustic+context\n",
        "  data = scipy.io.loadmat(path)\n",
        "  print(data.keys())\n",
        "  if featType == 1:\n",
        "    AF = data['AF']; x = AF[0:-2]; y = AF[-2]; w = AF[-1];\n",
        "  else:\n",
        "    AF = data['AF']; x1 = AF[0:-2]; x2 = data['CF']; y = AF[-2]; w = AF[-1]; \n",
        "    x = np.concatenate((x1,x2), axis=0)\n",
        "  return x.T, y.T, w.T, data['CF_info']"
      ]
    },
    {
      "cell_type": "code",
      "execution_count": 4,
      "metadata": {
        "colab": {
          "base_uri": "https://localhost:8080/"
        },
        "id": "9hIgjuMjCEz4",
        "outputId": "fe29d415-9b1c-4bea-a78b-7a209648ad04"
      },
      "outputs": [
        {
          "name": "stdout",
          "output_type": "stream",
          "text": [
            "Requirement already satisfied: tensorflow-addons in /workspace/.pyenv_mirror/user/current/lib/python3.11/site-packages (0.20.0)\n",
            "Requirement already satisfied: packaging in /home/gitpod/.pyenv/versions/3.11.1/lib/python3.11/site-packages (from tensorflow-addons) (23.0)\n",
            "Requirement already satisfied: typeguard<3.0.0,>=2.7 in /workspace/.pyenv_mirror/user/current/lib/python3.11/site-packages (from tensorflow-addons) (2.13.3)\n",
            "\n",
            "\u001b[1m[\u001b[0m\u001b[34;49mnotice\u001b[0m\u001b[1;39;49m]\u001b[0m\u001b[39;49m A new release of pip is available: \u001b[0m\u001b[31;49m23.0.1\u001b[0m\u001b[39;49m -> \u001b[0m\u001b[32;49m23.1.2\u001b[0m\n",
            "\u001b[1m[\u001b[0m\u001b[34;49mnotice\u001b[0m\u001b[1;39;49m]\u001b[0m\u001b[39;49m To update, run: \u001b[0m\u001b[32;49mpip install --upgrade pip\u001b[0m\n"
          ]
        },
        {
          "name": "stderr",
          "output_type": "stream",
          "text": [
            "/workspace/.pyenv_mirror/user/current/lib/python3.11/site-packages/tensorflow_addons/utils/tfa_eol_msg.py:23: UserWarning: \n",
            "\n",
            "TensorFlow Addons (TFA) has ended development and introduction of new features.\n",
            "TFA has entered a minimal maintenance and release mode until a planned end of life in May 2024.\n",
            "Please modify downstream libraries to take dependencies from other repositories in our TensorFlow community (e.g. Keras, Keras-CV, and Keras-NLP). \n",
            "\n",
            "For more information see: https://github.com/tensorflow/addons/issues/2807 \n",
            "\n",
            "  warnings.warn(\n"
          ]
        }
      ],
      "source": [
        "import tensorflow as tf\n",
        "!pip install tensorflow-addons\n",
        "import tensorflow_addons as tfa\n",
        "import numpy as np\n",
        "from tensorflow import keras\n",
        "from tensorflow.keras import layers\n",
        "import scipy.io as sio\n",
        "import pandas as pd\n",
        "import matplotlib.pyplot as plt\n",
        "from tensorflow.keras.models import Model"
      ]
    },
    {
      "cell_type": "code",
      "execution_count": 5,
      "metadata": {
        "id": "X5YAf_vAMpfS"
      },
      "outputs": [],
      "source": [
        "def normalization(feats,avg,std):\n",
        "  ii=0\n",
        "  for v in feats:\n",
        "    # print(len(v))\n",
        "    feats[ii] = np.divide((v-avg),std)\n",
        "    ii = ii+1\n",
        "  return feats\n",
        "\n",
        "# better use np.norm for faster processing"
      ]
    },
    {
      "cell_type": "code",
      "execution_count": 6,
      "metadata": {
        "id": "mBr1rD-UkRxV"
      },
      "outputs": [],
      "source": [
        "# post processing the labels\n",
        "def make_partitions(arr_words, arr_labels):\n",
        "  v=[]\n",
        "  np.array(v)\n",
        "  temp=[]\n",
        "  for i in range(len(arr_words)-1):\n",
        "    word=arr_words[i]\n",
        "    next_word=arr_words[i+1]\n",
        "    temp.append(arr_labels[i])\n",
        "    if word!=next_word:\n",
        "      numpy_temp=np.array(temp)\n",
        "      temp_max=np.amax(numpy_temp)\n",
        "      numpy_temp=np.divide(numpy_temp, temp_max)\n",
        "      v=np.concatenate((v, numpy_temp), axis=None)\n",
        "      temp.clear()\n",
        "    if (i==len(arr_words)-2):\n",
        "      temp.append(arr_labels[i+1])\n",
        "      numpy_temp=np.array(temp)\n",
        "      temp_max=np.amax(numpy_temp)\n",
        "      numpy_temp=np.divide(numpy_temp, temp_max)\n",
        "      v=np.concatenate((v, numpy_temp), axis=None)\n",
        "      temp.clear()\n",
        "  v1=[]\n",
        "  for i in v:\n",
        "    if i==1:\n",
        "      v1.append(1)\n",
        "    else:\n",
        "      v1.append(0)\n",
        "  return v1"
      ]
    },
    {
      "cell_type": "code",
      "execution_count": 7,
      "metadata": {
        "id": "mD6Kfa_jVuRa"
      },
      "outputs": [],
      "source": [
        "#Function to compute classification accuracy\n",
        "# similarity measure\n",
        "def calculate_accuracy(arr1, arr2):\n",
        "  count=0\n",
        "  for itr1, itr2 in zip(arr1, arr2):\n",
        "    if itr1==itr2:\n",
        "      count+=1\n",
        "  return count/len(arr1)"
      ]
    },
    {
      "cell_type": "code",
      "execution_count": 8,
      "metadata": {
        "id": "XkorDEefUWi-"
      },
      "outputs": [],
      "source": [
        "import statistics\n",
        "import keras.backend as K\n",
        "from keras.models import Model\n",
        "from keras.layers import Input\n",
        "from keras.layers import Dense, Dropout\n",
        "from keras.layers import concatenate\n",
        "adam = tf.keras.optimizers.Adam(learning_rate=0.001)\n",
        "from sklearn.metrics import f1_score"
      ]
    },
    {
      "cell_type": "code",
      "execution_count": 9,
      "metadata": {
        "id": "pl9qUu5yUZ7S"
      },
      "outputs": [],
      "source": [
        "fatyp = 'TypicalFA_comb1'\n",
        "drivepath = 'finalData/'+ fatyp +'/';\n",
        "#featFiles = 'GER_train_fisher-2000_FA_GT_ESTphnTrans_estStress'               #glob.glob(drivepath + '*train*')\n",
        "filee = drivepath+'GER_train_fisher-2000_FA_GT_ESTphnTrans_estStress.mat'\n",
        "featType = 1; #Acoustic or Acoustic+context\n",
        "if featType == 1:\n",
        "  original_dim = 19\n",
        "else:\n",
        "  original_dim = 38"
      ]
    },
    {
      "cell_type": "code",
      "execution_count": 10,
      "metadata": {
        "colab": {
          "base_uri": "https://localhost:8080/"
        },
        "id": "GHXtU-QbUgV3",
        "outputId": "f2aab844-49bd-4ab6-d3f0-757e86eb516b"
      },
      "outputs": [
        {
          "name": "stdout",
          "output_type": "stream",
          "text": [
            "dict_keys(['__header__', '__version__', '__globals__', 'AF', 'AF_info', 'CF', 'CF_info'])\n",
            "dict_keys(['__header__', '__version__', '__globals__', 'AF', 'AF_info', 'CF', 'CF_info'])\n",
            "dict_keys(['__header__', '__version__', '__globals__', 'AF', 'AF_info', 'CF', 'CF_info'])\n",
            "dict_keys(['__header__', '__version__', '__globals__', 'AF', 'AF_info', 'CF', 'CF_info'])\n"
          ]
        }
      ],
      "source": [
        "# print('Classification with::::::',os.path.basename(filee))\n",
        "\n",
        "train_path = filee; test_path = filee.replace('train','test')\n",
        "# print('test file:::::::',os.path.basename(test_path))\n",
        "xtrain, ytrain, wtrain, info_train = dataloader(train_path, featType); \n",
        "xtrain1, ytrain1, wtrain1, info_train1 = dataloader(train_path, featType=2);\n",
        "\n",
        "xtest, ytest, wtest ,info_test = dataloader(test_path, featType)\n",
        "xtest1, ytest1, wtest1, info_test1 = dataloader(test_path, featType=2);\n",
        "\n"
      ]
    },
    {
      "cell_type": "code",
      "execution_count": 11,
      "metadata": {
        "colab": {
          "base_uri": "https://localhost:8080/"
        },
        "id": "1c2mrUJ0ZUPo",
        "outputId": "412aed87-5d62-4cee-a97f-751e244c9e1c"
      },
      "outputs": [
        {
          "name": "stdout",
          "output_type": "stream",
          "text": [
            "5891\n"
          ]
        }
      ],
      "source": [
        "train_size = xtrain.shape[0]\n",
        "print(train_size)\n",
        "avg_trainfeat=np.mean(xtrain, axis=0)\n",
        "std_trainfeat=np.std(xtrain, axis=0)\n",
        "\n",
        "avg_trainfeat1=np.mean(xtrain1, axis=0)\n",
        "std_trainfeat1=np.std(xtrain1, axis=0)"
      ]
    },
    {
      "cell_type": "code",
      "execution_count": 12,
      "metadata": {
        "id": "_c6qOmVsZZJ9"
      },
      "outputs": [],
      "source": [
        "xtest_a = normalization(xtest,avg_trainfeat,std_trainfeat)\n",
        "xtest_ac = normalization(xtest1,avg_trainfeat1,std_trainfeat1)\n",
        "\n",
        "xtrain = normalization(xtrain,avg_trainfeat,std_trainfeat)\n",
        "xtrain1 = normalization(xtrain1,avg_trainfeat1,std_trainfeat1)"
      ]
    },
    {
      "cell_type": "code",
      "execution_count": 13,
      "metadata": {
        "colab": {
          "base_uri": "https://localhost:8080/"
        },
        "id": "A5UsMZYtZb9E",
        "outputId": "9b1cfacb-a559-44b8-bbf6-6d5c7fa7663d"
      },
      "outputs": [
        {
          "name": "stdout",
          "output_type": "stream",
          "text": [
            "(5891, 19)\n"
          ]
        }
      ],
      "source": [
        "print(xtrain.shape)\n",
        "woPP=[]; wPP=[]\n",
        "\n",
        "input_shape1 = (19,)\n",
        "input_shape2 = (38,)\n",
        "\n",
        "temperature = 0.03\n",
        "learning_rate=0.001"
      ]
    },
    {
      "cell_type": "code",
      "execution_count": 14,
      "metadata": {
        "id": "yegh1I8_Zovn"
      },
      "outputs": [],
      "source": [
        "class SupervisedContrastiveLoss(keras.losses.Loss):\n",
        "    def __init__(self, temperature=temperature, name=None):\n",
        "        super(SupervisedContrastiveLoss, self).__init__(name=name)\n",
        "        self.temperature = temperature\n",
        "\n",
        "    def __call__(self, labels, feature_vectors, sample_weight=None):\n",
        "        # Normalize feature vectors\n",
        "        print(feature_vectors.shape)\n",
        "        # labels = tf.keras.layers.Concatenate(axis=0)([labels, labels])\n",
        "        feature_vectors_normalized = tf.math.l2_normalize(feature_vectors, axis=1)\n",
        "\n",
        "        # Compute logits\n",
        "        logits = tf.divide(tf.matmul(feature_vectors_normalized, tf.transpose(feature_vectors_normalized)), self.temperature)\n",
        "        \n",
        "        # print(feature_vectors.shape)\n",
        "        # print(labels.shape)\n",
        "        # print('loss:::::::', tfa.losses.npairs_loss(tf.squeeze(labels), logits))\n",
        "        return 0.35*(tfa.losses.npairs_loss(tf.squeeze(labels), logits))\n",
        "        #find out more about why 0.35 is used"
      ]
    },
    {
      "cell_type": "code",
      "execution_count": 15,
      "metadata": {
        "id": "6dM5L9idDhgC"
      },
      "outputs": [],
      "source": [
        "from keras.models import Sequential\n",
        "from keras.layers import Activation\n",
        "from keras.layers import Input\n",
        "from tensorflow import keras\n",
        "from tensorflow.keras.models import Sequential\n",
        "from tensorflow.keras.layers import Conv1D, MaxPooling1D, Flatten, Dense\n",
        "import tensorflow as tf\n",
        "import tensorflow_addons as tfa\n",
        "import numpy as np\n",
        "from tensorflow import keras\n",
        "from tensorflow.keras import layers\n",
        "import scipy.io as sio\n",
        "import pandas as pd\n",
        "import matplotlib.pyplot as plt\n",
        "from tensorflow.keras.models import Model\n",
        "from keras.layers import Reshape\n"
      ]
    },
    {
      "cell_type": "code",
      "execution_count": 31,
      "metadata": {
        "id": "5zf__kwAZuU3"
      },
      "outputs": [],
      "source": [
        "# latent_dim = 30\n",
        "\n",
        "# class Encoder1(Model):\n",
        "#   def __init__(self, latent_dim):\n",
        "#     super(Encoder1, self).__init__()\n",
        "#     self.latent_dim = latent_dim \n",
        "#     inputs = keras.Input(19,)\n",
        "#     outputs = inputs  \n",
        "#     self.encoder = tf.keras.Sequential([\n",
        "#       inputs,\n",
        "#       layers.Dense(128, activation='relu'),\n",
        "#       layers.BatchNormalization(),\n",
        "#       layers.Dropout(0.3),\n",
        "#       layers.Dense(64, activation='relu'),\n",
        "#       layers.Dense(32, activation='relu'),\n",
        "#       layers.Dense(latent_dim, activation='relu'),\n",
        "#     ])\n",
        "\n",
        "#   def call(self, x):\n",
        "#     encoded = self.encoder(x)\n",
        "#     return encoded\n",
        "\n",
        "def create_encoder1(latent_dim):\n",
        "    encoder_input = Input(shape=(19,1))\n",
        "    x1 = Conv1D(filters=64, kernel_size=2, activation='relu')(encoder_input)\n",
        "    x2 = MaxPooling1D(pool_size=1)(x1)\n",
        "    x3 = Dropout(0.5)(x2)\n",
        "    x4 = Conv1D(filters=32, kernel_size=2, activation='relu')(x3)\n",
        "    x5 = MaxPooling1D(pool_size=1)(x4)\n",
        "    x6 = Flatten()(x5)\n",
        "    output_layer = Dense(latent_dim, activation='relu')(x6)\n",
        "    encoder1 = Model(encoder_input, output_layer)\n",
        "    return encoder1\n",
        "\n",
        "# class Encoder2(Model):\n",
        "#   def __init__(self, latent_dim):\n",
        "#     super(Encoder2, self).__init__()\n",
        "#     self.latent_dim = latent_dim\n",
        "#     inputs = keras.Input(38,)\n",
        "#     outputs = inputs  \n",
        "#     self.encoder = tf.keras.Sequential([\n",
        "#       inputs,\n",
        "#       layers.Dense(256, activation='relu'),\n",
        "#       layers.BatchNormalization(),\n",
        "#       layers.Dropout(0.5),\n",
        "#       layers.Dense(128, activation='relu'),\n",
        "#       layers.BatchNormalization(),\n",
        "#       layers.Dropout(0.2),\n",
        "#       layers.Dense(64, activation='relu'),\n",
        "#       layers.Dense(32, activation='relu'),\n",
        "#       layers.Dense(latent_dim, activation='relu'),\n",
        "#     ])\n",
        "\n",
        "def create_encoder2(latent_dim):\n",
        "    encoder_input = Input(shape=(38,1))\n",
        "    x1 = Conv1D(filters=64, kernel_size=2, activation='relu')(encoder_input)\n",
        "    x2 = MaxPooling1D(pool_size=1)(x1)\n",
        "    x3 = Dropout(0.5)(x2)\n",
        "    x4 = Conv1D(filters=32, kernel_size=2, activation='relu')(x3)\n",
        "    x5 = MaxPooling1D(pool_size=1)(x4)\n",
        "    x6 = Flatten()(x5)\n",
        "    output_layer = Dense(latent_dim, activation='relu')(x6)\n",
        "    encoder2 = Model(encoder_input, output_layer)\n",
        "    return encoder2\n",
        "\n",
        "#   def call(self, x):\n",
        "#     encoded = self.encoder(x)\n",
        "#     return encoded"
      ]
    },
    {
      "cell_type": "markdown",
      "metadata": {
        "id": "UN1UZBoGGTVF"
      },
      "source": [
        "Encoder"
      ]
    },
    {
      "cell_type": "code",
      "execution_count": 32,
      "metadata": {
        "id": "l-zfik1dPNdx"
      },
      "outputs": [],
      "source": [
        "latent_dim = 30"
      ]
    },
    {
      "cell_type": "code",
      "execution_count": 33,
      "metadata": {
        "id": "Xl7W5XxsGOMx"
      },
      "outputs": [],
      "source": [
        "# def create_encoder1():\n",
        "#   encoder_input = Input(shape=(19,1))\n",
        "#   x1=Conv1D(filters=64, kernel_size=2, activation='relu')(encoder_input)\n",
        "#   x2=MaxPooling1D(pool_size=1)(x1)\n",
        "#   x3=tf.keras.layers.Dropout(0.5)(x2)\n",
        "#   x4=Conv1D(filters=32, kernel_size=2, activation='relu')(x3)\n",
        "#   x5=MaxPooling1D(pool_size=1)(x4)\n",
        "#   x6=Flatten()(x5)\n",
        "\n",
        "#   output_layer=Dense(latent_dim,activation='relu')(x6)\n",
        "\n",
        "#   encoder1 = Model(encoder_input, output_layer)\n",
        "#   return encoder1"
      ]
    },
    {
      "cell_type": "code",
      "execution_count": 34,
      "metadata": {
        "id": "F0C6WXDxHR_P"
      },
      "outputs": [],
      "source": [
        "# def create_encoder2():\n",
        "#   encoder_input = Input(shape=(38,1))\n",
        "#   x1=Conv1D(filters=64, kernel_size=2, activation='relu')(encoder_input)\n",
        "#   x2=MaxPooling1D(pool_size=1)(x1)\n",
        "#   x3=tf.keras.layers.Dropout(0.5)(x2)\n",
        "#   x4=Conv1D(filters=32, kernel_size=2, activation='relu')(x3)\n",
        "#   x5=MaxPooling1D(pool_size=1)(x4)\n",
        "#   x6=Flatten()(x5)\n",
        "\n",
        "#   output_layer=Dense(latent_dim,activation='relu')(x6)\n",
        "# # x2=Dense(64,activation='relu')(x1)\n",
        "# # x3=Dense(32,activation='relu')(x2)\n",
        "# # x4=Dense(16,activation='relu')(x3)\n",
        "# # x5=Dense(8,activation='relu')(x4)\n",
        "# # x6=Dense(4,activation='relu')(x5)\n",
        "# # output_layer = Dense(1, activation='sigmoid')(x1)\n",
        "\n",
        "#   encoder2 = Model(encoder_input, output_layer)\n",
        "#   return encoder2"
      ]
    },
    {
      "cell_type": "code",
      "execution_count": 35,
      "metadata": {
        "id": "CzXC95G_J0HX"
      },
      "outputs": [],
      "source": [
        "# def add_projection_head1(Encoder1, Encoder2):\n",
        "#   inp1 = keras.Input(shape=input_shape1)\n",
        "#   inp2 = keras.Input(shape=input_shape2)\n",
        "#   encoder_input = Input(shape=(38,1))\n",
        "#   x1=Conv1D(filters=64, kernel_size=2, activation='relu')(encoder_input)\n",
        "#   x2=MaxPooling1D(pool_size=1)(x1)\n",
        "#   x3=tf.keras.layers.Dropout(0.5)(x2)\n",
        "#   x4=Conv1D(filters=32, kernel_size=2, activation='relu')(x3)\n",
        "#   x5=MaxPooling1D(pool_size=1)(x4)\n",
        "#   x6=Flatten()(x5)\n",
        "\n",
        "#   output_layer=Dense(latent_dim,activation='relu')(x6)\n",
        "# # x2=Dense(64,activation='relu')(x1)\n",
        "# # x3=Dense(32,activation='relu')(x2)\n",
        "# # x4=Dense(16,activation='relu')(x3)\n",
        "# # x5=Dense(8,activation='relu')(x4)\n",
        "# # x6=Dense(4,activation='relu')(x5)\n",
        "# # output_layer = Dense(1, activation='sigmoid')(x1)\n",
        "\n",
        "#   encoder2 = Model(encoder_input, output_layer)\n",
        "#   return encoder2"
      ]
    },
    {
      "cell_type": "code",
      "execution_count": 36,
      "metadata": {
        "id": "_jEHY9QfZyxH"
      },
      "outputs": [],
      "source": [
        "# # def create_encoder1():\n",
        "# #     return Encoder1(latent_dim)\n",
        "\n",
        "# # def create_encoder2():\n",
        "# #     return Encoder2(latent_dim)\n",
        "\n",
        "def add_projection_head1(Encoder1, Encoder2):\n",
        "    inp1 = keras.Input(shape=input_shape1)\n",
        "    inp2 = keras.Input(shape=input_shape2)\n",
        "    hidden3a  = Encoder1(inp1)\n",
        "    hidden3b = Encoder2(inp2)\n",
        "    features = tf.keras.layers.Concatenate(axis=1)([hidden3a, hidden3b])\n",
        "    features = layers.Dense(16, activation=\"relu\")(features)\n",
        "    model = keras.Model(\n",
        "        inputs=[inp1, inp2], outputs=features, name=\"cifar-encoder_with_projection-head\"\n",
        "    )\n",
        "    return model"
      ]
    },
    {
      "cell_type": "code",
      "execution_count": 37,
      "metadata": {
        "id": "nCVSBp4TKjNM"
      },
      "outputs": [],
      "source": [
        "# def add_projection_head1():\n",
        "#     latent_dim = 10\n",
        "#     # Encoder 1\n",
        "#     encoder_input1 = Input(shape=(19, 1))\n",
        "#     x1_1 = Conv1D(filters=64, kernel_size=2, activation='relu')(encoder_input1)\n",
        "#     x2_1 = MaxPooling1D(pool_size=1)(x1_1)\n",
        "#     x3_1 = Dropout(0.5)(x2_1)\n",
        "#     x4_1 = Conv1D(filters=32, kernel_size=2, activation='relu')(x3_1)\n",
        "#     x5_1 = MaxPooling1D(pool_size=1)(x4_1)\n",
        "#     x6_1 = Flatten()(x5_1)\n",
        "#     output_layer1 = Dense(latent_dim, activation='relu')(x6_1)\n",
        "#     encoder1 = Model(encoder_input1, output_layer1)\n",
        "\n",
        "#     # Encoder 2\n",
        "#     encoder_input2 = Input(shape=(38, 1))\n",
        "#     x1_2 = Conv1D(filters=64, kernel_size=2, activation='relu')(encoder_input2)\n",
        "#     x2_2 = MaxPooling1D(pool_size=1)(x1_2)\n",
        "#     x3_2 = Dropout(0.5)(x2_2)\n",
        "#     x4_2 = Conv1D(filters=32, kernel_size=2, activation='relu')(x3_2)\n",
        "#     x5_2 = MaxPooling1D(pool_size=1)(x4_2)\n",
        "#     x6_2 = Flatten()(x5_2)\n",
        "#     output_layer2 = Dense(latent_dim, activation='relu')(x6_2)\n",
        "#     encoder2 = Model(encoder_input2, output_layer2)\n",
        "\n",
        "#     # Concatenated Projection Model\n",
        "#     concatenated_output = tf.keras.layers.concatenate([output_layer1, output_layer2])\n",
        "#     projection_model = Model(inputs=[encoder_input1, encoder_input2], outputs=concatenated_output)\n",
        "    \n",
        "#     return projection_model"
      ]
    },
    {
      "cell_type": "code",
      "execution_count": 38,
      "metadata": {
        "id": "xSS1tHvAZ4AA"
      },
      "outputs": [],
      "source": [
        "def create_classifier(encoder, trainable):\n",
        "\n",
        "    for layer in encoder.layers:\n",
        "        layer.trainable = trainable\n",
        "\n",
        "    inputs1 = keras.Input(shape=input_shape1)\n",
        "    inputs2 = keras.Input(shape=input_shape2)\n",
        "    features1 = encoder1(inputs1)\n",
        "    features2 = encoder2(inputs2)\n",
        "    features = tf.keras.layers.Concatenate(axis=1)([features1, features2])\n",
        "    # features = layers.Dropout(0.2)(features)\n",
        "    features = layers.Dense(hidden_units, activation=\"relu\")(features)\n",
        "    \n",
        "    features = layers.BatchNormalization()(features)\n",
        "    features = layers.Dropout(dropout_rate)(features)\n",
        "    features = layers.Dense(32, activation=\"relu\")(features)\n",
        "    features = layers.Dropout(0.2)(features)\n",
        "    features = layers.Dense(16, activation=\"relu\")(features)\n",
        "    # features = layers.BatchNormalization()(features)\n",
        "    # features = layers.Dropout(0.2)(features)\n",
        "    features = layers.Dense(4, activation=\"relu\")(features)\n",
        "    # features = layers.BatchNormalization()(features)\n",
        "    # features = layers.Dropout(0.1)(features)\n",
        "    outputs = layers.Dense(num_classes, activation=\"softmax\")(features)\n",
        "\n",
        "    model = keras.Model(inputs=[inputs1,inputs2], outputs=outputs)\n",
        "    model.compile(\n",
        "        optimizer=keras.optimizers.Adam(learning_rate),\n",
        "        loss=keras.losses.SparseCategoricalCrossentropy(),\n",
        "        metrics=[keras.metrics.SparseCategoricalAccuracy()],\n",
        "    )\n",
        "    return model"
      ]
    },
    {
      "cell_type": "code",
      "execution_count": 39,
      "metadata": {
        "colab": {
          "base_uri": "https://localhost:8080/"
        },
        "id": "MwDZc3Zn2TG6",
        "outputId": "63471c87-99c9-47ca-ebf1-44dfbec31210"
      },
      "outputs": [
        {
          "name": "stdout",
          "output_type": "stream",
          "text": [
            "(1178, 19)\n",
            "(1178, 38)\n",
            "(1178,)\n",
            "Model: \"cifar-encoder_with_projection-head\"\n",
            "__________________________________________________________________________________________________\n",
            " Layer (type)                   Output Shape         Param #     Connected to                     \n",
            "==================================================================================================\n",
            " input_13 (InputLayer)          [(None, 19)]         0           []                               \n",
            "                                                                                                  \n",
            " input_14 (InputLayer)          [(None, 38)]         0           []                               \n",
            "                                                                                                  \n",
            " model_5 (Functional)           (None, 10)           9770        ['input_13[0][0]']               \n",
            "                                                                                                  \n",
            " model_6 (Functional)           (None, 10)           15850       ['input_14[0][0]']               \n",
            "                                                                                                  \n",
            " concatenate_2 (Concatenate)    (None, 20)           0           ['model_5[0][0]',                \n",
            "                                                                  'model_6[0][0]']                \n",
            "                                                                                                  \n",
            " dense_21 (Dense)               (None, 16)           336         ['concatenate_2[0][0]']          \n",
            "                                                                                                  \n",
            "==================================================================================================\n",
            "Total params: 25,956\n",
            "Trainable params: 25,956\n",
            "Non-trainable params: 0\n",
            "__________________________________________________________________________________________________\n",
            "(None, 16)\n",
            "(None, 16)\n",
            "140/148 [===========================>..] - ETA: 0s - loss: 1.3258(None, 16)\n",
            "148/148 [==============================] - 2s 9ms/step - loss: 1.3194 - val_loss: 1.2061\n",
            "Model: \"model_7\"\n",
            "__________________________________________________________________________________________________\n",
            " Layer (type)                   Output Shape         Param #     Connected to                     \n",
            "==================================================================================================\n",
            " input_15 (InputLayer)          [(None, 19)]         0           []                               \n",
            "                                                                                                  \n",
            " input_16 (InputLayer)          [(None, 38)]         0           []                               \n",
            "                                                                                                  \n",
            " model_5 (Functional)           (None, 10)           9770        ['input_15[0][0]']               \n",
            "                                                                                                  \n",
            " model_6 (Functional)           (None, 10)           15850       ['input_16[0][0]']               \n",
            "                                                                                                  \n",
            " concatenate_3 (Concatenate)    (None, 20)           0           ['model_5[1][0]',                \n",
            "                                                                  'model_6[1][0]']                \n",
            "                                                                                                  \n",
            " dense_22 (Dense)               (None, 64)           1344        ['concatenate_3[0][0]']          \n",
            "                                                                                                  \n",
            " batch_normalization_4 (BatchNo  (None, 64)          256         ['dense_22[0][0]']               \n",
            " rmalization)                                                                                     \n",
            "                                                                                                  \n",
            " dropout_8 (Dropout)            (None, 64)           0           ['batch_normalization_4[0][0]']  \n",
            "                                                                                                  \n",
            " dense_23 (Dense)               (None, 32)           2080        ['dropout_8[0][0]']              \n",
            "                                                                                                  \n",
            " dropout_9 (Dropout)            (None, 32)           0           ['dense_23[0][0]']               \n",
            "                                                                                                  \n",
            " dense_24 (Dense)               (None, 16)           528         ['dropout_9[0][0]']              \n",
            "                                                                                                  \n",
            " dense_25 (Dense)               (None, 4)            68          ['dense_24[0][0]']               \n",
            "                                                                                                  \n",
            " dense_26 (Dense)               (None, 2)            10          ['dense_25[0][0]']               \n",
            "                                                                                                  \n",
            "==================================================================================================\n",
            "Total params: 29,906\n",
            "Trainable params: 4,158\n",
            "Non-trainable params: 25,748\n",
            "__________________________________________________________________________________________________\n",
            "Epoch 1/200\n",
            "295/295 [==============================] - 2s 4ms/step - loss: 0.6842 - sparse_categorical_accuracy: 0.5542 - val_loss: 0.6490 - val_sparse_categorical_accuracy: 0.5806\n",
            "Epoch 2/200\n",
            "295/295 [==============================] - 1s 3ms/step - loss: 0.6492 - sparse_categorical_accuracy: 0.6164 - val_loss: 0.5847 - val_sparse_categorical_accuracy: 0.6893\n",
            "Epoch 3/200\n",
            "295/295 [==============================] - 1s 3ms/step - loss: 0.6334 - sparse_categorical_accuracy: 0.6319 - val_loss: 0.5663 - val_sparse_categorical_accuracy: 0.7105\n",
            "Epoch 4/200\n",
            "295/295 [==============================] - 1s 3ms/step - loss: 0.6287 - sparse_categorical_accuracy: 0.6463 - val_loss: 0.5636 - val_sparse_categorical_accuracy: 0.7411\n",
            "Epoch 5/200\n",
            "295/295 [==============================] - 1s 3ms/step - loss: 0.6267 - sparse_categorical_accuracy: 0.6387 - val_loss: 0.5628 - val_sparse_categorical_accuracy: 0.7131\n",
            "Epoch 6/200\n",
            "295/295 [==============================] - 1s 3ms/step - loss: 0.6274 - sparse_categorical_accuracy: 0.6525 - val_loss: 0.5643 - val_sparse_categorical_accuracy: 0.7436\n",
            "Epoch 7/200\n",
            "295/295 [==============================] - 1s 3ms/step - loss: 0.6203 - sparse_categorical_accuracy: 0.6469 - val_loss: 0.5575 - val_sparse_categorical_accuracy: 0.7487\n",
            "Epoch 8/200\n",
            "295/295 [==============================] - 1s 3ms/step - loss: 0.6209 - sparse_categorical_accuracy: 0.6556 - val_loss: 0.5519 - val_sparse_categorical_accuracy: 0.7402\n",
            "Epoch 9/200\n",
            "295/295 [==============================] - 1s 3ms/step - loss: 0.6120 - sparse_categorical_accuracy: 0.6660 - val_loss: 0.5441 - val_sparse_categorical_accuracy: 0.7479\n",
            "Epoch 10/200\n",
            "295/295 [==============================] - 1s 3ms/step - loss: 0.6226 - sparse_categorical_accuracy: 0.6512 - val_loss: 0.5543 - val_sparse_categorical_accuracy: 0.7487\n",
            "Epoch 11/200\n",
            "295/295 [==============================] - 1s 3ms/step - loss: 0.6208 - sparse_categorical_accuracy: 0.6520 - val_loss: 0.5566 - val_sparse_categorical_accuracy: 0.7521\n",
            "Epoch 12/200\n",
            "295/295 [==============================] - 1s 3ms/step - loss: 0.6204 - sparse_categorical_accuracy: 0.6624 - val_loss: 0.5594 - val_sparse_categorical_accuracy: 0.7436\n",
            "Epoch 13/200\n",
            "295/295 [==============================] - 1s 3ms/step - loss: 0.6161 - sparse_categorical_accuracy: 0.6595 - val_loss: 0.5722 - val_sparse_categorical_accuracy: 0.7334\n",
            "Epoch 14/200\n",
            "295/295 [==============================] - 1s 3ms/step - loss: 0.6176 - sparse_categorical_accuracy: 0.6491 - val_loss: 0.5589 - val_sparse_categorical_accuracy: 0.7250\n",
            "Epoch 15/200\n",
            "295/295 [==============================] - 1s 3ms/step - loss: 0.6126 - sparse_categorical_accuracy: 0.6671 - val_loss: 0.5621 - val_sparse_categorical_accuracy: 0.7368\n",
            "Epoch 16/200\n",
            "295/295 [==============================] - 1s 3ms/step - loss: 0.6087 - sparse_categorical_accuracy: 0.6633 - val_loss: 0.5474 - val_sparse_categorical_accuracy: 0.7564\n",
            "Epoch 17/200\n",
            "295/295 [==============================] - 1s 3ms/step - loss: 0.6175 - sparse_categorical_accuracy: 0.6624 - val_loss: 0.5618 - val_sparse_categorical_accuracy: 0.7241\n",
            "Epoch 18/200\n",
            "295/295 [==============================] - 1s 3ms/step - loss: 0.6197 - sparse_categorical_accuracy: 0.6626 - val_loss: 0.5594 - val_sparse_categorical_accuracy: 0.7368\n",
            "Epoch 19/200\n",
            "295/295 [==============================] - 1s 3ms/step - loss: 0.6151 - sparse_categorical_accuracy: 0.6696 - val_loss: 0.5624 - val_sparse_categorical_accuracy: 0.7334\n",
            "Epoch 19: early stopping\n",
            "150/150 [==============================] - 0s 2ms/step - loss: 0.5832 - sparse_categorical_accuracy: 0.6993\n",
            "150/150 [==============================] - 0s 2ms/step\n",
            "Test accuracy: 69.931%\n",
            "Postprocessing Test accuracy: 75.235%\n",
            "Test F1_score: 58.881%\n",
            "Postprocessing F1_score: 71.829%\n",
            "(1178, 19)\n",
            "(1178, 38)\n",
            "(1178,)\n",
            "Model: \"cifar-encoder_with_projection-head\"\n",
            "__________________________________________________________________________________________________\n",
            " Layer (type)                   Output Shape         Param #     Connected to                     \n",
            "==================================================================================================\n",
            " input_19 (InputLayer)          [(None, 19)]         0           []                               \n",
            "                                                                                                  \n",
            " input_20 (InputLayer)          [(None, 38)]         0           []                               \n",
            "                                                                                                  \n",
            " model_8 (Functional)           (None, 10)           9770        ['input_19[0][0]']               \n",
            "                                                                                                  \n",
            " model_9 (Functional)           (None, 10)           15850       ['input_20[0][0]']               \n",
            "                                                                                                  \n",
            " concatenate_4 (Concatenate)    (None, 20)           0           ['model_8[0][0]',                \n",
            "                                                                  'model_9[0][0]']                \n",
            "                                                                                                  \n",
            " dense_29 (Dense)               (None, 16)           336         ['concatenate_4[0][0]']          \n",
            "                                                                                                  \n",
            "==================================================================================================\n",
            "Total params: 25,956\n",
            "Trainable params: 25,956\n",
            "Non-trainable params: 0\n",
            "__________________________________________________________________________________________________\n",
            "(None, 16)\n",
            "(None, 16)\n",
            "145/148 [============================>.] - ETA: 0s - loss: 1.2769(None, 16)\n",
            "148/148 [==============================] - 3s 10ms/step - loss: 1.2751 - val_loss: 1.2071\n",
            "Model: \"model_10\"\n",
            "__________________________________________________________________________________________________\n",
            " Layer (type)                   Output Shape         Param #     Connected to                     \n",
            "==================================================================================================\n",
            " input_21 (InputLayer)          [(None, 19)]         0           []                               \n",
            "                                                                                                  \n",
            " input_22 (InputLayer)          [(None, 38)]         0           []                               \n",
            "                                                                                                  \n",
            " model_8 (Functional)           (None, 10)           9770        ['input_21[0][0]']               \n",
            "                                                                                                  \n",
            " model_9 (Functional)           (None, 10)           15850       ['input_22[0][0]']               \n",
            "                                                                                                  \n",
            " concatenate_5 (Concatenate)    (None, 20)           0           ['model_8[1][0]',                \n",
            "                                                                  'model_9[1][0]']                \n",
            "                                                                                                  \n",
            " dense_30 (Dense)               (None, 64)           1344        ['concatenate_5[0][0]']          \n",
            "                                                                                                  \n",
            " batch_normalization_5 (BatchNo  (None, 64)          256         ['dense_30[0][0]']               \n",
            " rmalization)                                                                                     \n",
            "                                                                                                  \n",
            " dropout_12 (Dropout)           (None, 64)           0           ['batch_normalization_5[0][0]']  \n",
            "                                                                                                  \n",
            " dense_31 (Dense)               (None, 32)           2080        ['dropout_12[0][0]']             \n",
            "                                                                                                  \n",
            " dropout_13 (Dropout)           (None, 32)           0           ['dense_31[0][0]']               \n",
            "                                                                                                  \n",
            " dense_32 (Dense)               (None, 16)           528         ['dropout_13[0][0]']             \n",
            "                                                                                                  \n",
            " dense_33 (Dense)               (None, 4)            68          ['dense_32[0][0]']               \n",
            "                                                                                                  \n",
            " dense_34 (Dense)               (None, 2)            10          ['dense_33[0][0]']               \n",
            "                                                                                                  \n",
            "==================================================================================================\n",
            "Total params: 29,906\n",
            "Trainable params: 4,158\n",
            "Non-trainable params: 25,748\n",
            "__________________________________________________________________________________________________\n",
            "Epoch 1/200\n"
          ]
        },
        {
          "ename": "KeyboardInterrupt",
          "evalue": "",
          "output_type": "error",
          "traceback": [
            "\u001b[0;31m---------------------------------------------------------------------------\u001b[0m",
            "\u001b[0;31mKeyboardInterrupt\u001b[0m                         Traceback (most recent call last)",
            "Cell \u001b[0;32mIn[39], line 41\u001b[0m\n\u001b[1;32m     39\u001b[0m classifier \u001b[39m=\u001b[39m create_classifier(encoder_with_projection_head, trainable\u001b[39m=\u001b[39m\u001b[39mFalse\u001b[39;00m)\n\u001b[1;32m     40\u001b[0m classifier\u001b[39m.\u001b[39msummary()\n\u001b[0;32m---> 41\u001b[0m history \u001b[39m=\u001b[39m classifier\u001b[39m.\u001b[39;49mfit(x\u001b[39m=\u001b[39;49m[xtra_a,xtra_ac], y\u001b[39m=\u001b[39;49mytra_ac, validation_data \u001b[39m=\u001b[39;49m([xval_a,xval_ac],yval_ac), batch_size\u001b[39m=\u001b[39;49mbatch_size, epochs\u001b[39m=\u001b[39;49mnum_epochs, callbacks\u001b[39m=\u001b[39;49m[EarlyStopping(monitor\u001b[39m=\u001b[39;49m\u001b[39m'\u001b[39;49m\u001b[39mval_loss\u001b[39;49m\u001b[39m'\u001b[39;49m, mode\u001b[39m=\u001b[39;49m\u001b[39m'\u001b[39;49m\u001b[39mmin\u001b[39;49m\u001b[39m'\u001b[39;49m, verbose\u001b[39m=\u001b[39;49m\u001b[39m1\u001b[39;49m, patience\u001b[39m=\u001b[39;49m\u001b[39m10\u001b[39;49m)])\n\u001b[1;32m     43\u001b[0m accuracy \u001b[39m=\u001b[39m classifier\u001b[39m.\u001b[39mevaluate([xtest_a,xtest_ac], ytest)[\u001b[39m1\u001b[39m]\n\u001b[1;32m     45\u001b[0m \u001b[39m##  Accuracy on post processed labels (each word should contain only one stressed syllable)\u001b[39;00m\n",
            "File \u001b[0;32m~/.pyenv/versions/3.11.1/lib/python3.11/site-packages/keras/utils/traceback_utils.py:65\u001b[0m, in \u001b[0;36mfilter_traceback.<locals>.error_handler\u001b[0;34m(*args, **kwargs)\u001b[0m\n\u001b[1;32m     63\u001b[0m filtered_tb \u001b[39m=\u001b[39m \u001b[39mNone\u001b[39;00m\n\u001b[1;32m     64\u001b[0m \u001b[39mtry\u001b[39;00m:\n\u001b[0;32m---> 65\u001b[0m     \u001b[39mreturn\u001b[39;00m fn(\u001b[39m*\u001b[39;49margs, \u001b[39m*\u001b[39;49m\u001b[39m*\u001b[39;49mkwargs)\n\u001b[1;32m     66\u001b[0m \u001b[39mexcept\u001b[39;00m \u001b[39mException\u001b[39;00m \u001b[39mas\u001b[39;00m e:\n\u001b[1;32m     67\u001b[0m     filtered_tb \u001b[39m=\u001b[39m _process_traceback_frames(e\u001b[39m.\u001b[39m__traceback__)\n",
            "File \u001b[0;32m~/.pyenv/versions/3.11.1/lib/python3.11/site-packages/keras/engine/training.py:1685\u001b[0m, in \u001b[0;36mModel.fit\u001b[0;34m(self, x, y, batch_size, epochs, verbose, callbacks, validation_split, validation_data, shuffle, class_weight, sample_weight, initial_epoch, steps_per_epoch, validation_steps, validation_batch_size, validation_freq, max_queue_size, workers, use_multiprocessing)\u001b[0m\n\u001b[1;32m   1677\u001b[0m \u001b[39mwith\u001b[39;00m tf\u001b[39m.\u001b[39mprofiler\u001b[39m.\u001b[39mexperimental\u001b[39m.\u001b[39mTrace(\n\u001b[1;32m   1678\u001b[0m     \u001b[39m\"\u001b[39m\u001b[39mtrain\u001b[39m\u001b[39m\"\u001b[39m,\n\u001b[1;32m   1679\u001b[0m     epoch_num\u001b[39m=\u001b[39mepoch,\n\u001b[0;32m   (...)\u001b[0m\n\u001b[1;32m   1682\u001b[0m     _r\u001b[39m=\u001b[39m\u001b[39m1\u001b[39m,\n\u001b[1;32m   1683\u001b[0m ):\n\u001b[1;32m   1684\u001b[0m     callbacks\u001b[39m.\u001b[39mon_train_batch_begin(step)\n\u001b[0;32m-> 1685\u001b[0m     tmp_logs \u001b[39m=\u001b[39m \u001b[39mself\u001b[39;49m\u001b[39m.\u001b[39;49mtrain_function(iterator)\n\u001b[1;32m   1686\u001b[0m     \u001b[39mif\u001b[39;00m data_handler\u001b[39m.\u001b[39mshould_sync:\n\u001b[1;32m   1687\u001b[0m         context\u001b[39m.\u001b[39masync_wait()\n",
            "File \u001b[0;32m~/.pyenv/versions/3.11.1/lib/python3.11/site-packages/tensorflow/python/util/traceback_utils.py:150\u001b[0m, in \u001b[0;36mfilter_traceback.<locals>.error_handler\u001b[0;34m(*args, **kwargs)\u001b[0m\n\u001b[1;32m    148\u001b[0m filtered_tb \u001b[39m=\u001b[39m \u001b[39mNone\u001b[39;00m\n\u001b[1;32m    149\u001b[0m \u001b[39mtry\u001b[39;00m:\n\u001b[0;32m--> 150\u001b[0m   \u001b[39mreturn\u001b[39;00m fn(\u001b[39m*\u001b[39;49margs, \u001b[39m*\u001b[39;49m\u001b[39m*\u001b[39;49mkwargs)\n\u001b[1;32m    151\u001b[0m \u001b[39mexcept\u001b[39;00m \u001b[39mException\u001b[39;00m \u001b[39mas\u001b[39;00m e:\n\u001b[1;32m    152\u001b[0m   filtered_tb \u001b[39m=\u001b[39m _process_traceback_frames(e\u001b[39m.\u001b[39m__traceback__)\n",
            "File \u001b[0;32m~/.pyenv/versions/3.11.1/lib/python3.11/site-packages/tensorflow/python/eager/polymorphic_function/polymorphic_function.py:894\u001b[0m, in \u001b[0;36mFunction.__call__\u001b[0;34m(self, *args, **kwds)\u001b[0m\n\u001b[1;32m    891\u001b[0m compiler \u001b[39m=\u001b[39m \u001b[39m\"\u001b[39m\u001b[39mxla\u001b[39m\u001b[39m\"\u001b[39m \u001b[39mif\u001b[39;00m \u001b[39mself\u001b[39m\u001b[39m.\u001b[39m_jit_compile \u001b[39melse\u001b[39;00m \u001b[39m\"\u001b[39m\u001b[39mnonXla\u001b[39m\u001b[39m\"\u001b[39m\n\u001b[1;32m    893\u001b[0m \u001b[39mwith\u001b[39;00m OptionalXlaContext(\u001b[39mself\u001b[39m\u001b[39m.\u001b[39m_jit_compile):\n\u001b[0;32m--> 894\u001b[0m   result \u001b[39m=\u001b[39m \u001b[39mself\u001b[39;49m\u001b[39m.\u001b[39;49m_call(\u001b[39m*\u001b[39;49margs, \u001b[39m*\u001b[39;49m\u001b[39m*\u001b[39;49mkwds)\n\u001b[1;32m    896\u001b[0m new_tracing_count \u001b[39m=\u001b[39m \u001b[39mself\u001b[39m\u001b[39m.\u001b[39mexperimental_get_tracing_count()\n\u001b[1;32m    897\u001b[0m without_tracing \u001b[39m=\u001b[39m (tracing_count \u001b[39m==\u001b[39m new_tracing_count)\n",
            "File \u001b[0;32m~/.pyenv/versions/3.11.1/lib/python3.11/site-packages/tensorflow/python/eager/polymorphic_function/polymorphic_function.py:959\u001b[0m, in \u001b[0;36mFunction._call\u001b[0;34m(self, *args, **kwds)\u001b[0m\n\u001b[1;32m    955\u001b[0m     \u001b[39mpass\u001b[39;00m  \u001b[39m# Fall through to cond-based initialization.\u001b[39;00m\n\u001b[1;32m    956\u001b[0m   \u001b[39melse\u001b[39;00m:\n\u001b[1;32m    957\u001b[0m     \u001b[39m# Lifting succeeded, so variables are initialized and we can run the\u001b[39;00m\n\u001b[1;32m    958\u001b[0m     \u001b[39m# no_variable_creation function.\u001b[39;00m\n\u001b[0;32m--> 959\u001b[0m     \u001b[39mreturn\u001b[39;00m \u001b[39mself\u001b[39;49m\u001b[39m.\u001b[39;49m_no_variable_creation_fn(\u001b[39m*\u001b[39;49margs, \u001b[39m*\u001b[39;49m\u001b[39m*\u001b[39;49mkwds)\n\u001b[1;32m    960\u001b[0m \u001b[39melse\u001b[39;00m:\n\u001b[1;32m    961\u001b[0m   _, _, filtered_flat_args \u001b[39m=\u001b[39m (\n\u001b[1;32m    962\u001b[0m       \u001b[39mself\u001b[39m\u001b[39m.\u001b[39m_variable_creation_fn\u001b[39m.\u001b[39m_function_spec  \u001b[39m# pylint: disable=protected-access\u001b[39;00m\n\u001b[1;32m    963\u001b[0m       \u001b[39m.\u001b[39mcanonicalize_function_inputs(\n\u001b[1;32m    964\u001b[0m           args, kwds))\n",
            "File \u001b[0;32m~/.pyenv/versions/3.11.1/lib/python3.11/site-packages/tensorflow/python/eager/polymorphic_function/tracing_compiler.py:142\u001b[0m, in \u001b[0;36mTracingCompiler.__call__\u001b[0;34m(self, *args, **kwargs)\u001b[0m\n\u001b[1;32m    139\u001b[0m \u001b[39m\u001b[39m\u001b[39m\"\"\"Calls a graph function specialized to the inputs.\"\"\"\u001b[39;00m\n\u001b[1;32m    140\u001b[0m \u001b[39mwith\u001b[39;00m \u001b[39mself\u001b[39m\u001b[39m.\u001b[39m_lock:\n\u001b[1;32m    141\u001b[0m   (concrete_function,\n\u001b[0;32m--> 142\u001b[0m    filtered_flat_args) \u001b[39m=\u001b[39m \u001b[39mself\u001b[39;49m\u001b[39m.\u001b[39;49m_maybe_define_function(args, kwargs)\n\u001b[1;32m    143\u001b[0m \u001b[39mreturn\u001b[39;00m concrete_function\u001b[39m.\u001b[39m_call_flat(\n\u001b[1;32m    144\u001b[0m     filtered_flat_args, captured_inputs\u001b[39m=\u001b[39mconcrete_function\u001b[39m.\u001b[39mcaptured_inputs)\n",
            "File \u001b[0;32m~/.pyenv/versions/3.11.1/lib/python3.11/site-packages/tensorflow/python/eager/polymorphic_function/tracing_compiler.py:396\u001b[0m, in \u001b[0;36mTracingCompiler._maybe_define_function\u001b[0;34m(self, args, kwargs)\u001b[0m\n\u001b[1;32m    393\u001b[0m   args \u001b[39m=\u001b[39m placeholder_bound_args\u001b[39m.\u001b[39margs\n\u001b[1;32m    394\u001b[0m kwargs \u001b[39m=\u001b[39m placeholder_bound_args\u001b[39m.\u001b[39mkwargs\n\u001b[0;32m--> 396\u001b[0m concrete_function \u001b[39m=\u001b[39m \u001b[39mself\u001b[39;49m\u001b[39m.\u001b[39;49m_create_concrete_function(\n\u001b[1;32m    397\u001b[0m     args, kwargs, func_graph)\n\u001b[1;32m    399\u001b[0m \u001b[39m# TODO(b/263520817): Remove access to private attribute.\u001b[39;00m\n\u001b[1;32m    400\u001b[0m graph_capture_container \u001b[39m=\u001b[39m concrete_function\u001b[39m.\u001b[39mgraph\u001b[39m.\u001b[39m_function_captures  \u001b[39m# pylint: disable=protected-access\u001b[39;00m\n",
            "File \u001b[0;32m~/.pyenv/versions/3.11.1/lib/python3.11/site-packages/tensorflow/python/eager/polymorphic_function/tracing_compiler.py:300\u001b[0m, in \u001b[0;36mTracingCompiler._create_concrete_function\u001b[0;34m(self, args, kwargs, func_graph)\u001b[0m\n\u001b[1;32m    296\u001b[0m \u001b[39melse\u001b[39;00m:\n\u001b[1;32m    297\u001b[0m   arg_names \u001b[39m=\u001b[39m base_arg_names\n\u001b[1;32m    299\u001b[0m concrete_function \u001b[39m=\u001b[39m monomorphic_function\u001b[39m.\u001b[39mConcreteFunction(\n\u001b[0;32m--> 300\u001b[0m     func_graph_module\u001b[39m.\u001b[39;49mfunc_graph_from_py_func(\n\u001b[1;32m    301\u001b[0m         \u001b[39mself\u001b[39;49m\u001b[39m.\u001b[39;49m_name,\n\u001b[1;32m    302\u001b[0m         \u001b[39mself\u001b[39;49m\u001b[39m.\u001b[39;49m_python_function,\n\u001b[1;32m    303\u001b[0m         args,\n\u001b[1;32m    304\u001b[0m         kwargs,\n\u001b[1;32m    305\u001b[0m         \u001b[39mNone\u001b[39;49;00m,\n\u001b[1;32m    306\u001b[0m         func_graph\u001b[39m=\u001b[39;49mfunc_graph,\n\u001b[1;32m    307\u001b[0m         autograph\u001b[39m=\u001b[39;49m\u001b[39mself\u001b[39;49m\u001b[39m.\u001b[39;49m_autograph,\n\u001b[1;32m    308\u001b[0m         autograph_options\u001b[39m=\u001b[39;49m\u001b[39mself\u001b[39;49m\u001b[39m.\u001b[39;49m_autograph_options,\n\u001b[1;32m    309\u001b[0m         arg_names\u001b[39m=\u001b[39;49marg_names,\n\u001b[1;32m    310\u001b[0m         capture_by_value\u001b[39m=\u001b[39;49m\u001b[39mself\u001b[39;49m\u001b[39m.\u001b[39;49m_capture_by_value,\n\u001b[1;32m    311\u001b[0m         create_placeholders\u001b[39m=\u001b[39;49m\u001b[39mFalse\u001b[39;49;00m),\n\u001b[1;32m    312\u001b[0m     \u001b[39mself\u001b[39m\u001b[39m.\u001b[39m_function_attributes,\n\u001b[1;32m    313\u001b[0m     spec\u001b[39m=\u001b[39m\u001b[39mself\u001b[39m\u001b[39m.\u001b[39mfunction_spec,\n\u001b[1;32m    314\u001b[0m     \u001b[39m# Tell the ConcreteFunction to clean up its graph once it goes out of\u001b[39;00m\n\u001b[1;32m    315\u001b[0m     \u001b[39m# scope. This is not the default behavior since it gets used in some\u001b[39;00m\n\u001b[1;32m    316\u001b[0m     \u001b[39m# places (like Keras) where the FuncGraph lives longer than the\u001b[39;00m\n\u001b[1;32m    317\u001b[0m     \u001b[39m# ConcreteFunction.\u001b[39;00m\n\u001b[1;32m    318\u001b[0m     shared_func_graph\u001b[39m=\u001b[39m\u001b[39mFalse\u001b[39;00m)\n\u001b[1;32m    319\u001b[0m \u001b[39mreturn\u001b[39;00m concrete_function\n",
            "File \u001b[0;32m~/.pyenv/versions/3.11.1/lib/python3.11/site-packages/tensorflow/python/framework/func_graph.py:1214\u001b[0m, in \u001b[0;36mfunc_graph_from_py_func\u001b[0;34m(name, python_func, args, kwargs, signature, func_graph, autograph, autograph_options, add_control_dependencies, arg_names, op_return_value, collections, capture_by_value, create_placeholders, acd_record_initial_resource_uses)\u001b[0m\n\u001b[1;32m   1211\u001b[0m \u001b[39melse\u001b[39;00m:\n\u001b[1;32m   1212\u001b[0m   _, original_func \u001b[39m=\u001b[39m tf_decorator\u001b[39m.\u001b[39munwrap(python_func)\n\u001b[0;32m-> 1214\u001b[0m func_outputs \u001b[39m=\u001b[39m python_func(\u001b[39m*\u001b[39;49mfunc_args, \u001b[39m*\u001b[39;49m\u001b[39m*\u001b[39;49mfunc_kwargs)\n\u001b[1;32m   1216\u001b[0m \u001b[39m# invariant: `func_outputs` contains only Tensors, CompositeTensors,\u001b[39;00m\n\u001b[1;32m   1217\u001b[0m \u001b[39m# TensorArrays and `None`s.\u001b[39;00m\n\u001b[1;32m   1218\u001b[0m func_outputs \u001b[39m=\u001b[39m variable_utils\u001b[39m.\u001b[39mconvert_variables_to_tensors(func_outputs)\n",
            "File \u001b[0;32m~/.pyenv/versions/3.11.1/lib/python3.11/site-packages/tensorflow/python/eager/polymorphic_function/polymorphic_function.py:667\u001b[0m, in \u001b[0;36mFunction._compiler_with_scope.<locals>.wrapped_fn\u001b[0;34m(*args, **kwds)\u001b[0m\n\u001b[1;32m    663\u001b[0m \u001b[39mwith\u001b[39;00m default_graph\u001b[39m.\u001b[39m_variable_creator_scope(scope, priority\u001b[39m=\u001b[39m\u001b[39m50\u001b[39m):  \u001b[39m# pylint: disable=protected-access\u001b[39;00m\n\u001b[1;32m    664\u001b[0m   \u001b[39m# __wrapped__ allows AutoGraph to swap in a converted function. We give\u001b[39;00m\n\u001b[1;32m    665\u001b[0m   \u001b[39m# the function a weak reference to itself to avoid a reference cycle.\u001b[39;00m\n\u001b[1;32m    666\u001b[0m   \u001b[39mwith\u001b[39;00m OptionalXlaContext(compile_with_xla):\n\u001b[0;32m--> 667\u001b[0m     out \u001b[39m=\u001b[39m weak_wrapped_fn()\u001b[39m.\u001b[39;49m__wrapped__(\u001b[39m*\u001b[39;49margs, \u001b[39m*\u001b[39;49m\u001b[39m*\u001b[39;49mkwds)\n\u001b[1;32m    668\u001b[0m   \u001b[39mreturn\u001b[39;00m out\n",
            "File \u001b[0;32m~/.pyenv/versions/3.11.1/lib/python3.11/site-packages/tensorflow/python/framework/func_graph.py:1189\u001b[0m, in \u001b[0;36mfunc_graph_from_py_func.<locals>.autograph_handler\u001b[0;34m(*args, **kwargs)\u001b[0m\n\u001b[1;32m   1187\u001b[0m \u001b[39m# TODO(mdan): Push this block higher in tf.function's call stack.\u001b[39;00m\n\u001b[1;32m   1188\u001b[0m \u001b[39mtry\u001b[39;00m:\n\u001b[0;32m-> 1189\u001b[0m   \u001b[39mreturn\u001b[39;00m autograph\u001b[39m.\u001b[39;49mconverted_call(\n\u001b[1;32m   1190\u001b[0m       original_func,\n\u001b[1;32m   1191\u001b[0m       args,\n\u001b[1;32m   1192\u001b[0m       kwargs,\n\u001b[1;32m   1193\u001b[0m       options\u001b[39m=\u001b[39;49mautograph\u001b[39m.\u001b[39;49mConversionOptions(\n\u001b[1;32m   1194\u001b[0m           recursive\u001b[39m=\u001b[39;49m\u001b[39mTrue\u001b[39;49;00m,\n\u001b[1;32m   1195\u001b[0m           optional_features\u001b[39m=\u001b[39;49mautograph_options,\n\u001b[1;32m   1196\u001b[0m           user_requested\u001b[39m=\u001b[39;49m\u001b[39mTrue\u001b[39;49;00m,\n\u001b[1;32m   1197\u001b[0m       ))\n\u001b[1;32m   1198\u001b[0m \u001b[39mexcept\u001b[39;00m \u001b[39mException\u001b[39;00m \u001b[39mas\u001b[39;00m e:  \u001b[39m# pylint:disable=broad-except\u001b[39;00m\n\u001b[1;32m   1199\u001b[0m   \u001b[39mif\u001b[39;00m \u001b[39mhasattr\u001b[39m(e, \u001b[39m\"\u001b[39m\u001b[39mag_error_metadata\u001b[39m\u001b[39m\"\u001b[39m):\n",
            "File \u001b[0;32m~/.pyenv/versions/3.11.1/lib/python3.11/site-packages/tensorflow/python/autograph/impl/api.py:439\u001b[0m, in \u001b[0;36mconverted_call\u001b[0;34m(f, args, kwargs, caller_fn_scope, options)\u001b[0m\n\u001b[1;32m    437\u001b[0m \u001b[39mtry\u001b[39;00m:\n\u001b[1;32m    438\u001b[0m   \u001b[39mif\u001b[39;00m kwargs \u001b[39mis\u001b[39;00m \u001b[39mnot\u001b[39;00m \u001b[39mNone\u001b[39;00m:\n\u001b[0;32m--> 439\u001b[0m     result \u001b[39m=\u001b[39m converted_f(\u001b[39m*\u001b[39;49meffective_args, \u001b[39m*\u001b[39;49m\u001b[39m*\u001b[39;49mkwargs)\n\u001b[1;32m    440\u001b[0m   \u001b[39melse\u001b[39;00m:\n\u001b[1;32m    441\u001b[0m     result \u001b[39m=\u001b[39m converted_f(\u001b[39m*\u001b[39meffective_args)\n",
            "File \u001b[0;32m/tmp/__autograph_generated_file4z6ranao.py:15\u001b[0m, in \u001b[0;36mouter_factory.<locals>.inner_factory.<locals>.tf__train_function\u001b[0;34m(iterator)\u001b[0m\n\u001b[1;32m     13\u001b[0m \u001b[39mtry\u001b[39;00m:\n\u001b[1;32m     14\u001b[0m     do_return \u001b[39m=\u001b[39m \u001b[39mTrue\u001b[39;00m\n\u001b[0;32m---> 15\u001b[0m     retval_ \u001b[39m=\u001b[39m ag__\u001b[39m.\u001b[39;49mconverted_call(ag__\u001b[39m.\u001b[39;49mld(step_function), (ag__\u001b[39m.\u001b[39;49mld(\u001b[39mself\u001b[39;49m), ag__\u001b[39m.\u001b[39;49mld(iterator)), \u001b[39mNone\u001b[39;49;00m, fscope)\n\u001b[1;32m     16\u001b[0m \u001b[39mexcept\u001b[39;00m:\n\u001b[1;32m     17\u001b[0m     do_return \u001b[39m=\u001b[39m \u001b[39mFalse\u001b[39;00m\n",
            "File \u001b[0;32m~/.pyenv/versions/3.11.1/lib/python3.11/site-packages/tensorflow/python/autograph/impl/api.py:331\u001b[0m, in \u001b[0;36mconverted_call\u001b[0;34m(f, args, kwargs, caller_fn_scope, options)\u001b[0m\n\u001b[1;32m    329\u001b[0m \u001b[39mif\u001b[39;00m conversion\u001b[39m.\u001b[39mis_in_allowlist_cache(f, options):\n\u001b[1;32m    330\u001b[0m   logging\u001b[39m.\u001b[39mlog(\u001b[39m2\u001b[39m, \u001b[39m'\u001b[39m\u001b[39mAllowlisted \u001b[39m\u001b[39m%s\u001b[39;00m\u001b[39m: from cache\u001b[39m\u001b[39m'\u001b[39m, f)\n\u001b[0;32m--> 331\u001b[0m   \u001b[39mreturn\u001b[39;00m _call_unconverted(f, args, kwargs, options, \u001b[39mFalse\u001b[39;49;00m)\n\u001b[1;32m    333\u001b[0m \u001b[39mif\u001b[39;00m ag_ctx\u001b[39m.\u001b[39mcontrol_status_ctx()\u001b[39m.\u001b[39mstatus \u001b[39m==\u001b[39m ag_ctx\u001b[39m.\u001b[39mStatus\u001b[39m.\u001b[39mDISABLED:\n\u001b[1;32m    334\u001b[0m   logging\u001b[39m.\u001b[39mlog(\u001b[39m2\u001b[39m, \u001b[39m'\u001b[39m\u001b[39mAllowlisted: \u001b[39m\u001b[39m%s\u001b[39;00m\u001b[39m: AutoGraph is disabled in context\u001b[39m\u001b[39m'\u001b[39m, f)\n",
            "File \u001b[0;32m~/.pyenv/versions/3.11.1/lib/python3.11/site-packages/tensorflow/python/autograph/impl/api.py:459\u001b[0m, in \u001b[0;36m_call_unconverted\u001b[0;34m(f, args, kwargs, options, update_cache)\u001b[0m\n\u001b[1;32m    457\u001b[0m \u001b[39mif\u001b[39;00m kwargs \u001b[39mis\u001b[39;00m \u001b[39mnot\u001b[39;00m \u001b[39mNone\u001b[39;00m:\n\u001b[1;32m    458\u001b[0m   \u001b[39mreturn\u001b[39;00m f(\u001b[39m*\u001b[39margs, \u001b[39m*\u001b[39m\u001b[39m*\u001b[39mkwargs)\n\u001b[0;32m--> 459\u001b[0m \u001b[39mreturn\u001b[39;00m f(\u001b[39m*\u001b[39;49margs)\n",
            "File \u001b[0;32m~/.pyenv/versions/3.11.1/lib/python3.11/site-packages/keras/engine/training.py:1268\u001b[0m, in \u001b[0;36mModel.make_train_function.<locals>.step_function\u001b[0;34m(model, iterator)\u001b[0m\n\u001b[1;32m   1264\u001b[0m     run_step \u001b[39m=\u001b[39m tf\u001b[39m.\u001b[39mfunction(\n\u001b[1;32m   1265\u001b[0m         run_step, jit_compile\u001b[39m=\u001b[39m\u001b[39mTrue\u001b[39;00m, reduce_retracing\u001b[39m=\u001b[39m\u001b[39mTrue\u001b[39;00m\n\u001b[1;32m   1266\u001b[0m     )\n\u001b[1;32m   1267\u001b[0m data \u001b[39m=\u001b[39m \u001b[39mnext\u001b[39m(iterator)\n\u001b[0;32m-> 1268\u001b[0m outputs \u001b[39m=\u001b[39m model\u001b[39m.\u001b[39;49mdistribute_strategy\u001b[39m.\u001b[39;49mrun(run_step, args\u001b[39m=\u001b[39;49m(data,))\n\u001b[1;32m   1269\u001b[0m outputs \u001b[39m=\u001b[39m reduce_per_replica(\n\u001b[1;32m   1270\u001b[0m     outputs,\n\u001b[1;32m   1271\u001b[0m     \u001b[39mself\u001b[39m\u001b[39m.\u001b[39mdistribute_strategy,\n\u001b[1;32m   1272\u001b[0m     reduction\u001b[39m=\u001b[39m\u001b[39mself\u001b[39m\u001b[39m.\u001b[39mdistribute_reduction_method,\n\u001b[1;32m   1273\u001b[0m )\n\u001b[1;32m   1274\u001b[0m \u001b[39mreturn\u001b[39;00m outputs\n",
            "File \u001b[0;32m~/.pyenv/versions/3.11.1/lib/python3.11/site-packages/tensorflow/python/distribute/distribute_lib.py:1316\u001b[0m, in \u001b[0;36mStrategyBase.run\u001b[0;34m(***failed resolving arguments***)\u001b[0m\n\u001b[1;32m   1311\u001b[0m \u001b[39mwith\u001b[39;00m \u001b[39mself\u001b[39m\u001b[39m.\u001b[39mscope():\n\u001b[1;32m   1312\u001b[0m   \u001b[39m# tf.distribute supports Eager functions, so AutoGraph should not be\u001b[39;00m\n\u001b[1;32m   1313\u001b[0m   \u001b[39m# applied when the caller is also in Eager mode.\u001b[39;00m\n\u001b[1;32m   1314\u001b[0m   fn \u001b[39m=\u001b[39m autograph\u001b[39m.\u001b[39mtf_convert(\n\u001b[1;32m   1315\u001b[0m       fn, autograph_ctx\u001b[39m.\u001b[39mcontrol_status_ctx(), convert_by_default\u001b[39m=\u001b[39m\u001b[39mFalse\u001b[39;00m)\n\u001b[0;32m-> 1316\u001b[0m   \u001b[39mreturn\u001b[39;00m \u001b[39mself\u001b[39;49m\u001b[39m.\u001b[39;49m_extended\u001b[39m.\u001b[39;49mcall_for_each_replica(fn, args\u001b[39m=\u001b[39;49margs, kwargs\u001b[39m=\u001b[39;49mkwargs)\n",
            "File \u001b[0;32m~/.pyenv/versions/3.11.1/lib/python3.11/site-packages/tensorflow/python/distribute/distribute_lib.py:2895\u001b[0m, in \u001b[0;36mStrategyExtendedV1.call_for_each_replica\u001b[0;34m(self, fn, args, kwargs)\u001b[0m\n\u001b[1;32m   2893\u001b[0m   kwargs \u001b[39m=\u001b[39m {}\n\u001b[1;32m   2894\u001b[0m \u001b[39mwith\u001b[39;00m \u001b[39mself\u001b[39m\u001b[39m.\u001b[39m_container_strategy()\u001b[39m.\u001b[39mscope():\n\u001b[0;32m-> 2895\u001b[0m   \u001b[39mreturn\u001b[39;00m \u001b[39mself\u001b[39;49m\u001b[39m.\u001b[39;49m_call_for_each_replica(fn, args, kwargs)\n",
            "File \u001b[0;32m~/.pyenv/versions/3.11.1/lib/python3.11/site-packages/tensorflow/python/distribute/distribute_lib.py:3696\u001b[0m, in \u001b[0;36m_DefaultDistributionExtended._call_for_each_replica\u001b[0;34m(self, fn, args, kwargs)\u001b[0m\n\u001b[1;32m   3694\u001b[0m \u001b[39mdef\u001b[39;00m \u001b[39m_call_for_each_replica\u001b[39m(\u001b[39mself\u001b[39m, fn, args, kwargs):\n\u001b[1;32m   3695\u001b[0m   \u001b[39mwith\u001b[39;00m ReplicaContext(\u001b[39mself\u001b[39m\u001b[39m.\u001b[39m_container_strategy(), replica_id_in_sync_group\u001b[39m=\u001b[39m\u001b[39m0\u001b[39m):\n\u001b[0;32m-> 3696\u001b[0m     \u001b[39mreturn\u001b[39;00m fn(\u001b[39m*\u001b[39;49margs, \u001b[39m*\u001b[39;49m\u001b[39m*\u001b[39;49mkwargs)\n",
            "File \u001b[0;32m~/.pyenv/versions/3.11.1/lib/python3.11/site-packages/tensorflow/python/autograph/impl/api.py:689\u001b[0m, in \u001b[0;36mconvert.<locals>.decorator.<locals>.wrapper\u001b[0;34m(*args, **kwargs)\u001b[0m\n\u001b[1;32m    687\u001b[0m \u001b[39mtry\u001b[39;00m:\n\u001b[1;32m    688\u001b[0m   \u001b[39mwith\u001b[39;00m conversion_ctx:\n\u001b[0;32m--> 689\u001b[0m     \u001b[39mreturn\u001b[39;00m converted_call(f, args, kwargs, options\u001b[39m=\u001b[39;49moptions)\n\u001b[1;32m    690\u001b[0m \u001b[39mexcept\u001b[39;00m \u001b[39mException\u001b[39;00m \u001b[39mas\u001b[39;00m e:  \u001b[39m# pylint:disable=broad-except\u001b[39;00m\n\u001b[1;32m    691\u001b[0m   \u001b[39mif\u001b[39;00m \u001b[39mhasattr\u001b[39m(e, \u001b[39m'\u001b[39m\u001b[39mag_error_metadata\u001b[39m\u001b[39m'\u001b[39m):\n",
            "File \u001b[0;32m~/.pyenv/versions/3.11.1/lib/python3.11/site-packages/tensorflow/python/autograph/impl/api.py:377\u001b[0m, in \u001b[0;36mconverted_call\u001b[0;34m(f, args, kwargs, caller_fn_scope, options)\u001b[0m\n\u001b[1;32m    374\u001b[0m   \u001b[39mreturn\u001b[39;00m _call_unconverted(f, args, kwargs, options)\n\u001b[1;32m    376\u001b[0m \u001b[39mif\u001b[39;00m \u001b[39mnot\u001b[39;00m options\u001b[39m.\u001b[39muser_requested \u001b[39mand\u001b[39;00m conversion\u001b[39m.\u001b[39mis_allowlisted(f):\n\u001b[0;32m--> 377\u001b[0m   \u001b[39mreturn\u001b[39;00m _call_unconverted(f, args, kwargs, options)\n\u001b[1;32m    379\u001b[0m \u001b[39m# internal_convert_user_code is for example turned off when issuing a dynamic\u001b[39;00m\n\u001b[1;32m    380\u001b[0m \u001b[39m# call conversion from generated code while in nonrecursive mode. In that\u001b[39;00m\n\u001b[1;32m    381\u001b[0m \u001b[39m# case we evidently don't want to recurse, but we still have to convert\u001b[39;00m\n\u001b[1;32m    382\u001b[0m \u001b[39m# things like builtins.\u001b[39;00m\n\u001b[1;32m    383\u001b[0m \u001b[39mif\u001b[39;00m \u001b[39mnot\u001b[39;00m options\u001b[39m.\u001b[39minternal_convert_user_code:\n",
            "File \u001b[0;32m~/.pyenv/versions/3.11.1/lib/python3.11/site-packages/tensorflow/python/autograph/impl/api.py:458\u001b[0m, in \u001b[0;36m_call_unconverted\u001b[0;34m(f, args, kwargs, options, update_cache)\u001b[0m\n\u001b[1;32m    455\u001b[0m   \u001b[39mreturn\u001b[39;00m f\u001b[39m.\u001b[39m\u001b[39m__self__\u001b[39m\u001b[39m.\u001b[39mcall(args, kwargs)\n\u001b[1;32m    457\u001b[0m \u001b[39mif\u001b[39;00m kwargs \u001b[39mis\u001b[39;00m \u001b[39mnot\u001b[39;00m \u001b[39mNone\u001b[39;00m:\n\u001b[0;32m--> 458\u001b[0m   \u001b[39mreturn\u001b[39;00m f(\u001b[39m*\u001b[39;49margs, \u001b[39m*\u001b[39;49m\u001b[39m*\u001b[39;49mkwargs)\n\u001b[1;32m    459\u001b[0m \u001b[39mreturn\u001b[39;00m f(\u001b[39m*\u001b[39margs)\n",
            "File \u001b[0;32m~/.pyenv/versions/3.11.1/lib/python3.11/site-packages/keras/engine/training.py:1249\u001b[0m, in \u001b[0;36mModel.make_train_function.<locals>.step_function.<locals>.run_step\u001b[0;34m(data)\u001b[0m\n\u001b[1;32m   1248\u001b[0m \u001b[39mdef\u001b[39;00m \u001b[39mrun_step\u001b[39m(data):\n\u001b[0;32m-> 1249\u001b[0m     outputs \u001b[39m=\u001b[39m model\u001b[39m.\u001b[39;49mtrain_step(data)\n\u001b[1;32m   1250\u001b[0m     \u001b[39m# Ensure counter is updated only if `train_step` succeeds.\u001b[39;00m\n\u001b[1;32m   1251\u001b[0m     \u001b[39mwith\u001b[39;00m tf\u001b[39m.\u001b[39mcontrol_dependencies(_minimum_control_deps(outputs)):\n",
            "File \u001b[0;32m~/.pyenv/versions/3.11.1/lib/python3.11/site-packages/keras/engine/training.py:1050\u001b[0m, in \u001b[0;36mModel.train_step\u001b[0;34m(self, data)\u001b[0m\n\u001b[1;32m   1048\u001b[0m \u001b[39m# Run forward pass.\u001b[39;00m\n\u001b[1;32m   1049\u001b[0m \u001b[39mwith\u001b[39;00m tf\u001b[39m.\u001b[39mGradientTape() \u001b[39mas\u001b[39;00m tape:\n\u001b[0;32m-> 1050\u001b[0m     y_pred \u001b[39m=\u001b[39m \u001b[39mself\u001b[39;49m(x, training\u001b[39m=\u001b[39;49m\u001b[39mTrue\u001b[39;49;00m)\n\u001b[1;32m   1051\u001b[0m     loss \u001b[39m=\u001b[39m \u001b[39mself\u001b[39m\u001b[39m.\u001b[39mcompute_loss(x, y, y_pred, sample_weight)\n\u001b[1;32m   1052\u001b[0m \u001b[39mself\u001b[39m\u001b[39m.\u001b[39m_validate_target_and_loss(y, loss)\n",
            "File \u001b[0;32m~/.pyenv/versions/3.11.1/lib/python3.11/site-packages/keras/utils/traceback_utils.py:65\u001b[0m, in \u001b[0;36mfilter_traceback.<locals>.error_handler\u001b[0;34m(*args, **kwargs)\u001b[0m\n\u001b[1;32m     63\u001b[0m filtered_tb \u001b[39m=\u001b[39m \u001b[39mNone\u001b[39;00m\n\u001b[1;32m     64\u001b[0m \u001b[39mtry\u001b[39;00m:\n\u001b[0;32m---> 65\u001b[0m     \u001b[39mreturn\u001b[39;00m fn(\u001b[39m*\u001b[39;49margs, \u001b[39m*\u001b[39;49m\u001b[39m*\u001b[39;49mkwargs)\n\u001b[1;32m     66\u001b[0m \u001b[39mexcept\u001b[39;00m \u001b[39mException\u001b[39;00m \u001b[39mas\u001b[39;00m e:\n\u001b[1;32m     67\u001b[0m     filtered_tb \u001b[39m=\u001b[39m _process_traceback_frames(e\u001b[39m.\u001b[39m__traceback__)\n",
            "File \u001b[0;32m~/.pyenv/versions/3.11.1/lib/python3.11/site-packages/keras/engine/training.py:558\u001b[0m, in \u001b[0;36mModel.__call__\u001b[0;34m(self, *args, **kwargs)\u001b[0m\n\u001b[1;32m    554\u001b[0m         \u001b[39msuper\u001b[39m()\u001b[39m.\u001b[39m\u001b[39m__call__\u001b[39m(inputs, \u001b[39m*\u001b[39mcopied_args, \u001b[39m*\u001b[39m\u001b[39m*\u001b[39mcopied_kwargs)\n\u001b[1;32m    556\u001b[0m     layout_map_lib\u001b[39m.\u001b[39m_map_subclass_model_variable(\u001b[39mself\u001b[39m, \u001b[39mself\u001b[39m\u001b[39m.\u001b[39m_layout_map)\n\u001b[0;32m--> 558\u001b[0m \u001b[39mreturn\u001b[39;00m \u001b[39msuper\u001b[39;49m()\u001b[39m.\u001b[39;49m\u001b[39m__call__\u001b[39;49m(\u001b[39m*\u001b[39;49margs, \u001b[39m*\u001b[39;49m\u001b[39m*\u001b[39;49mkwargs)\n",
            "File \u001b[0;32m~/.pyenv/versions/3.11.1/lib/python3.11/site-packages/keras/utils/traceback_utils.py:65\u001b[0m, in \u001b[0;36mfilter_traceback.<locals>.error_handler\u001b[0;34m(*args, **kwargs)\u001b[0m\n\u001b[1;32m     63\u001b[0m filtered_tb \u001b[39m=\u001b[39m \u001b[39mNone\u001b[39;00m\n\u001b[1;32m     64\u001b[0m \u001b[39mtry\u001b[39;00m:\n\u001b[0;32m---> 65\u001b[0m     \u001b[39mreturn\u001b[39;00m fn(\u001b[39m*\u001b[39;49margs, \u001b[39m*\u001b[39;49m\u001b[39m*\u001b[39;49mkwargs)\n\u001b[1;32m     66\u001b[0m \u001b[39mexcept\u001b[39;00m \u001b[39mException\u001b[39;00m \u001b[39mas\u001b[39;00m e:\n\u001b[1;32m     67\u001b[0m     filtered_tb \u001b[39m=\u001b[39m _process_traceback_frames(e\u001b[39m.\u001b[39m__traceback__)\n",
            "File \u001b[0;32m~/.pyenv/versions/3.11.1/lib/python3.11/site-packages/keras/engine/base_layer.py:1145\u001b[0m, in \u001b[0;36mLayer.__call__\u001b[0;34m(self, *args, **kwargs)\u001b[0m\n\u001b[1;32m   1140\u001b[0m     inputs \u001b[39m=\u001b[39m \u001b[39mself\u001b[39m\u001b[39m.\u001b[39m_maybe_cast_inputs(inputs, input_list)\n\u001b[1;32m   1142\u001b[0m \u001b[39mwith\u001b[39;00m autocast_variable\u001b[39m.\u001b[39menable_auto_cast_variables(\n\u001b[1;32m   1143\u001b[0m     \u001b[39mself\u001b[39m\u001b[39m.\u001b[39m_compute_dtype_object\n\u001b[1;32m   1144\u001b[0m ):\n\u001b[0;32m-> 1145\u001b[0m     outputs \u001b[39m=\u001b[39m call_fn(inputs, \u001b[39m*\u001b[39;49margs, \u001b[39m*\u001b[39;49m\u001b[39m*\u001b[39;49mkwargs)\n\u001b[1;32m   1147\u001b[0m \u001b[39mif\u001b[39;00m \u001b[39mself\u001b[39m\u001b[39m.\u001b[39m_activity_regularizer:\n\u001b[1;32m   1148\u001b[0m     \u001b[39mself\u001b[39m\u001b[39m.\u001b[39m_handle_activity_regularization(inputs, outputs)\n",
            "File \u001b[0;32m~/.pyenv/versions/3.11.1/lib/python3.11/site-packages/keras/utils/traceback_utils.py:96\u001b[0m, in \u001b[0;36minject_argument_info_in_traceback.<locals>.error_handler\u001b[0;34m(*args, **kwargs)\u001b[0m\n\u001b[1;32m     94\u001b[0m bound_signature \u001b[39m=\u001b[39m \u001b[39mNone\u001b[39;00m\n\u001b[1;32m     95\u001b[0m \u001b[39mtry\u001b[39;00m:\n\u001b[0;32m---> 96\u001b[0m     \u001b[39mreturn\u001b[39;00m fn(\u001b[39m*\u001b[39;49margs, \u001b[39m*\u001b[39;49m\u001b[39m*\u001b[39;49mkwargs)\n\u001b[1;32m     97\u001b[0m \u001b[39mexcept\u001b[39;00m \u001b[39mException\u001b[39;00m \u001b[39mas\u001b[39;00m e:\n\u001b[1;32m     98\u001b[0m     \u001b[39mif\u001b[39;00m \u001b[39mhasattr\u001b[39m(e, \u001b[39m\"\u001b[39m\u001b[39m_keras_call_info_injected\u001b[39m\u001b[39m\"\u001b[39m):\n\u001b[1;32m     99\u001b[0m         \u001b[39m# Only inject info for the innermost failing call\u001b[39;00m\n",
            "File \u001b[0;32m~/.pyenv/versions/3.11.1/lib/python3.11/site-packages/keras/engine/functional.py:512\u001b[0m, in \u001b[0;36mFunctional.call\u001b[0;34m(self, inputs, training, mask)\u001b[0m\n\u001b[1;32m    493\u001b[0m \u001b[39m@doc_controls\u001b[39m\u001b[39m.\u001b[39mdo_not_doc_inheritable\n\u001b[1;32m    494\u001b[0m \u001b[39mdef\u001b[39;00m \u001b[39mcall\u001b[39m(\u001b[39mself\u001b[39m, inputs, training\u001b[39m=\u001b[39m\u001b[39mNone\u001b[39;00m, mask\u001b[39m=\u001b[39m\u001b[39mNone\u001b[39;00m):\n\u001b[1;32m    495\u001b[0m \u001b[39m    \u001b[39m\u001b[39m\"\"\"Calls the model on new inputs.\u001b[39;00m\n\u001b[1;32m    496\u001b[0m \n\u001b[1;32m    497\u001b[0m \u001b[39m    In this case `call` just reapplies\u001b[39;00m\n\u001b[0;32m   (...)\u001b[0m\n\u001b[1;32m    510\u001b[0m \u001b[39m        a list of tensors if there are more than one outputs.\u001b[39;00m\n\u001b[1;32m    511\u001b[0m \u001b[39m    \"\"\"\u001b[39;00m\n\u001b[0;32m--> 512\u001b[0m     \u001b[39mreturn\u001b[39;00m \u001b[39mself\u001b[39;49m\u001b[39m.\u001b[39;49m_run_internal_graph(inputs, training\u001b[39m=\u001b[39;49mtraining, mask\u001b[39m=\u001b[39;49mmask)\n",
            "File \u001b[0;32m~/.pyenv/versions/3.11.1/lib/python3.11/site-packages/keras/engine/functional.py:669\u001b[0m, in \u001b[0;36mFunctional._run_internal_graph\u001b[0;34m(self, inputs, training, mask)\u001b[0m\n\u001b[1;32m    666\u001b[0m     \u001b[39mcontinue\u001b[39;00m  \u001b[39m# Node is not computable, try skipping.\u001b[39;00m\n\u001b[1;32m    668\u001b[0m args, kwargs \u001b[39m=\u001b[39m node\u001b[39m.\u001b[39mmap_arguments(tensor_dict)\n\u001b[0;32m--> 669\u001b[0m outputs \u001b[39m=\u001b[39m node\u001b[39m.\u001b[39;49mlayer(\u001b[39m*\u001b[39;49margs, \u001b[39m*\u001b[39;49m\u001b[39m*\u001b[39;49mkwargs)\n\u001b[1;32m    671\u001b[0m \u001b[39m# Update tensor_dict.\u001b[39;00m\n\u001b[1;32m    672\u001b[0m \u001b[39mfor\u001b[39;00m x_id, y \u001b[39min\u001b[39;00m \u001b[39mzip\u001b[39m(\n\u001b[1;32m    673\u001b[0m     node\u001b[39m.\u001b[39mflat_output_ids, tf\u001b[39m.\u001b[39mnest\u001b[39m.\u001b[39mflatten(outputs)\n\u001b[1;32m    674\u001b[0m ):\n",
            "File \u001b[0;32m~/.pyenv/versions/3.11.1/lib/python3.11/site-packages/keras/utils/traceback_utils.py:65\u001b[0m, in \u001b[0;36mfilter_traceback.<locals>.error_handler\u001b[0;34m(*args, **kwargs)\u001b[0m\n\u001b[1;32m     63\u001b[0m filtered_tb \u001b[39m=\u001b[39m \u001b[39mNone\u001b[39;00m\n\u001b[1;32m     64\u001b[0m \u001b[39mtry\u001b[39;00m:\n\u001b[0;32m---> 65\u001b[0m     \u001b[39mreturn\u001b[39;00m fn(\u001b[39m*\u001b[39;49margs, \u001b[39m*\u001b[39;49m\u001b[39m*\u001b[39;49mkwargs)\n\u001b[1;32m     66\u001b[0m \u001b[39mexcept\u001b[39;00m \u001b[39mException\u001b[39;00m \u001b[39mas\u001b[39;00m e:\n\u001b[1;32m     67\u001b[0m     filtered_tb \u001b[39m=\u001b[39m _process_traceback_frames(e\u001b[39m.\u001b[39m__traceback__)\n",
            "File \u001b[0;32m~/.pyenv/versions/3.11.1/lib/python3.11/site-packages/keras/engine/base_layer.py:1145\u001b[0m, in \u001b[0;36mLayer.__call__\u001b[0;34m(self, *args, **kwargs)\u001b[0m\n\u001b[1;32m   1140\u001b[0m     inputs \u001b[39m=\u001b[39m \u001b[39mself\u001b[39m\u001b[39m.\u001b[39m_maybe_cast_inputs(inputs, input_list)\n\u001b[1;32m   1142\u001b[0m \u001b[39mwith\u001b[39;00m autocast_variable\u001b[39m.\u001b[39menable_auto_cast_variables(\n\u001b[1;32m   1143\u001b[0m     \u001b[39mself\u001b[39m\u001b[39m.\u001b[39m_compute_dtype_object\n\u001b[1;32m   1144\u001b[0m ):\n\u001b[0;32m-> 1145\u001b[0m     outputs \u001b[39m=\u001b[39m call_fn(inputs, \u001b[39m*\u001b[39;49margs, \u001b[39m*\u001b[39;49m\u001b[39m*\u001b[39;49mkwargs)\n\u001b[1;32m   1147\u001b[0m \u001b[39mif\u001b[39;00m \u001b[39mself\u001b[39m\u001b[39m.\u001b[39m_activity_regularizer:\n\u001b[1;32m   1148\u001b[0m     \u001b[39mself\u001b[39m\u001b[39m.\u001b[39m_handle_activity_regularization(inputs, outputs)\n",
            "File \u001b[0;32m~/.pyenv/versions/3.11.1/lib/python3.11/site-packages/keras/utils/traceback_utils.py:96\u001b[0m, in \u001b[0;36minject_argument_info_in_traceback.<locals>.error_handler\u001b[0;34m(*args, **kwargs)\u001b[0m\n\u001b[1;32m     94\u001b[0m bound_signature \u001b[39m=\u001b[39m \u001b[39mNone\u001b[39;00m\n\u001b[1;32m     95\u001b[0m \u001b[39mtry\u001b[39;00m:\n\u001b[0;32m---> 96\u001b[0m     \u001b[39mreturn\u001b[39;00m fn(\u001b[39m*\u001b[39;49margs, \u001b[39m*\u001b[39;49m\u001b[39m*\u001b[39;49mkwargs)\n\u001b[1;32m     97\u001b[0m \u001b[39mexcept\u001b[39;00m \u001b[39mException\u001b[39;00m \u001b[39mas\u001b[39;00m e:\n\u001b[1;32m     98\u001b[0m     \u001b[39mif\u001b[39;00m \u001b[39mhasattr\u001b[39m(e, \u001b[39m\"\u001b[39m\u001b[39m_keras_call_info_injected\u001b[39m\u001b[39m\"\u001b[39m):\n\u001b[1;32m     99\u001b[0m         \u001b[39m# Only inject info for the innermost failing call\u001b[39;00m\n",
            "File \u001b[0;32m~/.pyenv/versions/3.11.1/lib/python3.11/site-packages/keras/layers/regularization/dropout.py:120\u001b[0m, in \u001b[0;36mDropout.call\u001b[0;34m(self, inputs, training)\u001b[0m\n\u001b[1;32m    115\u001b[0m \u001b[39mdef\u001b[39;00m \u001b[39mdropped_inputs\u001b[39m():\n\u001b[1;32m    116\u001b[0m     \u001b[39mreturn\u001b[39;00m \u001b[39mself\u001b[39m\u001b[39m.\u001b[39m_random_generator\u001b[39m.\u001b[39mdropout(\n\u001b[1;32m    117\u001b[0m         inputs, \u001b[39mself\u001b[39m\u001b[39m.\u001b[39mrate, noise_shape\u001b[39m=\u001b[39m\u001b[39mself\u001b[39m\u001b[39m.\u001b[39m_get_noise_shape(inputs)\n\u001b[1;32m    118\u001b[0m     )\n\u001b[0;32m--> 120\u001b[0m output \u001b[39m=\u001b[39m control_flow_util\u001b[39m.\u001b[39;49msmart_cond(\n\u001b[1;32m    121\u001b[0m     training, dropped_inputs, \u001b[39mlambda\u001b[39;49;00m: tf\u001b[39m.\u001b[39;49midentity(inputs)\n\u001b[1;32m    122\u001b[0m )\n\u001b[1;32m    123\u001b[0m \u001b[39mreturn\u001b[39;00m output\n",
            "File \u001b[0;32m~/.pyenv/versions/3.11.1/lib/python3.11/site-packages/keras/utils/control_flow_util.py:108\u001b[0m, in \u001b[0;36msmart_cond\u001b[0;34m(pred, true_fn, false_fn, name)\u001b[0m\n\u001b[1;32m    106\u001b[0m \u001b[39mif\u001b[39;00m \u001b[39misinstance\u001b[39m(pred, tf\u001b[39m.\u001b[39mVariable):\n\u001b[1;32m    107\u001b[0m     \u001b[39mreturn\u001b[39;00m tf\u001b[39m.\u001b[39mcond(pred, true_fn\u001b[39m=\u001b[39mtrue_fn, false_fn\u001b[39m=\u001b[39mfalse_fn, name\u001b[39m=\u001b[39mname)\n\u001b[0;32m--> 108\u001b[0m \u001b[39mreturn\u001b[39;00m tf\u001b[39m.\u001b[39;49m__internal__\u001b[39m.\u001b[39;49msmart_cond\u001b[39m.\u001b[39;49msmart_cond(\n\u001b[1;32m    109\u001b[0m     pred, true_fn\u001b[39m=\u001b[39;49mtrue_fn, false_fn\u001b[39m=\u001b[39;49mfalse_fn, name\u001b[39m=\u001b[39;49mname\n\u001b[1;32m    110\u001b[0m )\n",
            "File \u001b[0;32m~/.pyenv/versions/3.11.1/lib/python3.11/site-packages/tensorflow/python/framework/smart_cond.py:52\u001b[0m, in \u001b[0;36msmart_cond\u001b[0;34m(pred, true_fn, false_fn, name)\u001b[0m\n\u001b[1;32m     50\u001b[0m \u001b[39mif\u001b[39;00m pred_value \u001b[39mis\u001b[39;00m \u001b[39mnot\u001b[39;00m \u001b[39mNone\u001b[39;00m:\n\u001b[1;32m     51\u001b[0m   \u001b[39mif\u001b[39;00m pred_value:\n\u001b[0;32m---> 52\u001b[0m     \u001b[39mreturn\u001b[39;00m true_fn()\n\u001b[1;32m     53\u001b[0m   \u001b[39melse\u001b[39;00m:\n\u001b[1;32m     54\u001b[0m     \u001b[39mreturn\u001b[39;00m false_fn()\n",
            "File \u001b[0;32m~/.pyenv/versions/3.11.1/lib/python3.11/site-packages/keras/layers/regularization/dropout.py:116\u001b[0m, in \u001b[0;36mDropout.call.<locals>.dropped_inputs\u001b[0;34m()\u001b[0m\n\u001b[1;32m    115\u001b[0m \u001b[39mdef\u001b[39;00m \u001b[39mdropped_inputs\u001b[39m():\n\u001b[0;32m--> 116\u001b[0m     \u001b[39mreturn\u001b[39;00m \u001b[39mself\u001b[39;49m\u001b[39m.\u001b[39;49m_random_generator\u001b[39m.\u001b[39;49mdropout(\n\u001b[1;32m    117\u001b[0m         inputs, \u001b[39mself\u001b[39;49m\u001b[39m.\u001b[39;49mrate, noise_shape\u001b[39m=\u001b[39;49m\u001b[39mself\u001b[39;49m\u001b[39m.\u001b[39;49m_get_noise_shape(inputs)\n\u001b[1;32m    118\u001b[0m     )\n",
            "File \u001b[0;32m~/.pyenv/versions/3.11.1/lib/python3.11/site-packages/keras/backend.py:2171\u001b[0m, in \u001b[0;36mRandomGenerator.dropout\u001b[0;34m(self, inputs, rate, noise_shape)\u001b[0m\n\u001b[1;32m   2164\u001b[0m     \u001b[39mreturn\u001b[39;00m tf\u001b[39m.\u001b[39mnn\u001b[39m.\u001b[39mexperimental\u001b[39m.\u001b[39mstateless_dropout(\n\u001b[1;32m   2165\u001b[0m         inputs,\n\u001b[1;32m   2166\u001b[0m         rate\u001b[39m=\u001b[39mrate,\n\u001b[1;32m   2167\u001b[0m         noise_shape\u001b[39m=\u001b[39mnoise_shape,\n\u001b[1;32m   2168\u001b[0m         seed\u001b[39m=\u001b[39m\u001b[39mself\u001b[39m\u001b[39m.\u001b[39mmake_seed_for_stateless_op(),\n\u001b[1;32m   2169\u001b[0m     )\n\u001b[1;32m   2170\u001b[0m \u001b[39melse\u001b[39;00m:\n\u001b[0;32m-> 2171\u001b[0m     \u001b[39mreturn\u001b[39;00m tf\u001b[39m.\u001b[39;49mnn\u001b[39m.\u001b[39;49mdropout(\n\u001b[1;32m   2172\u001b[0m         inputs,\n\u001b[1;32m   2173\u001b[0m         rate\u001b[39m=\u001b[39;49mrate,\n\u001b[1;32m   2174\u001b[0m         noise_shape\u001b[39m=\u001b[39;49mnoise_shape,\n\u001b[1;32m   2175\u001b[0m         seed\u001b[39m=\u001b[39;49m\u001b[39mself\u001b[39;49m\u001b[39m.\u001b[39;49mmake_legacy_seed(),\n\u001b[1;32m   2176\u001b[0m     )\n",
            "File \u001b[0;32m~/.pyenv/versions/3.11.1/lib/python3.11/site-packages/tensorflow/python/util/traceback_utils.py:150\u001b[0m, in \u001b[0;36mfilter_traceback.<locals>.error_handler\u001b[0;34m(*args, **kwargs)\u001b[0m\n\u001b[1;32m    148\u001b[0m filtered_tb \u001b[39m=\u001b[39m \u001b[39mNone\u001b[39;00m\n\u001b[1;32m    149\u001b[0m \u001b[39mtry\u001b[39;00m:\n\u001b[0;32m--> 150\u001b[0m   \u001b[39mreturn\u001b[39;00m fn(\u001b[39m*\u001b[39;49margs, \u001b[39m*\u001b[39;49m\u001b[39m*\u001b[39;49mkwargs)\n\u001b[1;32m    151\u001b[0m \u001b[39mexcept\u001b[39;00m \u001b[39mException\u001b[39;00m \u001b[39mas\u001b[39;00m e:\n\u001b[1;32m    152\u001b[0m   filtered_tb \u001b[39m=\u001b[39m _process_traceback_frames(e\u001b[39m.\u001b[39m__traceback__)\n",
            "File \u001b[0;32m~/.pyenv/versions/3.11.1/lib/python3.11/site-packages/tensorflow/python/util/dispatch.py:1176\u001b[0m, in \u001b[0;36madd_dispatch_support.<locals>.decorator.<locals>.op_dispatch_handler\u001b[0;34m(*args, **kwargs)\u001b[0m\n\u001b[1;32m   1174\u001b[0m \u001b[39m# Fallback dispatch system (dispatch v1):\u001b[39;00m\n\u001b[1;32m   1175\u001b[0m \u001b[39mtry\u001b[39;00m:\n\u001b[0;32m-> 1176\u001b[0m   \u001b[39mreturn\u001b[39;00m dispatch_target(\u001b[39m*\u001b[39;49margs, \u001b[39m*\u001b[39;49m\u001b[39m*\u001b[39;49mkwargs)\n\u001b[1;32m   1177\u001b[0m \u001b[39mexcept\u001b[39;00m (\u001b[39mTypeError\u001b[39;00m, \u001b[39mValueError\u001b[39;00m):\n\u001b[1;32m   1178\u001b[0m   \u001b[39m# Note: convert_to_eager_tensor currently raises a ValueError, not a\u001b[39;00m\n\u001b[1;32m   1179\u001b[0m   \u001b[39m# TypeError, when given unexpected types.  So we need to catch both.\u001b[39;00m\n\u001b[1;32m   1180\u001b[0m   result \u001b[39m=\u001b[39m dispatch(op_dispatch_handler, args, kwargs)\n",
            "File \u001b[0;32m~/.pyenv/versions/3.11.1/lib/python3.11/site-packages/tensorflow/python/ops/nn_ops.py:5508\u001b[0m, in \u001b[0;36mdropout_v2\u001b[0;34m(x, rate, noise_shape, seed, name)\u001b[0m\n\u001b[1;32m   5506\u001b[0m \u001b[39mdef\u001b[39;00m \u001b[39mdummy_rng_step\u001b[39m():\n\u001b[1;32m   5507\u001b[0m   random_seed\u001b[39m.\u001b[39mget_seed(seed)\n\u001b[0;32m-> 5508\u001b[0m \u001b[39mreturn\u001b[39;00m _dropout(x\u001b[39m=\u001b[39;49mx, rate\u001b[39m=\u001b[39;49mrate, noise_shape\u001b[39m=\u001b[39;49mnoise_shape,\n\u001b[1;32m   5509\u001b[0m                 uniform_sampler\u001b[39m=\u001b[39;49muniform_sampler,\n\u001b[1;32m   5510\u001b[0m                 dummy_rng_step\u001b[39m=\u001b[39;49mdummy_rng_step, name\u001b[39m=\u001b[39;49mname,\n\u001b[1;32m   5511\u001b[0m                 default_name\u001b[39m=\u001b[39;49m\u001b[39m\"\u001b[39;49m\u001b[39mdropout\u001b[39;49m\u001b[39m\"\u001b[39;49m)\n",
            "File \u001b[0;32m~/.pyenv/versions/3.11.1/lib/python3.11/site-packages/tensorflow/python/ops/nn_ops.py:5803\u001b[0m, in \u001b[0;36m_dropout\u001b[0;34m(x, rate, noise_shape, uniform_sampler, dummy_rng_step, name, default_name)\u001b[0m\n\u001b[1;32m   5801\u001b[0m keep_mask \u001b[39m=\u001b[39m random_tensor \u001b[39m>\u001b[39m\u001b[39m=\u001b[39m rate\n\u001b[1;32m   5802\u001b[0m zero_tensor \u001b[39m=\u001b[39m constant_op\u001b[39m.\u001b[39mconstant(\u001b[39m0\u001b[39m, dtype\u001b[39m=\u001b[39mx_dtype)\n\u001b[0;32m-> 5803\u001b[0m ret \u001b[39m=\u001b[39m array_ops\u001b[39m.\u001b[39;49mwhere_v2(keep_mask, ret, zero_tensor)\n\u001b[1;32m   5804\u001b[0m \u001b[39mif\u001b[39;00m \u001b[39mnot\u001b[39;00m is_executing_eagerly:\n\u001b[1;32m   5805\u001b[0m   ret\u001b[39m.\u001b[39mset_shape(x\u001b[39m.\u001b[39mget_shape())\n",
            "File \u001b[0;32m~/.pyenv/versions/3.11.1/lib/python3.11/site-packages/tensorflow/python/util/traceback_utils.py:150\u001b[0m, in \u001b[0;36mfilter_traceback.<locals>.error_handler\u001b[0;34m(*args, **kwargs)\u001b[0m\n\u001b[1;32m    148\u001b[0m filtered_tb \u001b[39m=\u001b[39m \u001b[39mNone\u001b[39;00m\n\u001b[1;32m    149\u001b[0m \u001b[39mtry\u001b[39;00m:\n\u001b[0;32m--> 150\u001b[0m   \u001b[39mreturn\u001b[39;00m fn(\u001b[39m*\u001b[39;49margs, \u001b[39m*\u001b[39;49m\u001b[39m*\u001b[39;49mkwargs)\n\u001b[1;32m    151\u001b[0m \u001b[39mexcept\u001b[39;00m \u001b[39mException\u001b[39;00m \u001b[39mas\u001b[39;00m e:\n\u001b[1;32m    152\u001b[0m   filtered_tb \u001b[39m=\u001b[39m _process_traceback_frames(e\u001b[39m.\u001b[39m__traceback__)\n",
            "File \u001b[0;32m~/.pyenv/versions/3.11.1/lib/python3.11/site-packages/tensorflow/python/util/dispatch.py:1176\u001b[0m, in \u001b[0;36madd_dispatch_support.<locals>.decorator.<locals>.op_dispatch_handler\u001b[0;34m(*args, **kwargs)\u001b[0m\n\u001b[1;32m   1174\u001b[0m \u001b[39m# Fallback dispatch system (dispatch v1):\u001b[39;00m\n\u001b[1;32m   1175\u001b[0m \u001b[39mtry\u001b[39;00m:\n\u001b[0;32m-> 1176\u001b[0m   \u001b[39mreturn\u001b[39;00m dispatch_target(\u001b[39m*\u001b[39;49margs, \u001b[39m*\u001b[39;49m\u001b[39m*\u001b[39;49mkwargs)\n\u001b[1;32m   1177\u001b[0m \u001b[39mexcept\u001b[39;00m (\u001b[39mTypeError\u001b[39;00m, \u001b[39mValueError\u001b[39;00m):\n\u001b[1;32m   1178\u001b[0m   \u001b[39m# Note: convert_to_eager_tensor currently raises a ValueError, not a\u001b[39;00m\n\u001b[1;32m   1179\u001b[0m   \u001b[39m# TypeError, when given unexpected types.  So we need to catch both.\u001b[39;00m\n\u001b[1;32m   1180\u001b[0m   result \u001b[39m=\u001b[39m dispatch(op_dispatch_handler, args, kwargs)\n",
            "File \u001b[0;32m~/.pyenv/versions/3.11.1/lib/python3.11/site-packages/tensorflow/python/ops/array_ops.py:4984\u001b[0m, in \u001b[0;36mwhere_v2\u001b[0;34m(condition, x, y, name)\u001b[0m\n\u001b[1;32m   4982\u001b[0m     \u001b[39mreturn\u001b[39;00m gen_array_ops\u001b[39m.\u001b[39mwhere(condition\u001b[39m=\u001b[39mcondition, name\u001b[39m=\u001b[39mname)\n\u001b[1;32m   4983\u001b[0m \u001b[39melif\u001b[39;00m x \u001b[39mis\u001b[39;00m \u001b[39mnot\u001b[39;00m \u001b[39mNone\u001b[39;00m \u001b[39mand\u001b[39;00m y \u001b[39mis\u001b[39;00m \u001b[39mnot\u001b[39;00m \u001b[39mNone\u001b[39;00m:\n\u001b[0;32m-> 4984\u001b[0m   \u001b[39mreturn\u001b[39;00m gen_math_ops\u001b[39m.\u001b[39;49mselect_v2(condition\u001b[39m=\u001b[39;49mcondition, t\u001b[39m=\u001b[39;49mx, e\u001b[39m=\u001b[39;49my, name\u001b[39m=\u001b[39;49mname)\n\u001b[1;32m   4985\u001b[0m \u001b[39melse\u001b[39;00m:\n\u001b[1;32m   4986\u001b[0m   \u001b[39mraise\u001b[39;00m \u001b[39mValueError\u001b[39;00m(\u001b[39m\"\u001b[39m\u001b[39mx and y must both be non-None or both be None.\u001b[39m\u001b[39m\"\u001b[39m)\n",
            "File \u001b[0;32m~/.pyenv/versions/3.11.1/lib/python3.11/site-packages/tensorflow/python/ops/gen_math_ops.py:9598\u001b[0m, in \u001b[0;36mselect_v2\u001b[0;34m(condition, t, e, name)\u001b[0m\n\u001b[1;32m   9596\u001b[0m   _attrs \u001b[39m=\u001b[39m (\u001b[39m\"\u001b[39m\u001b[39mT\u001b[39m\u001b[39m\"\u001b[39m, _op\u001b[39m.\u001b[39m_get_attr_type(\u001b[39m\"\u001b[39m\u001b[39mT\u001b[39m\u001b[39m\"\u001b[39m))\n\u001b[1;32m   9597\u001b[0m   _inputs_flat \u001b[39m=\u001b[39m _op\u001b[39m.\u001b[39minputs\n\u001b[0;32m-> 9598\u001b[0m   _execute\u001b[39m.\u001b[39;49mrecord_gradient(\n\u001b[1;32m   9599\u001b[0m       \u001b[39m\"\u001b[39;49m\u001b[39mSelectV2\u001b[39;49m\u001b[39m\"\u001b[39;49m, _inputs_flat, _attrs, _result)\n\u001b[1;32m   9600\u001b[0m _result, \u001b[39m=\u001b[39m _result\n\u001b[1;32m   9601\u001b[0m \u001b[39mreturn\u001b[39;00m _result\n",
            "File \u001b[0;32m~/.pyenv/versions/3.11.1/lib/python3.11/site-packages/tensorflow/python/eager/backprop.py:169\u001b[0m, in \u001b[0;36mrecord_gradient\u001b[0;34m(op_name, inputs, attrs, outputs)\u001b[0m\n\u001b[1;32m    158\u001b[0m \u001b[39m@tf_export\u001b[39m(\u001b[39m\"\u001b[39m\u001b[39m__internal__.record_gradient\u001b[39m\u001b[39m\"\u001b[39m, v1\u001b[39m=\u001b[39m[])\n\u001b[1;32m    159\u001b[0m \u001b[39mdef\u001b[39;00m \u001b[39mrecord_gradient\u001b[39m(op_name, inputs, attrs, outputs):\n\u001b[1;32m    160\u001b[0m \u001b[39m  \u001b[39m\u001b[39m\"\"\"Explicitly record the gradient for a given op.\u001b[39;00m\n\u001b[1;32m    161\u001b[0m \n\u001b[1;32m    162\u001b[0m \u001b[39m  Args:\u001b[39;00m\n\u001b[0;32m   (...)\u001b[0m\n\u001b[1;32m    167\u001b[0m \u001b[39m    outputs: A list of tensor outputs from the op.\u001b[39;00m\n\u001b[1;32m    168\u001b[0m \u001b[39m  \"\"\"\u001b[39;00m\n\u001b[0;32m--> 169\u001b[0m   pywrap_tfe\u001b[39m.\u001b[39;49mTFE_Py_RecordGradient(op_name, inputs, attrs, outputs,\n\u001b[1;32m    170\u001b[0m                                    ops\u001b[39m.\u001b[39;49mget_name_scope())\n",
            "File \u001b[0;32m~/.pyenv/versions/3.11.1/lib/python3.11/site-packages/tensorflow/python/framework/ops.py:595\u001b[0m, in \u001b[0;36mTensor._shape_tuple\u001b[0;34m(self)\u001b[0m\n\u001b[1;32m    594\u001b[0m \u001b[39mdef\u001b[39;00m \u001b[39m_shape_tuple\u001b[39m(\u001b[39mself\u001b[39m):\n\u001b[0;32m--> 595\u001b[0m   shape \u001b[39m=\u001b[39m \u001b[39mself\u001b[39;49m\u001b[39m.\u001b[39;49m_shape_as_list()\n\u001b[1;32m    596\u001b[0m   \u001b[39mif\u001b[39;00m shape \u001b[39mis\u001b[39;00m \u001b[39mNone\u001b[39;00m:\n\u001b[1;32m    597\u001b[0m     \u001b[39mreturn\u001b[39;00m \u001b[39mNone\u001b[39;00m\n",
            "File \u001b[0;32m~/.pyenv/versions/3.11.1/lib/python3.11/site-packages/tensorflow/python/framework/ops.py:589\u001b[0m, in \u001b[0;36mTensor._shape_as_list\u001b[0;34m(self)\u001b[0m\n\u001b[1;32m    588\u001b[0m \u001b[39mdef\u001b[39;00m \u001b[39m_shape_as_list\u001b[39m(\u001b[39mself\u001b[39m):\n\u001b[0;32m--> 589\u001b[0m   \u001b[39mif\u001b[39;00m \u001b[39mself\u001b[39;49m\u001b[39m.\u001b[39;49mshape\u001b[39m.\u001b[39mndims \u001b[39mis\u001b[39;00m \u001b[39mnot\u001b[39;00m \u001b[39mNone\u001b[39;00m:\n\u001b[1;32m    590\u001b[0m     \u001b[39mreturn\u001b[39;00m [dim\u001b[39m.\u001b[39mvalue \u001b[39mfor\u001b[39;00m dim \u001b[39min\u001b[39;00m \u001b[39mself\u001b[39m\u001b[39m.\u001b[39mshape\u001b[39m.\u001b[39mdims]\n\u001b[1;32m    591\u001b[0m   \u001b[39melse\u001b[39;00m:\n",
            "File \u001b[0;32m~/.pyenv/versions/3.11.1/lib/python3.11/site-packages/tensorflow/python/framework/ops.py:499\u001b[0m, in \u001b[0;36mTensor.shape\u001b[0;34m(self)\u001b[0m\n\u001b[1;32m    481\u001b[0m \u001b[39m\u001b[39m\u001b[39m\"\"\"Returns a `tf.TensorShape` that represents the shape of this tensor.\u001b[39;00m\n\u001b[1;32m    482\u001b[0m \n\u001b[1;32m    483\u001b[0m \u001b[39m>>> t = tf.constant([1,2,3,4,5])\u001b[39;00m\n\u001b[0;32m   (...)\u001b[0m\n\u001b[1;32m    496\u001b[0m \u001b[39mSee `tf.Tensor.get_shape()`, and `tf.TensorShape` for details and examples.\u001b[39;00m\n\u001b[1;32m    497\u001b[0m \u001b[39m\"\"\"\u001b[39;00m\n\u001b[1;32m    498\u001b[0m \u001b[39mif\u001b[39;00m \u001b[39mself\u001b[39m\u001b[39m.\u001b[39m_shape_val \u001b[39mis\u001b[39;00m \u001b[39mNone\u001b[39;00m:\n\u001b[0;32m--> 499\u001b[0m   \u001b[39mself\u001b[39m\u001b[39m.\u001b[39m_shape_val \u001b[39m=\u001b[39m \u001b[39mself\u001b[39;49m\u001b[39m.\u001b[39;49m_c_api_shape()\n\u001b[1;32m    500\u001b[0m \u001b[39mreturn\u001b[39;00m \u001b[39mself\u001b[39m\u001b[39m.\u001b[39m_shape_val\n",
            "File \u001b[0;32m~/.pyenv/versions/3.11.1/lib/python3.11/site-packages/tensorflow/python/framework/ops.py:511\u001b[0m, in \u001b[0;36mTensor._c_api_shape\u001b[0;34m(self)\u001b[0m\n\u001b[1;32m    509\u001b[0m \u001b[39melse\u001b[39;00m:\n\u001b[1;32m    510\u001b[0m   shape_vec \u001b[39m=\u001b[39m [\u001b[39mNone\u001b[39;00m \u001b[39mif\u001b[39;00m d \u001b[39m==\u001b[39m \u001b[39m-\u001b[39m\u001b[39m1\u001b[39m \u001b[39melse\u001b[39;00m d \u001b[39mfor\u001b[39;00m d \u001b[39min\u001b[39;00m shape_vec]\n\u001b[0;32m--> 511\u001b[0m   \u001b[39mreturn\u001b[39;00m tensor_shape\u001b[39m.\u001b[39;49mTensorShape(shape_vec)\n",
            "File \u001b[0;32m~/.pyenv/versions/3.11.1/lib/python3.11/site-packages/tensorflow/python/framework/tensor_shape.py:825\u001b[0m, in \u001b[0;36mTensorShape.__init__\u001b[0;34m(self, dims)\u001b[0m\n\u001b[1;32m    816\u001b[0m \u001b[39m\u001b[39m\u001b[39m\"\"\"Creates a new TensorShape with the given dimensions.\u001b[39;00m\n\u001b[1;32m    817\u001b[0m \n\u001b[1;32m    818\u001b[0m \u001b[39mArgs:\u001b[39;00m\n\u001b[0;32m   (...)\u001b[0m\n\u001b[1;32m    822\u001b[0m \u001b[39m  TypeError: If dims cannot be converted to a list of dimensions.\u001b[39;00m\n\u001b[1;32m    823\u001b[0m \u001b[39m\"\"\"\u001b[39;00m\n\u001b[1;32m    824\u001b[0m \u001b[39mif\u001b[39;00m \u001b[39misinstance\u001b[39m(dims, (\u001b[39mtuple\u001b[39m, \u001b[39mlist\u001b[39m)):  \u001b[39m# Most common case.\u001b[39;00m\n\u001b[0;32m--> 825\u001b[0m   \u001b[39mself\u001b[39m\u001b[39m.\u001b[39m_dims \u001b[39m=\u001b[39m \u001b[39mtuple\u001b[39m(as_dimension(d)\u001b[39m.\u001b[39mvalue \u001b[39mfor\u001b[39;00m d \u001b[39min\u001b[39;00m dims)\n\u001b[1;32m    826\u001b[0m \u001b[39melif\u001b[39;00m dims \u001b[39mis\u001b[39;00m \u001b[39mNone\u001b[39;00m:\n\u001b[1;32m    827\u001b[0m   \u001b[39mself\u001b[39m\u001b[39m.\u001b[39m_dims \u001b[39m=\u001b[39m \u001b[39mNone\u001b[39;00m\n",
            "File \u001b[0;32m~/.pyenv/versions/3.11.1/lib/python3.11/site-packages/tensorflow/python/framework/tensor_shape.py:825\u001b[0m, in \u001b[0;36m<genexpr>\u001b[0;34m(.0)\u001b[0m\n\u001b[1;32m    816\u001b[0m \u001b[39m\u001b[39m\u001b[39m\"\"\"Creates a new TensorShape with the given dimensions.\u001b[39;00m\n\u001b[1;32m    817\u001b[0m \n\u001b[1;32m    818\u001b[0m \u001b[39mArgs:\u001b[39;00m\n\u001b[0;32m   (...)\u001b[0m\n\u001b[1;32m    822\u001b[0m \u001b[39m  TypeError: If dims cannot be converted to a list of dimensions.\u001b[39;00m\n\u001b[1;32m    823\u001b[0m \u001b[39m\"\"\"\u001b[39;00m\n\u001b[1;32m    824\u001b[0m \u001b[39mif\u001b[39;00m \u001b[39misinstance\u001b[39m(dims, (\u001b[39mtuple\u001b[39m, \u001b[39mlist\u001b[39m)):  \u001b[39m# Most common case.\u001b[39;00m\n\u001b[0;32m--> 825\u001b[0m   \u001b[39mself\u001b[39m\u001b[39m.\u001b[39m_dims \u001b[39m=\u001b[39m \u001b[39mtuple\u001b[39m(as_dimension(d)\u001b[39m.\u001b[39mvalue \u001b[39mfor\u001b[39;00m d \u001b[39min\u001b[39;00m dims)\n\u001b[1;32m    826\u001b[0m \u001b[39melif\u001b[39;00m dims \u001b[39mis\u001b[39;00m \u001b[39mNone\u001b[39;00m:\n\u001b[1;32m    827\u001b[0m   \u001b[39mself\u001b[39m\u001b[39m.\u001b[39m_dims \u001b[39m=\u001b[39m \u001b[39mNone\u001b[39;00m\n",
            "\u001b[0;31mKeyboardInterrupt\u001b[0m: "
          ]
        }
      ],
      "source": [
        "for j in range(0,5): # folds \n",
        "\n",
        "  xval_a = xtrain[(train_size*j)//5:(train_size*(j+1))//5];\n",
        "  print(xval_a.shape)\n",
        "  yval_a = ytrain[(train_size*j)//5:(train_size*(j+1))//5]\n",
        "  xtra_a = np.concatenate((xtrain[:(train_size*j)//5], xtrain[((train_size*(j+1))//5):]), axis=0) \n",
        "  ytra_a = np.concatenate((ytrain[:(train_size*j)//5], ytrain[((train_size*(j+1))//5):]), axis=0)\n",
        "  # print('Fold  '+str(j+1)+'  xtrain shape:::::::', xtra_a.shape)\n",
        "\n",
        "  xval_ac = xtrain1[(train_size*j)//5:(train_size*(j+1))//5];\n",
        "  print(xval_ac.shape)\n",
        "  yval_ac = ytrain1[(train_size*j)//5:(train_size*(j+1))//5]\n",
        "  xtra_ac = np.concatenate((xtrain1[:(train_size*j)//5], xtrain1[((train_size*(j+1))//5):]), axis=0)\n",
        "  ytra_ac = np.concatenate((ytrain1[:(train_size*j)//5], ytrain1[((train_size*(j+1))//5):]), axis=0)\n",
        "  y = np.concatenate((ytra_a,ytra_a), axis=0)\n",
        "  yv = np.concatenate((yval_a,yval_a), axis=0)\n",
        "  print(yval_ac.shape)\n",
        "  #check what's happening here is it intended\n",
        "  encoder1 = create_encoder1(latent_dim=10)\n",
        "  encoder2 = create_encoder2(10)\n",
        "  encoder_with_projection_head = add_projection_head1(encoder1,encoder2)\n",
        "  encoder_with_projection_head.compile(optimizer=keras.optimizers.Adam(learning_rate),loss=SupervisedContrastiveLoss(temperature))\n",
        "  encoder_with_projection_head.summary()\n",
        "                                                            #ytra_a                                  #yval_a\n",
        "  history = encoder_with_projection_head.fit([xtra_a,xtra_ac], ytra_ac , validation_data =([xval_a,xval_ac],yval_ac), batch_size=32, epochs=1, callbacks=[EarlyStopping(monitor='val_loss', mode='min', verbose=1, patience=10)])\n",
        "\n",
        "\n",
        "  learning_rate = 0.0005\n",
        "  batch_size = 16\n",
        "  hidden_units = 64\n",
        "  projection_units = 128\n",
        "  num_epochs = 200\n",
        "  dropout_rate = 0.3\n",
        "  num_classes = 2\n",
        "  input_shape1 = (19,)\n",
        "  input_shape2 = (38,)\n",
        "\n",
        "  from keras.callbacks import ModelCheckpoint ,EarlyStopping\n",
        "  classifier = create_classifier(encoder_with_projection_head, trainable=False)\n",
        "  classifier.summary()\n",
        "  history = classifier.fit(x=[xtra_a,xtra_ac], y=ytra_ac, validation_data =([xval_a,xval_ac],yval_ac), batch_size=batch_size, epochs=num_epochs, callbacks=[EarlyStopping(monitor='val_loss', mode='min', verbose=1, patience=10)])\n",
        "\n",
        "  accuracy = classifier.evaluate([xtest_a,xtest_ac], ytest)[1]\n",
        "\n",
        "  ##  Accuracy on post processed labels (each word should contain only one stressed syllable)\n",
        "  pred_output= classifier.predict([xtest_a,xtest_ac])\n",
        "  # pred_labels= pred_output.argmax(axis =1)\n",
        "  pred1_labels = pred_output[:,1]\n",
        "  post_labels = make_partitions(wtest, pred1_labels)\n",
        "  post_accuracy = calculate_accuracy(post_labels, ytest)\n",
        "\n",
        "  F1_score_WoPP = f1_score(ytest, pred_output.argmax(axis =1))\n",
        "  F1_score_WPP = f1_score(ytest, post_labels)\n",
        "\n",
        "  print(f\"Test accuracy: {round(accuracy * 100, 3)}%\")\n",
        "  print(f\"Postprocessing Test accuracy: {round(post_accuracy * 100, 3)}%\")\n",
        "  print(f\"Test F1_score: {round(F1_score_WoPP * 100, 3)}%\")\n",
        "  print(f\"Postprocessing F1_score: {round(F1_score_WPP * 100, 3)}%\")\n"
      ]
    },
    {
      "cell_type": "code",
      "execution_count": null,
      "metadata": {
        "id": "gdK7nLFl0CAy"
      },
      "outputs": [],
      "source": [
        "# def create_classifier():\n",
        "\n",
        "#     # for layer in encoder.layers:\n",
        "#     #     layer.trainable = trainable\n",
        "\n",
        "#     # inputs1 = keras.Input(shape=input_shape1)\n",
        "#     inputs2 = keras.Input(shape=input_shape2)\n",
        "#     # features1 = encoder1(inputs1)\n",
        "#     # features2 = encoder2(inputs2)\n",
        "#     # features = tf.keras.layers.Concatenate(axis=1)([features1, features2])\n",
        "#     # # features = layers.Dropout(0.2)(features)\n",
        "#     features = layers.Dense(64, activation=\"relu\")(inputs2)\n",
        "    \n",
        "#     features = layers.BatchNormalization()(features)\n",
        "#     features = layers.Dropout(dropout_rate)(features)\n",
        "#     features = layers.Dense(32, activation=\"relu\")(features)\n",
        "#     features = layers.Dropout(0.2)(features)\n",
        "#     features = layers.Dense(16, activation=\"relu\")(features)\n",
        "#     # features = layers.BatchNormalization()(features)\n",
        "#     # features = layers.Dropout(0.2)(features)\n",
        "#     features = layers.Dense(4, activation=\"relu\")(features)\n",
        "#     # features = layers.BatchNormalization()(features)\n",
        "#     # features = layers.Dropout(0.1)(features)\n",
        "#     outputs = layers.Dense(num_classes, activation=\"softmax\")(features)\n",
        "\n",
        "#     model = keras.Model(inputs=inputs2, outputs=outputs)\n",
        "#     model.compile(\n",
        "#         optimizer=keras.optimizers.Adam(learning_rate),\n",
        "#         loss=keras.losses.SparseCategoricalCrossentropy(),\n",
        "#         metrics=[keras.metrics.SparseCategoricalAccuracy()],\n",
        "#     )\n",
        "#     return model"
      ]
    },
    {
      "cell_type": "code",
      "execution_count": null,
      "metadata": {
        "id": "zBoQyLV1z05n"
      },
      "outputs": [],
      "source": [
        "# for j in range(0,1): # folds \n",
        "\n",
        "#   xval_a = xtrain[(train_size*j)//5:(train_size*(j+1))//5];\n",
        "#   print(xval_a.shape)\n",
        "#   yval_a = ytrain[(train_size*j)//5:(train_size*(j+1))//5]\n",
        "#   xtra_a = np.concatenate((xtrain[:(train_size*j)//5], xtrain[((train_size*(j+1))//5):]), axis=0) \n",
        "#   ytra_a = np.concatenate((ytrain[:(train_size*j)//5], ytrain[((train_size*(j+1))//5):]), axis=0)\n",
        "#   # print('Fold  '+str(j+1)+'  xtrain shape:::::::', xtra_a.shape)\n",
        "\n",
        "#   xval_ac = xtrain1[(train_size*j)//5:(train_size*(j+1))//5];\n",
        "#   print(xval_ac.shape)\n",
        "#   yval_ac = ytrain1[(train_size*j)//5:(train_size*(j+1))//5]\n",
        "#   xtra_ac = np.concatenate((xtrain1[:(train_size*j)//5], xtrain1[((train_size*(j+1))//5):]), axis=0)\n",
        "#   ytra_ac = np.concatenate((ytrain1[:(train_size*j)//5], ytrain1[((train_size*(j+1))//5):]), axis=0)\n",
        "#   y = np.concatenate((ytra_a,ytra_a), axis=0)\n",
        "#   yv = np.concatenate((yval_a,yval_a), axis=0)\n",
        "#   #check what's happening here is it intended\n",
        "#   # encoder1 = create_encoder1()\n",
        "#   # encoder2 = create_encoder2()\n",
        "#   # encoder_with_projection_head = add_projection_head1(encoder1, encoder2)\n",
        "#   # encoder_with_projection_head.compile(optimizer=keras.optimizers.Adam(learning_rate),loss=SupervisedContrastiveLoss(temperature))\n",
        "#   # encoder_with_projection_head.summary()\n",
        "#   #                                                           #ytra_a                                  #yval_a\n",
        "#   # history = encoder_with_projection_head.fit([xtra_a,xtra_ac], ytra_a , validation_data =([xval_a,xval_ac],yval_a), batch_size=32, epochs=100, callbacks=[EarlyStopping(monitor='val_loss', mode='min', verbose=1, patience=10)])\n",
        "\n",
        "\n",
        "#   learning_rate = 0.0005\n",
        "#   batch_size = 16\n",
        "#   hidden_units = 64\n",
        "#   projection_units = 128\n",
        "#   num_epochs = 200\n",
        "#   dropout_rate = 0.3\n",
        "#   num_classes = 2\n",
        "#   input_shape1 = (19,)\n",
        "#   input_shape2 = (38,)\n",
        "\n",
        "#   from keras.callbacks import ModelCheckpoint ,EarlyStopping\n",
        "#   classifier = create_classifier()\n",
        "#   classifier.summary()\n",
        "#   history = classifier.fit(x=xtra_ac, y=ytra_a, validation_data =(xval_ac,yval_a), batch_size=batch_size, epochs=num_epochs, callbacks=[EarlyStopping(monitor='val_loss', mode='min', verbose=1, patience=10)])\n",
        "\n",
        "#   accuracy = classifier.evaluate(xtest_ac, ytest)[1]\n",
        "\n",
        "#   ##  Accuracy on post processed labels (each word should contain only one stressed syllable)\n",
        "#   pred_output= classifier.predict(xtest_ac)\n",
        "#   # pred_labels= pred_output.argmax(axis =1)\n",
        "#   pred1_labels = pred_output[:,1]\n",
        "#   post_labels = make_partitions(wtest, pred1_labels)\n",
        "#   post_accuracy = calculate_accuracy(post_labels, ytest)\n",
        "\n",
        "#   F1_score_WoPP = f1_score(ytest, pred_output.argmax(axis =1))\n",
        "#   F1_score_WPP = f1_score(ytest, post_labels)\n",
        "\n",
        "#   print(f\"Test accuracy: {round(accuracy * 100, 3)}%\")\n",
        "#   print(f\"Postprocessing Test accuracy: {round(post_accuracy * 100, 3)}%\")\n",
        "#   print(f\"Test F1_score: {round(F1_score_WoPP * 100, 3)}%\")\n",
        "#   print(f\"Postprocessing F1_score: {round(F1_score_WPP * 100, 3)}%\")"
      ]
    },
    {
      "cell_type": "code",
      "execution_count": null,
      "metadata": {
        "colab": {
          "base_uri": "https://localhost:8080/"
        },
        "id": "9205unS80-Tn",
        "outputId": "af059e3e-2b43-4bb1-d4c4-5e8955227848"
      },
      "outputs": [
        {
          "name": "stdout",
          "output_type": "stream",
          "text": [
            "150/150 [==============================] - 0s 2ms/step - loss: 0.2706 - sparse_categorical_accuracy: 0.8918\n",
            "0.8918354511260986\n",
            "150/150 [==============================] - 0s 2ms/step\n",
            "Test accuracy: 89.184%\n",
            "Postprocessing Test accuracy: 93.067%\n",
            "Test F1_score: 88.136%\n",
            "Postprocessing F1_score: 92.114%\n"
          ]
        }
      ],
      "source": [
        "accuracy = classifier.evaluate(xtest_ac, ytest)[1]\n",
        "print(accuracy)\n",
        "##  Accuracy on post processed labels (each word should contain only one stressed syllable)\n",
        "pred_output= classifier.predict(xtest_ac)\n",
        "# pred_labels= pred_output.argmax(axis =1)\n",
        "pred1_labels = pred_output[:,1]\n",
        "post_labels = make_partitions(wtest, pred1_labels)\n",
        "post_accuracy = calculate_accuracy(post_labels, ytest)\n",
        "\n",
        "F1_score_WoPP = f1_score(ytest, pred_output.argmax(axis=1))\n",
        "F1_score_WPP = f1_score(ytest, post_labels)\n",
        "\n",
        "print(f\"Test accuracy: {round(accuracy * 100, 3)}%\")\n",
        "print(f\"Postprocessing Test accuracy: {round(post_accuracy * 100, 3)}%\")\n",
        "print(f\"Test F1_score: {round(F1_score_WoPP * 100, 3)}%\")\n",
        "print(f\"Postprocessing F1_score: {round(F1_score_WPP * 100, 3)}%\")"
      ]
    },
    {
      "cell_type": "markdown",
      "metadata": {
        "id": "gClzPzIzmj6L"
      },
      "source": [
        "#single iteration"
      ]
    },
    {
      "cell_type": "code",
      "execution_count": null,
      "metadata": {
        "colab": {
          "base_uri": "https://localhost:8080/"
        },
        "id": "mLnk6JxnpI_-",
        "outputId": "48929bfd-c64b-4f86-f112-1a79fc643658"
      },
      "outputs": [
        {
          "name": "stdout",
          "output_type": "stream",
          "text": [
            "(1178, 19)\n",
            "(1178, 38)\n",
            "Model: \"cifar-encoder_with_projection-head\"\n",
            "__________________________________________________________________________________________________\n",
            " Layer (type)                   Output Shape         Param #     Connected to                     \n",
            "==================================================================================================\n",
            " input_11 (InputLayer)          [(None, 19)]         0           []                               \n",
            "                                                                                                  \n",
            " input_12 (InputLayer)          [(None, 38)]         0           []                               \n",
            "                                                                                                  \n",
            " encoder1 (Encoder1)            (None, 10)           13738       ['input_11[0][0]']               \n",
            "                                                                                                  \n",
            " encoder2 (Encoder2)            (None, 10)           55082       ['input_12[0][0]']               \n",
            "                                                                                                  \n",
            " concatenate (Concatenate)      (None, 20)           0           ['encoder1[0][0]',               \n",
            "                                                                  'encoder2[0][0]']               \n",
            "                                                                                                  \n",
            " dense_53 (Dense)               (None, 16)           336         ['concatenate[0][0]']            \n",
            "                                                                                                  \n",
            "==================================================================================================\n",
            "Total params: 69,156\n",
            "Trainable params: 68,132\n",
            "Non-trainable params: 1,024\n",
            "__________________________________________________________________________________________________\n",
            "Epoch 1/100\n",
            "(None, 16)\n",
            "(None, 16)\n",
            "146/148 [============================>.] - ETA: 0s - loss: 1.3968(None, 16)\n",
            "148/148 [==============================] - 6s 12ms/step - loss: 1.3945 - val_loss: 1.2178\n",
            "Epoch 2/100\n",
            "148/148 [==============================] - 1s 7ms/step - loss: 1.2183 - val_loss: 1.2094\n",
            "Epoch 3/100\n",
            "148/148 [==============================] - 1s 6ms/step - loss: 1.2122 - val_loss: 1.2044\n",
            "Epoch 4/100\n",
            "148/148 [==============================] - 1s 6ms/step - loss: 1.2079 - val_loss: 1.1979\n",
            "Epoch 5/100\n",
            "148/148 [==============================] - 1s 7ms/step - loss: 1.2042 - val_loss: 1.1915\n",
            "Epoch 6/100\n",
            "148/148 [==============================] - 1s 7ms/step - loss: 1.2017 - val_loss: 1.1889\n",
            "Epoch 7/100\n",
            "148/148 [==============================] - 1s 7ms/step - loss: 1.1995 - val_loss: 1.1844\n",
            "Epoch 8/100\n",
            "148/148 [==============================] - 1s 7ms/step - loss: 1.1982 - val_loss: 1.1829\n",
            "Epoch 9/100\n",
            "148/148 [==============================] - 1s 7ms/step - loss: 1.1938 - val_loss: 1.1770\n",
            "Epoch 10/100\n",
            "148/148 [==============================] - 1s 9ms/step - loss: 1.1927 - val_loss: 1.1781\n",
            "Epoch 11/100\n",
            "148/148 [==============================] - 1s 10ms/step - loss: 1.1911 - val_loss: 1.1729\n",
            "Epoch 12/100\n",
            "148/148 [==============================] - 1s 9ms/step - loss: 1.1888 - val_loss: 1.1676\n",
            "Epoch 13/100\n",
            "148/148 [==============================] - 1s 7ms/step - loss: 1.1866 - val_loss: 1.1679\n",
            "Epoch 14/100\n",
            "148/148 [==============================] - 1s 6ms/step - loss: 1.1819 - val_loss: 1.1635\n",
            "Epoch 15/100\n",
            "148/148 [==============================] - 1s 7ms/step - loss: 1.1809 - val_loss: 1.1610\n",
            "Epoch 16/100\n",
            "148/148 [==============================] - 1s 7ms/step - loss: 1.1794 - val_loss: 1.1596\n",
            "Epoch 17/100\n",
            "148/148 [==============================] - 1s 7ms/step - loss: 1.1746 - val_loss: 1.1535\n",
            "Epoch 18/100\n",
            "148/148 [==============================] - 1s 6ms/step - loss: 1.1746 - val_loss: 1.1500\n",
            "Epoch 19/100\n",
            "148/148 [==============================] - 1s 7ms/step - loss: 1.1707 - val_loss: 1.1532\n",
            "Epoch 20/100\n",
            "148/148 [==============================] - 1s 7ms/step - loss: 1.1689 - val_loss: 1.1474\n",
            "Epoch 21/100\n",
            "148/148 [==============================] - 1s 7ms/step - loss: 1.1683 - val_loss: 1.1447\n",
            "Epoch 22/100\n",
            "148/148 [==============================] - 1s 7ms/step - loss: 1.1665 - val_loss: 1.1450\n",
            "Epoch 23/100\n",
            "148/148 [==============================] - 1s 10ms/step - loss: 1.1670 - val_loss: 1.1449\n",
            "Epoch 24/100\n",
            "148/148 [==============================] - 3s 18ms/step - loss: 1.1630 - val_loss: 1.1444\n",
            "Epoch 25/100\n",
            "148/148 [==============================] - 1s 8ms/step - loss: 1.1654 - val_loss: 1.1401\n",
            "Epoch 26/100\n",
            "148/148 [==============================] - 1s 7ms/step - loss: 1.1603 - val_loss: 1.1432\n",
            "Epoch 27/100\n",
            "148/148 [==============================] - 1s 7ms/step - loss: 1.1602 - val_loss: 1.1402\n",
            "Epoch 28/100\n",
            "148/148 [==============================] - 1s 7ms/step - loss: 1.1587 - val_loss: 1.1418\n",
            "Epoch 29/100\n",
            "148/148 [==============================] - 1s 6ms/step - loss: 1.1561 - val_loss: 1.1387\n",
            "Epoch 30/100\n",
            "148/148 [==============================] - 1s 6ms/step - loss: 1.1563 - val_loss: 1.1372\n",
            "Epoch 31/100\n",
            "148/148 [==============================] - 1s 6ms/step - loss: 1.1542 - val_loss: 1.1358\n",
            "Epoch 32/100\n",
            "148/148 [==============================] - 1s 7ms/step - loss: 1.1555 - val_loss: 1.1374\n",
            "Epoch 33/100\n",
            "148/148 [==============================] - 1s 7ms/step - loss: 1.1537 - val_loss: 1.1336\n",
            "Epoch 34/100\n",
            "148/148 [==============================] - 1s 6ms/step - loss: 1.1523 - val_loss: 1.1353\n",
            "Epoch 35/100\n",
            "148/148 [==============================] - 1s 7ms/step - loss: 1.1504 - val_loss: 1.1315\n",
            "Epoch 36/100\n",
            "148/148 [==============================] - 1s 9ms/step - loss: 1.1512 - val_loss: 1.1350\n",
            "Epoch 37/100\n",
            "148/148 [==============================] - 1s 9ms/step - loss: 1.1503 - val_loss: 1.1323\n",
            "Epoch 38/100\n",
            "148/148 [==============================] - 1s 9ms/step - loss: 1.1505 - val_loss: 1.1268\n",
            "Epoch 39/100\n",
            "148/148 [==============================] - 1s 6ms/step - loss: 1.1479 - val_loss: 1.1306\n",
            "Epoch 40/100\n",
            "148/148 [==============================] - 1s 7ms/step - loss: 1.1447 - val_loss: 1.1257\n",
            "Epoch 41/100\n",
            "148/148 [==============================] - 1s 6ms/step - loss: 1.1434 - val_loss: 1.1311\n",
            "Epoch 42/100\n",
            "148/148 [==============================] - 1s 7ms/step - loss: 1.1434 - val_loss: 1.1295\n",
            "Epoch 43/100\n",
            "148/148 [==============================] - 1s 7ms/step - loss: 1.1470 - val_loss: 1.1259\n",
            "Epoch 44/100\n",
            "148/148 [==============================] - 1s 7ms/step - loss: 1.1412 - val_loss: 1.1255\n",
            "Epoch 45/100\n",
            "148/148 [==============================] - 1s 6ms/step - loss: 1.1403 - val_loss: 1.1227\n",
            "Epoch 46/100\n",
            "148/148 [==============================] - 1s 7ms/step - loss: 1.1414 - val_loss: 1.1259\n",
            "Epoch 47/100\n",
            "148/148 [==============================] - 1s 6ms/step - loss: 1.1409 - val_loss: 1.1231\n",
            "Epoch 48/100\n",
            "148/148 [==============================] - 1s 7ms/step - loss: 1.1370 - val_loss: 1.1274\n",
            "Epoch 49/100\n",
            "148/148 [==============================] - 1s 9ms/step - loss: 1.1401 - val_loss: 1.1288\n",
            "Epoch 50/100\n",
            "148/148 [==============================] - 1s 9ms/step - loss: 1.1358 - val_loss: 1.1272\n",
            "Epoch 51/100\n",
            "148/148 [==============================] - 1s 9ms/step - loss: 1.1363 - val_loss: 1.1199\n",
            "Epoch 52/100\n",
            "148/148 [==============================] - 1s 8ms/step - loss: 1.1401 - val_loss: 1.1197\n",
            "Epoch 53/100\n",
            "148/148 [==============================] - 1s 6ms/step - loss: 1.1328 - val_loss: 1.1254\n",
            "Epoch 54/100\n",
            "148/148 [==============================] - 1s 6ms/step - loss: 1.1368 - val_loss: 1.1258\n",
            "Epoch 55/100\n",
            "148/148 [==============================] - 1s 6ms/step - loss: 1.1320 - val_loss: 1.1275\n",
            "Epoch 56/100\n",
            "148/148 [==============================] - 1s 6ms/step - loss: 1.1321 - val_loss: 1.1198\n",
            "Epoch 57/100\n",
            "148/148 [==============================] - 1s 6ms/step - loss: 1.1300 - val_loss: 1.1161\n",
            "Epoch 58/100\n",
            "148/148 [==============================] - 1s 6ms/step - loss: 1.1336 - val_loss: 1.1221\n",
            "Epoch 59/100\n",
            "148/148 [==============================] - 1s 7ms/step - loss: 1.1319 - val_loss: 1.1245\n",
            "Epoch 60/100\n",
            "148/148 [==============================] - 1s 6ms/step - loss: 1.1321 - val_loss: 1.1245\n",
            "Epoch 61/100\n",
            "148/148 [==============================] - 1s 7ms/step - loss: 1.1300 - val_loss: 1.1184\n",
            "Epoch 62/100\n",
            "148/148 [==============================] - 1s 7ms/step - loss: 1.1330 - val_loss: 1.1172\n",
            "Epoch 63/100\n",
            "148/148 [==============================] - 1s 9ms/step - loss: 1.1278 - val_loss: 1.1184\n",
            "Epoch 64/100\n",
            "148/148 [==============================] - 1s 10ms/step - loss: 1.1273 - val_loss: 1.1163\n",
            "Epoch 65/100\n",
            "148/148 [==============================] - 1s 9ms/step - loss: 1.1300 - val_loss: 1.1184\n",
            "Epoch 66/100\n",
            "148/148 [==============================] - 1s 8ms/step - loss: 1.1290 - val_loss: 1.1144\n",
            "Epoch 67/100\n",
            "148/148 [==============================] - 1s 6ms/step - loss: 1.1244 - val_loss: 1.1213\n",
            "Epoch 68/100\n",
            "148/148 [==============================] - 1s 7ms/step - loss: 1.1261 - val_loss: 1.1163\n",
            "Epoch 69/100\n",
            "148/148 [==============================] - 1s 7ms/step - loss: 1.1232 - val_loss: 1.1171\n",
            "Epoch 70/100\n",
            "148/148 [==============================] - 1s 6ms/step - loss: 1.1252 - val_loss: 1.1152\n",
            "Epoch 71/100\n",
            "148/148 [==============================] - 1s 6ms/step - loss: 1.1230 - val_loss: 1.1155\n",
            "Epoch 72/100\n",
            "148/148 [==============================] - 1s 7ms/step - loss: 1.1245 - val_loss: 1.1188\n",
            "Epoch 73/100\n",
            "148/148 [==============================] - 1s 7ms/step - loss: 1.1263 - val_loss: 1.1161\n",
            "Epoch 74/100\n",
            "148/148 [==============================] - 1s 6ms/step - loss: 1.1266 - val_loss: 1.1188\n",
            "Epoch 75/100\n",
            "148/148 [==============================] - 1s 6ms/step - loss: 1.1215 - val_loss: 1.1151\n",
            "Epoch 76/100\n",
            "148/148 [==============================] - 1s 8ms/step - loss: 1.1206 - val_loss: 1.1156\n",
            "Epoch 76: early stopping\n"
          ]
        }
      ],
      "source": [
        "j = 0  # Single iteration\n",
        "\n",
        "xval_a = xtrain[(train_size*j)//5:(train_size*(j+1))//5]\n",
        "print(xval_a.shape)\n",
        "yval_a = ytrain[(train_size*j)//5:(train_size*(j+1))//5]\n",
        "xtra_a = np.concatenate((xtrain[:(train_size*j)//5], xtrain[((train_size*(j+1))//5):]), axis=0)\n",
        "ytra_a = np.concatenate((ytrain[:(train_size*j)//5], ytrain[((train_size*(j+1))//5):]), axis=0)\n",
        "\n",
        "xval_ac = xtrain1[(train_size*j)//5:(train_size*(j+1))//5]\n",
        "print(xval_ac.shape)\n",
        "yval_ac = ytrain1[(train_size*j)//5:(train_size*(j+1))//5]\n",
        "xtra_ac = np.concatenate((xtrain1[:(train_size*j)//5], xtrain1[((train_size*(j+1))//5):]), axis=0)\n",
        "ytra_ac = np.concatenate((ytrain1[:(train_size*j)//5], ytrain1[((train_size*(j+1))//5):]), axis=0)\n",
        "\n",
        "y = np.concatenate((ytra_a, ytra_a), axis=0)\n",
        "yv = np.concatenate((yval_a, yval_a), axis=0)\n",
        "\n",
        "encoder1 = create_encoder1()\n",
        "encoder2 = create_encoder2()\n",
        "encoder_with_projection_head = add_projection_head1(encoder1, encoder2)\n",
        "encoder_with_projection_head.compile(optimizer=keras.optimizers.Adam(learning_rate), loss=SupervisedContrastiveLoss(temperature))\n",
        "encoder_with_projection_head.summary()\n",
        "\n",
        "history = encoder_with_projection_head.fit([xtra_a, xtra_ac], ytra_a, validation_data=([xval_a, xval_ac], yval_a), batch_size=32, epochs=100, callbacks=[EarlyStopping(monitor='val_loss', mode='min', verbose=1, patience=10)])"
      ]
    },
    {
      "cell_type": "code",
      "execution_count": null,
      "metadata": {
        "colab": {
          "base_uri": "https://localhost:8080/"
        },
        "id": "54xq3IYgmjES",
        "outputId": "ecd9ae3d-cc92-48a7-84ad-90f94214b538"
      },
      "outputs": [
        {
          "name": "stdout",
          "output_type": "stream",
          "text": [
            "Model: \"model_8\"\n",
            "__________________________________________________________________________________________________\n",
            " Layer (type)                   Output Shape         Param #     Connected to                     \n",
            "==================================================================================================\n",
            " input_13 (InputLayer)          [(None, 19)]         0           []                               \n",
            "                                                                                                  \n",
            " input_14 (InputLayer)          [(None, 38)]         0           []                               \n",
            "                                                                                                  \n",
            " encoder1 (Encoder1)            (None, 10)           13738       ['input_13[0][0]']               \n",
            "                                                                                                  \n",
            " encoder2 (Encoder2)            (None, 10)           55082       ['input_14[0][0]']               \n",
            "                                                                                                  \n",
            " concatenate_1 (Concatenate)    (None, 20)           0           ['encoder1[1][0]',               \n",
            "                                                                  'encoder2[1][0]']               \n",
            "                                                                                                  \n",
            " dense_54 (Dense)               (None, 64)           1344        ['concatenate_1[0][0]']          \n",
            "                                                                                                  \n",
            " batch_normalization_7 (BatchNo  (None, 64)          256         ['dense_54[0][0]']               \n",
            " rmalization)                                                                                     \n",
            "                                                                                                  \n",
            " dropout_23 (Dropout)           (None, 64)           0           ['batch_normalization_7[0][0]']  \n",
            "                                                                                                  \n",
            " dense_55 (Dense)               (None, 32)           2080        ['dropout_23[0][0]']             \n",
            "                                                                                                  \n",
            " dropout_24 (Dropout)           (None, 32)           0           ['dense_55[0][0]']               \n",
            "                                                                                                  \n",
            " dense_56 (Dense)               (None, 16)           528         ['dropout_24[0][0]']             \n",
            "                                                                                                  \n",
            " dense_57 (Dense)               (None, 4)            68          ['dense_56[0][0]']               \n",
            "                                                                                                  \n",
            " dense_58 (Dense)               (None, 2)            10          ['dense_57[0][0]']               \n",
            "                                                                                                  \n",
            "==================================================================================================\n",
            "Total params: 73,106\n",
            "Trainable params: 4,158\n",
            "Non-trainable params: 68,948\n",
            "__________________________________________________________________________________________________\n",
            "Epoch 1/200\n",
            "295/295 [==============================] - 3s 5ms/step - loss: 0.5014 - sparse_categorical_accuracy: 0.7776 - val_loss: 0.3189 - val_sparse_categorical_accuracy: 0.8879\n",
            "Epoch 2/200\n",
            "295/295 [==============================] - 1s 4ms/step - loss: 0.3430 - sparse_categorical_accuracy: 0.8646 - val_loss: 0.2762 - val_sparse_categorical_accuracy: 0.8964\n",
            "Epoch 3/200\n",
            "295/295 [==============================] - 1s 4ms/step - loss: 0.3096 - sparse_categorical_accuracy: 0.8805 - val_loss: 0.2725 - val_sparse_categorical_accuracy: 0.8998\n",
            "Epoch 4/200\n",
            "295/295 [==============================] - 1s 4ms/step - loss: 0.3049 - sparse_categorical_accuracy: 0.8831 - val_loss: 0.2673 - val_sparse_categorical_accuracy: 0.8998\n",
            "Epoch 5/200\n",
            "295/295 [==============================] - 1s 4ms/step - loss: 0.3026 - sparse_categorical_accuracy: 0.8858 - val_loss: 0.2640 - val_sparse_categorical_accuracy: 0.8964\n",
            "Epoch 6/200\n",
            "295/295 [==============================] - 1s 5ms/step - loss: 0.2975 - sparse_categorical_accuracy: 0.8842 - val_loss: 0.2654 - val_sparse_categorical_accuracy: 0.9049\n",
            "Epoch 7/200\n",
            "295/295 [==============================] - 2s 7ms/step - loss: 0.2921 - sparse_categorical_accuracy: 0.8844 - val_loss: 0.2667 - val_sparse_categorical_accuracy: 0.9015\n",
            "Epoch 8/200\n",
            "295/295 [==============================] - 2s 6ms/step - loss: 0.2866 - sparse_categorical_accuracy: 0.8895 - val_loss: 0.2632 - val_sparse_categorical_accuracy: 0.9024\n",
            "Epoch 9/200\n",
            "295/295 [==============================] - 1s 4ms/step - loss: 0.2936 - sparse_categorical_accuracy: 0.8833 - val_loss: 0.2602 - val_sparse_categorical_accuracy: 0.8947\n",
            "Epoch 10/200\n",
            "295/295 [==============================] - 1s 4ms/step - loss: 0.2922 - sparse_categorical_accuracy: 0.8895 - val_loss: 0.2629 - val_sparse_categorical_accuracy: 0.9024\n",
            "Epoch 11/200\n",
            "295/295 [==============================] - 1s 4ms/step - loss: 0.2729 - sparse_categorical_accuracy: 0.8979 - val_loss: 0.2652 - val_sparse_categorical_accuracy: 0.8990\n",
            "Epoch 12/200\n",
            "295/295 [==============================] - 1s 4ms/step - loss: 0.2849 - sparse_categorical_accuracy: 0.8869 - val_loss: 0.2655 - val_sparse_categorical_accuracy: 0.9024\n",
            "Epoch 13/200\n",
            "295/295 [==============================] - 1s 4ms/step - loss: 0.2780 - sparse_categorical_accuracy: 0.8937 - val_loss: 0.2676 - val_sparse_categorical_accuracy: 0.8990\n",
            "Epoch 14/200\n",
            "295/295 [==============================] - 1s 4ms/step - loss: 0.2835 - sparse_categorical_accuracy: 0.8905 - val_loss: 0.2656 - val_sparse_categorical_accuracy: 0.9041\n",
            "Epoch 15/200\n",
            "295/295 [==============================] - 1s 4ms/step - loss: 0.2781 - sparse_categorical_accuracy: 0.8901 - val_loss: 0.2666 - val_sparse_categorical_accuracy: 0.8998\n",
            "Epoch 16/200\n",
            "295/295 [==============================] - 1s 4ms/step - loss: 0.2750 - sparse_categorical_accuracy: 0.8907 - val_loss: 0.2649 - val_sparse_categorical_accuracy: 0.9049\n",
            "Epoch 17/200\n",
            "295/295 [==============================] - 2s 5ms/step - loss: 0.2746 - sparse_categorical_accuracy: 0.8907 - val_loss: 0.2686 - val_sparse_categorical_accuracy: 0.8990\n",
            "Epoch 18/200\n",
            "295/295 [==============================] - 2s 7ms/step - loss: 0.2819 - sparse_categorical_accuracy: 0.8873 - val_loss: 0.2683 - val_sparse_categorical_accuracy: 0.8990\n",
            "Epoch 19/200\n",
            "295/295 [==============================] - 2s 6ms/step - loss: 0.2852 - sparse_categorical_accuracy: 0.8884 - val_loss: 0.2713 - val_sparse_categorical_accuracy: 0.9049\n",
            "Epoch 19: early stopping\n"
          ]
        }
      ],
      "source": [
        "learning_rate = 0.0005\n",
        "batch_size = 16\n",
        "hidden_units = 64\n",
        "projection_units = 128\n",
        "num_epochs = 200\n",
        "dropout_rate = 0.3\n",
        "num_classes = 2\n",
        "input_shape1 = (19,)\n",
        "input_shape2 = (38,)\n",
        "\n",
        "from keras.callbacks import ModelCheckpoint, EarlyStopping\n",
        "classifier = create_classifier(encoder_with_projection_head, trainable=False)\n",
        "classifier.summary()\n",
        "\n",
        "history = classifier.fit(x=[xtra_a, xtra_ac], y=ytra_a, validation_data=([xval_a, xval_ac], yval_a), batch_size=batch_size, epochs=num_epochs, callbacks=[EarlyStopping(monitor='val_loss', mode='min', verbose=1, patience=10)])"
      ]
    },
    {
      "cell_type": "code",
      "execution_count": null,
      "metadata": {
        "colab": {
          "base_uri": "https://localhost:8080/"
        },
        "id": "lKnGj0iIpkAk",
        "outputId": "702054fe-ac9f-400f-fb23-ad0d75ac3ac3"
      },
      "outputs": [
        {
          "name": "stdout",
          "output_type": "stream",
          "text": [
            "150/150 [==============================] - 0s 2ms/step - loss: 2.3964 - sparse_categorical_accuracy: 0.7304\n",
            "0.7304238677024841\n",
            "150/150 [==============================] - 1s 2ms/step\n",
            "Test accuracy: 73.042%\n",
            "Postprocessing Test accuracy: 79.578%\n",
            "Test F1_score: 67.925%\n",
            "Postprocessing F1_score: 76.781%\n"
          ]
        }
      ],
      "source": [
        "accuracy = classifier.evaluate([xtest_a, xtest_ac], ytest)[1]\n",
        "print(accuracy)\n",
        "##  Accuracy on post processed labels (each word should contain only one stressed syllable)\n",
        "pred_output= classifier.predict([xtest_a,xtest_ac])\n",
        "# pred_labels= pred_output.argmax(axis =1)\n",
        "pred1_labels = pred_output[:,1]\n",
        "post_labels = make_partitions(wtest, pred1_labels)\n",
        "post_accuracy = calculate_accuracy(post_labels, ytest)\n",
        "\n",
        "F1_score_WoPP = f1_score(ytest, pred_output.argmax(axis=1))\n",
        "F1_score_WPP = f1_score(ytest, post_labels)\n",
        "\n",
        "print(f\"Test accuracy: {round(accuracy * 100, 3)}%\")\n",
        "print(f\"Postprocessing Test accuracy: {round(post_accuracy * 100, 3)}%\")\n",
        "print(f\"Test F1_score: {round(F1_score_WoPP * 100, 3)}%\")\n",
        "print(f\"Postprocessing F1_score: {round(F1_score_WPP * 100, 3)}%\")"
      ]
    },
    {
      "cell_type": "code",
      "execution_count": null,
      "metadata": {
        "id": "gtjp_waVryHJ"
      },
      "outputs": [],
      "source": [
        "from sklearn.model_selection import train_test_split\n",
        "\n",
        "# Splitting xtrain and ytrain into training and validation sets\n",
        "xtra_a, xval_a, ytra_a, yval_a = train_test_split(xtrain, ytrain, test_size=0.2, random_state=42)\n",
        "\n",
        "# Splitting xtrain1 and ytrain1 into training and validation sets\n",
        "xtra_ac, xval_ac, ytra_ac, yval_ac = train_test_split(xtrain1, ytrain1, test_size=0.2, random_state=42)"
      ]
    },
    {
      "cell_type": "code",
      "execution_count": null,
      "metadata": {
        "colab": {
          "base_uri": "https://localhost:8080/"
        },
        "id": "eUWyLi4arA7L",
        "outputId": "949840b8-ddee-41e6-a948-724edc943e9e"
      },
      "outputs": [
        {
          "name": "stdout",
          "output_type": "stream",
          "text": [
            "Model: \"model_1\"\n",
            "_________________________________________________________________\n",
            " Layer (type)                Output Shape              Param #   \n",
            "=================================================================\n",
            " input_2 (InputLayer)        [(None, 19)]              0         \n",
            "                                                                 \n",
            " dense_5 (Dense)             (None, 64)                1280      \n",
            "                                                                 \n",
            " batch_normalization_1 (Batc  (None, 64)               256       \n",
            " hNormalization)                                                 \n",
            "                                                                 \n",
            " dropout_2 (Dropout)         (None, 64)                0         \n",
            "                                                                 \n",
            " dense_6 (Dense)             (None, 32)                2080      \n",
            "                                                                 \n",
            " dropout_3 (Dropout)         (None, 32)                0         \n",
            "                                                                 \n",
            " dense_7 (Dense)             (None, 16)                528       \n",
            "                                                                 \n",
            " dense_8 (Dense)             (None, 4)                 68        \n",
            "                                                                 \n",
            " dense_9 (Dense)             (None, 2)                 10        \n",
            "                                                                 \n",
            "=================================================================\n",
            "Total params: 4,222\n",
            "Trainable params: 4,094\n",
            "Non-trainable params: 128\n",
            "_________________________________________________________________\n",
            "Epoch 1/200\n",
            "295/295 [==============================] - 4s 4ms/step - loss: 0.6178 - sparse_categorical_accuracy: 0.6715 - val_loss: 0.5421 - val_sparse_categorical_accuracy: 0.7345\n",
            "Epoch 2/200\n",
            "295/295 [==============================] - 1s 3ms/step - loss: 0.5631 - sparse_categorical_accuracy: 0.7129 - val_loss: 0.5196 - val_sparse_categorical_accuracy: 0.7430\n",
            "Epoch 3/200\n",
            "295/295 [==============================] - 1s 3ms/step - loss: 0.5459 - sparse_categorical_accuracy: 0.7337 - val_loss: 0.5038 - val_sparse_categorical_accuracy: 0.7634\n",
            "Epoch 4/200\n",
            "295/295 [==============================] - 1s 3ms/step - loss: 0.5292 - sparse_categorical_accuracy: 0.7381 - val_loss: 0.4899 - val_sparse_categorical_accuracy: 0.7676\n",
            "Epoch 5/200\n",
            "295/295 [==============================] - 1s 3ms/step - loss: 0.5185 - sparse_categorical_accuracy: 0.7494 - val_loss: 0.4864 - val_sparse_categorical_accuracy: 0.7718\n",
            "Epoch 6/200\n",
            "295/295 [==============================] - 1s 3ms/step - loss: 0.5301 - sparse_categorical_accuracy: 0.7498 - val_loss: 0.4864 - val_sparse_categorical_accuracy: 0.7744\n",
            "Epoch 7/200\n",
            "295/295 [==============================] - 1s 3ms/step - loss: 0.5073 - sparse_categorical_accuracy: 0.7547 - val_loss: 0.4773 - val_sparse_categorical_accuracy: 0.7795\n",
            "Epoch 8/200\n",
            "295/295 [==============================] - 1s 3ms/step - loss: 0.5079 - sparse_categorical_accuracy: 0.7585 - val_loss: 0.4757 - val_sparse_categorical_accuracy: 0.7761\n",
            "Epoch 9/200\n",
            "295/295 [==============================] - 1s 3ms/step - loss: 0.5006 - sparse_categorical_accuracy: 0.7625 - val_loss: 0.4740 - val_sparse_categorical_accuracy: 0.7761\n",
            "Epoch 10/200\n",
            "295/295 [==============================] - 1s 5ms/step - loss: 0.5025 - sparse_categorical_accuracy: 0.7617 - val_loss: 0.4715 - val_sparse_categorical_accuracy: 0.7769\n",
            "Epoch 11/200\n",
            "295/295 [==============================] - 1s 4ms/step - loss: 0.4898 - sparse_categorical_accuracy: 0.7655 - val_loss: 0.4664 - val_sparse_categorical_accuracy: 0.7752\n",
            "Epoch 12/200\n",
            "295/295 [==============================] - 2s 5ms/step - loss: 0.4917 - sparse_categorical_accuracy: 0.7680 - val_loss: 0.4673 - val_sparse_categorical_accuracy: 0.7795\n",
            "Epoch 13/200\n",
            "295/295 [==============================] - 1s 3ms/step - loss: 0.4817 - sparse_categorical_accuracy: 0.7646 - val_loss: 0.4611 - val_sparse_categorical_accuracy: 0.7863\n",
            "Epoch 14/200\n",
            "295/295 [==============================] - 1s 3ms/step - loss: 0.4803 - sparse_categorical_accuracy: 0.7744 - val_loss: 0.4619 - val_sparse_categorical_accuracy: 0.7854\n",
            "Epoch 15/200\n",
            "295/295 [==============================] - 1s 3ms/step - loss: 0.4843 - sparse_categorical_accuracy: 0.7755 - val_loss: 0.4558 - val_sparse_categorical_accuracy: 0.7930\n",
            "Epoch 16/200\n",
            "295/295 [==============================] - 1s 3ms/step - loss: 0.4789 - sparse_categorical_accuracy: 0.7774 - val_loss: 0.4526 - val_sparse_categorical_accuracy: 0.7913\n",
            "Epoch 17/200\n",
            "295/295 [==============================] - 1s 3ms/step - loss: 0.4770 - sparse_categorical_accuracy: 0.7736 - val_loss: 0.4503 - val_sparse_categorical_accuracy: 0.7973\n",
            "Epoch 18/200\n",
            "295/295 [==============================] - 1s 3ms/step - loss: 0.4850 - sparse_categorical_accuracy: 0.7787 - val_loss: 0.4475 - val_sparse_categorical_accuracy: 0.7964\n",
            "Epoch 19/200\n",
            "295/295 [==============================] - 1s 3ms/step - loss: 0.4707 - sparse_categorical_accuracy: 0.7808 - val_loss: 0.4485 - val_sparse_categorical_accuracy: 0.8032\n",
            "Epoch 20/200\n",
            "295/295 [==============================] - 1s 3ms/step - loss: 0.4643 - sparse_categorical_accuracy: 0.7865 - val_loss: 0.4450 - val_sparse_categorical_accuracy: 0.8032\n",
            "Epoch 21/200\n",
            "295/295 [==============================] - 1s 3ms/step - loss: 0.4700 - sparse_categorical_accuracy: 0.7748 - val_loss: 0.4466 - val_sparse_categorical_accuracy: 0.7990\n",
            "Epoch 22/200\n",
            "295/295 [==============================] - 1s 3ms/step - loss: 0.4686 - sparse_categorical_accuracy: 0.7778 - val_loss: 0.4447 - val_sparse_categorical_accuracy: 0.8024\n",
            "Epoch 23/200\n",
            "295/295 [==============================] - 1s 3ms/step - loss: 0.4627 - sparse_categorical_accuracy: 0.7878 - val_loss: 0.4436 - val_sparse_categorical_accuracy: 0.7973\n",
            "Epoch 24/200\n",
            "295/295 [==============================] - 1s 5ms/step - loss: 0.4643 - sparse_categorical_accuracy: 0.7816 - val_loss: 0.4392 - val_sparse_categorical_accuracy: 0.8041\n",
            "Epoch 25/200\n",
            "295/295 [==============================] - 1s 4ms/step - loss: 0.4591 - sparse_categorical_accuracy: 0.7861 - val_loss: 0.4377 - val_sparse_categorical_accuracy: 0.8083\n",
            "Epoch 26/200\n",
            "295/295 [==============================] - 1s 4ms/step - loss: 0.4617 - sparse_categorical_accuracy: 0.7944 - val_loss: 0.4380 - val_sparse_categorical_accuracy: 0.8058\n",
            "Epoch 27/200\n",
            "295/295 [==============================] - 1s 4ms/step - loss: 0.4564 - sparse_categorical_accuracy: 0.7965 - val_loss: 0.4398 - val_sparse_categorical_accuracy: 0.7998\n",
            "Epoch 28/200\n",
            "295/295 [==============================] - 1s 3ms/step - loss: 0.4580 - sparse_categorical_accuracy: 0.7871 - val_loss: 0.4387 - val_sparse_categorical_accuracy: 0.8049\n",
            "Epoch 29/200\n",
            "295/295 [==============================] - 1s 3ms/step - loss: 0.4601 - sparse_categorical_accuracy: 0.7874 - val_loss: 0.4381 - val_sparse_categorical_accuracy: 0.8032\n",
            "Epoch 30/200\n",
            "295/295 [==============================] - 1s 3ms/step - loss: 0.4419 - sparse_categorical_accuracy: 0.7992 - val_loss: 0.4363 - val_sparse_categorical_accuracy: 0.8007\n",
            "Epoch 31/200\n",
            "295/295 [==============================] - 1s 5ms/step - loss: 0.4473 - sparse_categorical_accuracy: 0.7933 - val_loss: 0.4363 - val_sparse_categorical_accuracy: 0.8007\n",
            "Epoch 32/200\n",
            "295/295 [==============================] - 1s 5ms/step - loss: 0.4455 - sparse_categorical_accuracy: 0.7946 - val_loss: 0.4344 - val_sparse_categorical_accuracy: 0.8117\n",
            "Epoch 33/200\n",
            "295/295 [==============================] - 1s 3ms/step - loss: 0.4588 - sparse_categorical_accuracy: 0.7939 - val_loss: 0.4376 - val_sparse_categorical_accuracy: 0.8032\n",
            "Epoch 34/200\n",
            "295/295 [==============================] - 1s 3ms/step - loss: 0.4513 - sparse_categorical_accuracy: 0.7901 - val_loss: 0.4366 - val_sparse_categorical_accuracy: 0.8041\n",
            "Epoch 35/200\n",
            "295/295 [==============================] - 1s 3ms/step - loss: 0.4487 - sparse_categorical_accuracy: 0.7990 - val_loss: 0.4343 - val_sparse_categorical_accuracy: 0.8075\n",
            "Epoch 36/200\n",
            "295/295 [==============================] - 1s 3ms/step - loss: 0.4502 - sparse_categorical_accuracy: 0.7933 - val_loss: 0.4334 - val_sparse_categorical_accuracy: 0.8185\n",
            "Epoch 37/200\n",
            "295/295 [==============================] - 1s 3ms/step - loss: 0.4423 - sparse_categorical_accuracy: 0.7982 - val_loss: 0.4314 - val_sparse_categorical_accuracy: 0.8134\n",
            "Epoch 38/200\n",
            "295/295 [==============================] - 1s 5ms/step - loss: 0.4495 - sparse_categorical_accuracy: 0.7984 - val_loss: 0.4309 - val_sparse_categorical_accuracy: 0.8109\n",
            "Epoch 39/200\n",
            "295/295 [==============================] - 1s 5ms/step - loss: 0.4397 - sparse_categorical_accuracy: 0.8003 - val_loss: 0.4329 - val_sparse_categorical_accuracy: 0.8049\n",
            "Epoch 40/200\n",
            "295/295 [==============================] - 1s 5ms/step - loss: 0.4391 - sparse_categorical_accuracy: 0.7984 - val_loss: 0.4319 - val_sparse_categorical_accuracy: 0.8092\n",
            "Epoch 41/200\n",
            "295/295 [==============================] - 1s 3ms/step - loss: 0.4379 - sparse_categorical_accuracy: 0.7994 - val_loss: 0.4279 - val_sparse_categorical_accuracy: 0.8100\n",
            "Epoch 42/200\n",
            "295/295 [==============================] - 1s 3ms/step - loss: 0.4380 - sparse_categorical_accuracy: 0.8073 - val_loss: 0.4312 - val_sparse_categorical_accuracy: 0.8117\n",
            "Epoch 43/200\n",
            "295/295 [==============================] - 1s 3ms/step - loss: 0.4399 - sparse_categorical_accuracy: 0.8050 - val_loss: 0.4299 - val_sparse_categorical_accuracy: 0.8041\n",
            "Epoch 44/200\n",
            "295/295 [==============================] - 1s 3ms/step - loss: 0.4391 - sparse_categorical_accuracy: 0.8028 - val_loss: 0.4304 - val_sparse_categorical_accuracy: 0.8066\n",
            "Epoch 45/200\n",
            "295/295 [==============================] - 1s 3ms/step - loss: 0.4403 - sparse_categorical_accuracy: 0.7982 - val_loss: 0.4317 - val_sparse_categorical_accuracy: 0.8058\n",
            "Epoch 46/200\n",
            "295/295 [==============================] - 1s 3ms/step - loss: 0.4299 - sparse_categorical_accuracy: 0.8058 - val_loss: 0.4278 - val_sparse_categorical_accuracy: 0.8024\n",
            "Epoch 47/200\n",
            "295/295 [==============================] - 1s 3ms/step - loss: 0.4420 - sparse_categorical_accuracy: 0.8011 - val_loss: 0.4305 - val_sparse_categorical_accuracy: 0.8015\n",
            "Epoch 48/200\n",
            "295/295 [==============================] - 1s 3ms/step - loss: 0.4283 - sparse_categorical_accuracy: 0.8060 - val_loss: 0.4301 - val_sparse_categorical_accuracy: 0.7990\n",
            "Epoch 49/200\n",
            "295/295 [==============================] - 1s 3ms/step - loss: 0.4295 - sparse_categorical_accuracy: 0.8094 - val_loss: 0.4217 - val_sparse_categorical_accuracy: 0.8083\n",
            "Epoch 50/200\n",
            "295/295 [==============================] - 1s 3ms/step - loss: 0.4257 - sparse_categorical_accuracy: 0.8065 - val_loss: 0.4224 - val_sparse_categorical_accuracy: 0.8109\n",
            "Epoch 51/200\n",
            "295/295 [==============================] - 1s 3ms/step - loss: 0.4395 - sparse_categorical_accuracy: 0.7982 - val_loss: 0.4262 - val_sparse_categorical_accuracy: 0.8032\n",
            "Epoch 52/200\n",
            "295/295 [==============================] - 1s 5ms/step - loss: 0.4336 - sparse_categorical_accuracy: 0.7997 - val_loss: 0.4259 - val_sparse_categorical_accuracy: 0.8100\n",
            "Epoch 53/200\n",
            "295/295 [==============================] - 2s 5ms/step - loss: 0.4238 - sparse_categorical_accuracy: 0.8075 - val_loss: 0.4209 - val_sparse_categorical_accuracy: 0.8049\n",
            "Epoch 54/200\n",
            "295/295 [==============================] - 2s 6ms/step - loss: 0.4296 - sparse_categorical_accuracy: 0.8052 - val_loss: 0.4200 - val_sparse_categorical_accuracy: 0.8092\n",
            "Epoch 55/200\n",
            "295/295 [==============================] - 1s 3ms/step - loss: 0.4316 - sparse_categorical_accuracy: 0.8041 - val_loss: 0.4216 - val_sparse_categorical_accuracy: 0.8058\n",
            "Epoch 56/200\n",
            "295/295 [==============================] - 1s 3ms/step - loss: 0.4279 - sparse_categorical_accuracy: 0.8107 - val_loss: 0.4204 - val_sparse_categorical_accuracy: 0.8100\n",
            "Epoch 57/200\n",
            "295/295 [==============================] - 1s 3ms/step - loss: 0.4253 - sparse_categorical_accuracy: 0.8088 - val_loss: 0.4182 - val_sparse_categorical_accuracy: 0.8066\n",
            "Epoch 58/200\n",
            "295/295 [==============================] - 1s 3ms/step - loss: 0.4323 - sparse_categorical_accuracy: 0.8113 - val_loss: 0.4185 - val_sparse_categorical_accuracy: 0.8058\n",
            "Epoch 59/200\n",
            "295/295 [==============================] - 1s 3ms/step - loss: 0.4235 - sparse_categorical_accuracy: 0.8092 - val_loss: 0.4216 - val_sparse_categorical_accuracy: 0.8049\n",
            "Epoch 60/200\n",
            "295/295 [==============================] - 1s 5ms/step - loss: 0.4208 - sparse_categorical_accuracy: 0.8132 - val_loss: 0.4201 - val_sparse_categorical_accuracy: 0.8049\n",
            "Epoch 61/200\n",
            "295/295 [==============================] - 1s 5ms/step - loss: 0.4228 - sparse_categorical_accuracy: 0.8077 - val_loss: 0.4152 - val_sparse_categorical_accuracy: 0.8041\n",
            "Epoch 62/200\n",
            "295/295 [==============================] - 1s 5ms/step - loss: 0.4261 - sparse_categorical_accuracy: 0.8016 - val_loss: 0.4218 - val_sparse_categorical_accuracy: 0.8041\n",
            "Epoch 63/200\n",
            "295/295 [==============================] - 1s 4ms/step - loss: 0.4245 - sparse_categorical_accuracy: 0.8062 - val_loss: 0.4208 - val_sparse_categorical_accuracy: 0.8049\n",
            "Epoch 64/200\n",
            "295/295 [==============================] - 2s 5ms/step - loss: 0.4145 - sparse_categorical_accuracy: 0.8169 - val_loss: 0.4196 - val_sparse_categorical_accuracy: 0.8100\n",
            "Epoch 65/200\n",
            "295/295 [==============================] - 2s 5ms/step - loss: 0.4229 - sparse_categorical_accuracy: 0.8084 - val_loss: 0.4193 - val_sparse_categorical_accuracy: 0.8083\n",
            "Epoch 66/200\n",
            "295/295 [==============================] - 1s 5ms/step - loss: 0.4233 - sparse_categorical_accuracy: 0.8079 - val_loss: 0.4169 - val_sparse_categorical_accuracy: 0.8126\n",
            "Epoch 67/200\n",
            "295/295 [==============================] - 1s 3ms/step - loss: 0.4139 - sparse_categorical_accuracy: 0.8156 - val_loss: 0.4152 - val_sparse_categorical_accuracy: 0.8058\n",
            "Epoch 68/200\n",
            "295/295 [==============================] - 1s 3ms/step - loss: 0.4121 - sparse_categorical_accuracy: 0.8158 - val_loss: 0.4123 - val_sparse_categorical_accuracy: 0.8092\n",
            "Epoch 69/200\n",
            "295/295 [==============================] - 1s 3ms/step - loss: 0.4208 - sparse_categorical_accuracy: 0.8111 - val_loss: 0.4132 - val_sparse_categorical_accuracy: 0.8126\n",
            "Epoch 70/200\n",
            "295/295 [==============================] - 1s 3ms/step - loss: 0.4145 - sparse_categorical_accuracy: 0.8166 - val_loss: 0.4116 - val_sparse_categorical_accuracy: 0.8058\n",
            "Epoch 71/200\n",
            "295/295 [==============================] - 1s 3ms/step - loss: 0.4127 - sparse_categorical_accuracy: 0.8143 - val_loss: 0.4118 - val_sparse_categorical_accuracy: 0.8100\n",
            "Epoch 72/200\n",
            "295/295 [==============================] - 1s 3ms/step - loss: 0.4173 - sparse_categorical_accuracy: 0.8077 - val_loss: 0.4141 - val_sparse_categorical_accuracy: 0.8126\n",
            "Epoch 73/200\n",
            "295/295 [==============================] - 1s 3ms/step - loss: 0.4123 - sparse_categorical_accuracy: 0.8169 - val_loss: 0.4103 - val_sparse_categorical_accuracy: 0.8092\n",
            "Epoch 74/200\n",
            "295/295 [==============================] - 1s 3ms/step - loss: 0.4257 - sparse_categorical_accuracy: 0.8086 - val_loss: 0.4117 - val_sparse_categorical_accuracy: 0.8100\n",
            "Epoch 75/200\n",
            "295/295 [==============================] - 1s 3ms/step - loss: 0.4133 - sparse_categorical_accuracy: 0.8113 - val_loss: 0.4108 - val_sparse_categorical_accuracy: 0.8058\n",
            "Epoch 76/200\n",
            "295/295 [==============================] - 1s 3ms/step - loss: 0.4146 - sparse_categorical_accuracy: 0.8145 - val_loss: 0.4119 - val_sparse_categorical_accuracy: 0.8117\n",
            "Epoch 77/200\n",
            "295/295 [==============================] - 3s 10ms/step - loss: 0.4129 - sparse_categorical_accuracy: 0.8132 - val_loss: 0.4184 - val_sparse_categorical_accuracy: 0.8134\n",
            "Epoch 78/200\n",
            "295/295 [==============================] - 2s 5ms/step - loss: 0.4110 - sparse_categorical_accuracy: 0.8173 - val_loss: 0.4165 - val_sparse_categorical_accuracy: 0.8117\n",
            "Epoch 79/200\n",
            "295/295 [==============================] - 1s 4ms/step - loss: 0.4148 - sparse_categorical_accuracy: 0.8124 - val_loss: 0.4156 - val_sparse_categorical_accuracy: 0.8041\n",
            "Epoch 80/200\n",
            "295/295 [==============================] - 1s 3ms/step - loss: 0.4101 - sparse_categorical_accuracy: 0.8109 - val_loss: 0.4151 - val_sparse_categorical_accuracy: 0.8100\n",
            "Epoch 81/200\n",
            "295/295 [==============================] - 1s 3ms/step - loss: 0.4071 - sparse_categorical_accuracy: 0.8179 - val_loss: 0.4096 - val_sparse_categorical_accuracy: 0.8066\n",
            "Epoch 82/200\n",
            "295/295 [==============================] - 1s 3ms/step - loss: 0.4169 - sparse_categorical_accuracy: 0.8094 - val_loss: 0.4113 - val_sparse_categorical_accuracy: 0.8083\n",
            "Epoch 83/200\n",
            "295/295 [==============================] - 1s 4ms/step - loss: 0.4039 - sparse_categorical_accuracy: 0.8179 - val_loss: 0.4186 - val_sparse_categorical_accuracy: 0.8049\n",
            "Epoch 84/200\n",
            "295/295 [==============================] - 1s 4ms/step - loss: 0.4055 - sparse_categorical_accuracy: 0.8192 - val_loss: 0.4153 - val_sparse_categorical_accuracy: 0.8083\n",
            "Epoch 85/200\n",
            "295/295 [==============================] - 1s 4ms/step - loss: 0.4022 - sparse_categorical_accuracy: 0.8152 - val_loss: 0.4123 - val_sparse_categorical_accuracy: 0.8092\n",
            "Epoch 86/200\n",
            "295/295 [==============================] - 1s 3ms/step - loss: 0.4075 - sparse_categorical_accuracy: 0.8177 - val_loss: 0.4145 - val_sparse_categorical_accuracy: 0.8126\n",
            "Epoch 87/200\n",
            "295/295 [==============================] - 1s 3ms/step - loss: 0.3962 - sparse_categorical_accuracy: 0.8177 - val_loss: 0.4151 - val_sparse_categorical_accuracy: 0.8100\n",
            "Epoch 88/200\n",
            "295/295 [==============================] - 1s 3ms/step - loss: 0.4113 - sparse_categorical_accuracy: 0.8149 - val_loss: 0.4160 - val_sparse_categorical_accuracy: 0.8159\n",
            "Epoch 89/200\n",
            "295/295 [==============================] - 1s 3ms/step - loss: 0.4067 - sparse_categorical_accuracy: 0.8111 - val_loss: 0.4163 - val_sparse_categorical_accuracy: 0.8092\n",
            "Epoch 90/200\n",
            "295/295 [==============================] - 2s 6ms/step - loss: 0.4100 - sparse_categorical_accuracy: 0.8185 - val_loss: 0.4160 - val_sparse_categorical_accuracy: 0.8066\n",
            "Epoch 91/200\n",
            "295/295 [==============================] - 2s 5ms/step - loss: 0.4052 - sparse_categorical_accuracy: 0.8202 - val_loss: 0.4101 - val_sparse_categorical_accuracy: 0.8083\n",
            "Epoch 91: early stopping\n"
          ]
        }
      ],
      "source": [
        "def create_classifier():\n",
        "\n",
        "    # for layer in encoder.layers:\n",
        "    #     layer.trainable = trainable\n",
        "\n",
        "    inputs1 = keras.Input(shape=input_shape1)\n",
        "    # inputs2 = keras.Input(shape=input_shape2)\n",
        "    # features1 = encoder1(inputs1)\n",
        "    # features2 = encoder2(inputs2)\n",
        "    # features = tf.keras.layers.Concatenate(axis=1)([features1, features2])\n",
        "    # # features = layers.Dropout(0.2)(features)\n",
        "    features = layers.Dense(64, activation=\"relu\")(inputs1)\n",
        "    features = layers.BatchNormalization()(features)\n",
        "    features = layers.Dropout(dropout_rate)(features)\n",
        "    features = layers.Dense(32, activation=\"relu\")(features)\n",
        "    features = layers.Dropout(0.2)(features)\n",
        "    features = layers.Dense(16, activation=\"relu\")(features)\n",
        "    # features = layers.BatchNormalization()(features)\n",
        "    # features = layers.Dropout(0.2)(features)\n",
        "    features = layers.Dense(4, activation=\"relu\")(features)\n",
        "    # features = layers.BatchNormalization()(features)\n",
        "    # features = layers.Dropout(0.1)(features)\n",
        "    outputs = layers.Dense(num_classes, activation=\"softmax\")(features)\n",
        "\n",
        "    model = keras.Model(inputs=inputs1, outputs=outputs)\n",
        "    model.compile(\n",
        "        optimizer=keras.optimizers.Adam(learning_rate),\n",
        "        loss=keras.losses.SparseCategoricalCrossentropy(),\n",
        "        metrics=[keras.metrics.SparseCategoricalAccuracy()],\n",
        "    )\n",
        "    return model\n",
        "\n",
        "\n",
        "learning_rate = 0.0005\n",
        "batch_size = 16\n",
        "hidden_units = 64\n",
        "projection_units = 128\n",
        "num_epochs = 200\n",
        "dropout_rate = 0.3\n",
        "num_classes = 2\n",
        "input_shape1 = (19,)\n",
        "input_shape2 = (38,)\n",
        "\n",
        "from keras.callbacks import ModelCheckpoint, EarlyStopping\n",
        "classifier = create_classifier()\n",
        "classifier.summary()\n",
        "\n",
        "history = classifier.fit(x=xtra_a, y=ytra_a, validation_data=(xval_a, yval_a), batch_size=batch_size, epochs=num_epochs, callbacks=[EarlyStopping(monitor='val_loss', mode='min', verbose=1, patience=10)])"
      ]
    },
    {
      "cell_type": "code",
      "execution_count": null,
      "metadata": {
        "colab": {
          "base_uri": "https://localhost:8080/"
        },
        "id": "fzfXYv3ptLUz",
        "outputId": "c041c211-c8a6-4596-d343-b9383f18617a"
      },
      "outputs": [
        {
          "name": "stdout",
          "output_type": "stream",
          "text": [
            "9578\n"
          ]
        }
      ],
      "source": [
        "print(len(post_labels))"
      ]
    },
    {
      "cell_type": "code",
      "execution_count": null,
      "metadata": {
        "colab": {
          "base_uri": "https://localhost:8080/"
        },
        "id": "p1SsgpAIsaR0",
        "outputId": "640810eb-b8e5-44bb-8343-4dba114bd674"
      },
      "outputs": [
        {
          "name": "stdout",
          "output_type": "stream",
          "text": [
            "150/150 [==============================] - 0s 3ms/step - loss: 0.4110 - sparse_categorical_accuracy: 0.8158\n",
            "0.8158279657363892\n",
            "150/150 [==============================] - 0s 3ms/step\n",
            "Test accuracy: 81.583%\n",
            "Postprocessing Test accuracy: 26.999%\n",
            "Test F1_score: 79.218%\n"
          ]
        }
      ],
      "source": [
        "accuracy = classifier.evaluate(xtest_a, ytest)[1]\n",
        "print(accuracy)\n",
        "##  Accuracy on post processed labels (each word should contain only one stressed syllable)\n",
        "pred_output= classifier.predict(xtest_a)\n",
        "# pred_labels= pred_output.argmax(axis =1)\n",
        "pred1_labels = pred_output\n",
        "post_labels = make_partitions(wtest, pred1_labels)\n",
        "post_accuracy = calculate_accuracy(post_labels, ytest)\n",
        "\n",
        "F1_score_WoPP = f1_score(ytest, pred_output.argmax(axis=1))\n",
        "\n",
        "\n",
        "print(f\"Test accuracy: {round(accuracy * 100, 3)}%\")\n",
        "print(f\"Postprocessing Test accuracy: {round(post_accuracy * 100, 3)}%\")\n",
        "print(f\"Test F1_score: {round(F1_score_WoPP * 100, 3)}%\")\n",
        "# print(f\"Postprocessing F1_score: {round(F1_score_WPP * 100, 3)}%\")"
      ]
    },
    {
      "cell_type": "code",
      "execution_count": null,
      "metadata": {
        "id": "8N2thWrat6w2"
      },
      "outputs": [],
      "source": [
        "from sklearn.model_selection import train_test_split\n",
        "\n",
        "# Splitting xtrain and ytrain into training and validation sets\n",
        "xtra_a, xval_a, ytra_a, yval_a = train_test_split(xtrain, ytrain, test_size=0.2, random_state=42)\n",
        "\n",
        "# Splitting xtrain1 and ytrain1 into training and validation sets\n",
        "xtra_ac, xval_ac, ytra_ac, yval_ac = train_test_split(xtrain1, ytrain1, test_size=0.2, random_state=42)"
      ]
    },
    {
      "cell_type": "code",
      "execution_count": null,
      "metadata": {
        "id": "gdsM0lUguKBP"
      },
      "outputs": [],
      "source": [
        "def create_classifier():\n",
        "\n",
        "    inputs2 = keras.Input(shape=input_shape2)\n",
        "    # features1 = encoder1(inputs1)\n",
        "    # features2 = encoder2(inputs2)\n",
        "    # features = tf.keras.layers.Concatenate(axis=1)([features1, features2])\n",
        "    # # features = layers.Dropout(0.2)(features)\n",
        "    features = layers.Dense(128, activation=\"relu\")(inputs2)\n",
        "    # features = layers.BatchNormalization()(features)\n",
        "    features = layers.Dropout(0.3)(features)\n",
        "    features = layers.Dense(64, activation=\"relu\")(features)\n",
        "    # features = layers.BatchNormalization()(features)\n",
        "    features = layers.Dropout(0.3)(features)\n",
        "    features = layers.Dense(32, activation=\"relu\")(features)\n",
        "    features = layers.Dropout(0.2)(features)\n",
        "    features = layers.Dense(16, activation=\"relu\")(features)\n",
        "    # features = layers.BatchNormalization()(features)\n",
        "    # features = layers.Dropout(0.2)(features)\n",
        "    features = layers.Dense(4, activation=\"relu\")(features)\n",
        "    # features = layers.BatchNormalization()(features)\n",
        "    # features = layers.Dropout(0.1)(features)\n",
        "    outputs = layers.Dense(num_classes, activation=\"softmax\")(features)\n",
        "\n",
        "    model = keras.Model(inputs=inputs2, outputs=outputs)\n",
        "    model.compile(\n",
        "        optimizer=keras.optimizers.Adam(learning_rate),\n",
        "        loss=keras.losses.SparseCategoricalCrossentropy(),\n",
        "        metrics=[keras.metrics.SparseCategoricalAccuracy()],\n",
        "    )\n",
        "    return model"
      ]
    },
    {
      "cell_type": "code",
      "execution_count": null,
      "metadata": {
        "colab": {
          "base_uri": "https://localhost:8080/"
        },
        "id": "GLNdV8PvuXyZ",
        "outputId": "726f583e-d99e-4c7e-f1ea-7352a919e8d9"
      },
      "outputs": [
        {
          "name": "stdout",
          "output_type": "stream",
          "text": [
            "Model: \"model_7\"\n",
            "_________________________________________________________________\n",
            " Layer (type)                Output Shape              Param #   \n",
            "=================================================================\n",
            " input_8 (InputLayer)        [(None, 38)]              0         \n",
            "                                                                 \n",
            " dense_38 (Dense)            (None, 128)               4992      \n",
            "                                                                 \n",
            " dropout_17 (Dropout)        (None, 128)               0         \n",
            "                                                                 \n",
            " dense_39 (Dense)            (None, 64)                8256      \n",
            "                                                                 \n",
            " dropout_18 (Dropout)        (None, 64)                0         \n",
            "                                                                 \n",
            " dense_40 (Dense)            (None, 32)                2080      \n",
            "                                                                 \n",
            " dropout_19 (Dropout)        (None, 32)                0         \n",
            "                                                                 \n",
            " dense_41 (Dense)            (None, 16)                528       \n",
            "                                                                 \n",
            " dense_42 (Dense)            (None, 4)                 68        \n",
            "                                                                 \n",
            " dense_43 (Dense)            (None, 2)                 10        \n",
            "                                                                 \n",
            "=================================================================\n",
            "Total params: 15,934\n",
            "Trainable params: 15,934\n",
            "Non-trainable params: 0\n",
            "_________________________________________________________________\n",
            "Epoch 1/200\n",
            "74/74 [==============================] - 3s 10ms/step - loss: 0.7085 - sparse_categorical_accuracy: 0.5172 - val_loss: 0.6889 - val_sparse_categorical_accuracy: 0.5674\n",
            "Epoch 2/200\n",
            "74/74 [==============================] - 1s 8ms/step - loss: 0.6831 - sparse_categorical_accuracy: 0.6131 - val_loss: 0.6529 - val_sparse_categorical_accuracy: 0.6955\n",
            "Epoch 3/200\n",
            "74/74 [==============================] - 1s 7ms/step - loss: 0.6723 - sparse_categorical_accuracy: 0.6324 - val_loss: 0.6418 - val_sparse_categorical_accuracy: 0.7125\n",
            "Epoch 4/200\n",
            "74/74 [==============================] - 0s 5ms/step - loss: 0.6539 - sparse_categorical_accuracy: 0.6793 - val_loss: 0.6214 - val_sparse_categorical_accuracy: 0.7260\n",
            "Epoch 5/200\n",
            "74/74 [==============================] - 0s 4ms/step - loss: 0.6371 - sparse_categorical_accuracy: 0.7006 - val_loss: 0.6064 - val_sparse_categorical_accuracy: 0.7354\n",
            "Epoch 6/200\n",
            "74/74 [==============================] - 0s 4ms/step - loss: 0.6156 - sparse_categorical_accuracy: 0.7209 - val_loss: 0.5804 - val_sparse_categorical_accuracy: 0.7532\n",
            "Epoch 7/200\n",
            "74/74 [==============================] - 0s 4ms/step - loss: 0.5801 - sparse_categorical_accuracy: 0.7311 - val_loss: 0.5369 - val_sparse_categorical_accuracy: 0.7642\n",
            "Epoch 8/200\n",
            "74/74 [==============================] - 0s 3ms/step - loss: 0.5423 - sparse_categorical_accuracy: 0.7511 - val_loss: 0.5224 - val_sparse_categorical_accuracy: 0.7651\n",
            "Epoch 9/200\n",
            "74/74 [==============================] - 0s 4ms/step - loss: 0.5254 - sparse_categorical_accuracy: 0.7500 - val_loss: 0.5131 - val_sparse_categorical_accuracy: 0.7608\n",
            "Epoch 10/200\n",
            "74/74 [==============================] - 0s 4ms/step - loss: 0.5195 - sparse_categorical_accuracy: 0.7629 - val_loss: 0.4985 - val_sparse_categorical_accuracy: 0.7684\n",
            "Epoch 11/200\n",
            "74/74 [==============================] - 0s 4ms/step - loss: 0.5069 - sparse_categorical_accuracy: 0.7668 - val_loss: 0.4933 - val_sparse_categorical_accuracy: 0.7710\n",
            "Epoch 12/200\n",
            "74/74 [==============================] - 0s 4ms/step - loss: 0.4969 - sparse_categorical_accuracy: 0.7695 - val_loss: 0.4875 - val_sparse_categorical_accuracy: 0.7752\n",
            "Epoch 13/200\n",
            "74/74 [==============================] - 0s 5ms/step - loss: 0.4899 - sparse_categorical_accuracy: 0.7806 - val_loss: 0.4778 - val_sparse_categorical_accuracy: 0.7803\n",
            "Epoch 14/200\n",
            "74/74 [==============================] - 0s 6ms/step - loss: 0.4849 - sparse_categorical_accuracy: 0.7759 - val_loss: 0.4721 - val_sparse_categorical_accuracy: 0.7880\n",
            "Epoch 15/200\n",
            "74/74 [==============================] - 0s 6ms/step - loss: 0.4674 - sparse_categorical_accuracy: 0.7897 - val_loss: 0.4698 - val_sparse_categorical_accuracy: 0.7829\n",
            "Epoch 16/200\n",
            "74/74 [==============================] - 0s 5ms/step - loss: 0.4678 - sparse_categorical_accuracy: 0.7916 - val_loss: 0.4556 - val_sparse_categorical_accuracy: 0.7981\n",
            "Epoch 17/200\n",
            "74/74 [==============================] - 0s 6ms/step - loss: 0.4621 - sparse_categorical_accuracy: 0.7916 - val_loss: 0.4501 - val_sparse_categorical_accuracy: 0.7956\n",
            "Epoch 18/200\n",
            "74/74 [==============================] - 0s 6ms/step - loss: 0.4464 - sparse_categorical_accuracy: 0.8028 - val_loss: 0.4406 - val_sparse_categorical_accuracy: 0.7990\n",
            "Epoch 19/200\n",
            "74/74 [==============================] - 0s 6ms/step - loss: 0.4419 - sparse_categorical_accuracy: 0.8035 - val_loss: 0.4363 - val_sparse_categorical_accuracy: 0.7973\n",
            "Epoch 20/200\n",
            "74/74 [==============================] - 0s 6ms/step - loss: 0.4300 - sparse_categorical_accuracy: 0.8075 - val_loss: 0.4237 - val_sparse_categorical_accuracy: 0.8075\n",
            "Epoch 21/200\n",
            "74/74 [==============================] - 0s 6ms/step - loss: 0.4308 - sparse_categorical_accuracy: 0.8088 - val_loss: 0.4164 - val_sparse_categorical_accuracy: 0.8253\n",
            "Epoch 22/200\n",
            "74/74 [==============================] - 0s 6ms/step - loss: 0.4174 - sparse_categorical_accuracy: 0.8137 - val_loss: 0.4205 - val_sparse_categorical_accuracy: 0.8185\n",
            "Epoch 23/200\n",
            "74/74 [==============================] - 0s 6ms/step - loss: 0.4156 - sparse_categorical_accuracy: 0.8154 - val_loss: 0.4148 - val_sparse_categorical_accuracy: 0.8193\n",
            "Epoch 24/200\n",
            "74/74 [==============================] - 0s 4ms/step - loss: 0.4114 - sparse_categorical_accuracy: 0.8152 - val_loss: 0.4082 - val_sparse_categorical_accuracy: 0.8304\n",
            "Epoch 25/200\n",
            "74/74 [==============================] - 0s 4ms/step - loss: 0.4004 - sparse_categorical_accuracy: 0.8281 - val_loss: 0.3979 - val_sparse_categorical_accuracy: 0.8321\n",
            "Epoch 26/200\n",
            "74/74 [==============================] - 0s 4ms/step - loss: 0.3976 - sparse_categorical_accuracy: 0.8251 - val_loss: 0.3947 - val_sparse_categorical_accuracy: 0.8346\n",
            "Epoch 27/200\n",
            "74/74 [==============================] - 0s 4ms/step - loss: 0.3906 - sparse_categorical_accuracy: 0.8277 - val_loss: 0.3884 - val_sparse_categorical_accuracy: 0.8405\n",
            "Epoch 28/200\n",
            "74/74 [==============================] - 0s 4ms/step - loss: 0.3878 - sparse_categorical_accuracy: 0.8292 - val_loss: 0.3844 - val_sparse_categorical_accuracy: 0.8405\n",
            "Epoch 29/200\n",
            "74/74 [==============================] - 0s 4ms/step - loss: 0.3804 - sparse_categorical_accuracy: 0.8328 - val_loss: 0.3814 - val_sparse_categorical_accuracy: 0.8465\n",
            "Epoch 30/200\n",
            "74/74 [==============================] - 0s 4ms/step - loss: 0.3697 - sparse_categorical_accuracy: 0.8362 - val_loss: 0.3777 - val_sparse_categorical_accuracy: 0.8405\n",
            "Epoch 31/200\n",
            "74/74 [==============================] - 0s 4ms/step - loss: 0.3725 - sparse_categorical_accuracy: 0.8360 - val_loss: 0.3715 - val_sparse_categorical_accuracy: 0.8431\n",
            "Epoch 32/200\n",
            "74/74 [==============================] - 0s 4ms/step - loss: 0.3687 - sparse_categorical_accuracy: 0.8400 - val_loss: 0.3772 - val_sparse_categorical_accuracy: 0.8414\n",
            "Epoch 33/200\n",
            "74/74 [==============================] - 0s 4ms/step - loss: 0.3628 - sparse_categorical_accuracy: 0.8438 - val_loss: 0.3692 - val_sparse_categorical_accuracy: 0.8507\n",
            "Epoch 34/200\n",
            "74/74 [==============================] - 0s 4ms/step - loss: 0.3577 - sparse_categorical_accuracy: 0.8404 - val_loss: 0.3709 - val_sparse_categorical_accuracy: 0.8465\n",
            "Epoch 35/200\n",
            "74/74 [==============================] - 0s 6ms/step - loss: 0.3574 - sparse_categorical_accuracy: 0.8436 - val_loss: 0.3595 - val_sparse_categorical_accuracy: 0.8550\n",
            "Epoch 36/200\n",
            "74/74 [==============================] - 0s 7ms/step - loss: 0.3514 - sparse_categorical_accuracy: 0.8495 - val_loss: 0.3562 - val_sparse_categorical_accuracy: 0.8550\n",
            "Epoch 37/200\n",
            "74/74 [==============================] - 0s 6ms/step - loss: 0.3539 - sparse_categorical_accuracy: 0.8476 - val_loss: 0.3566 - val_sparse_categorical_accuracy: 0.8567\n",
            "Epoch 38/200\n",
            "74/74 [==============================] - 0s 6ms/step - loss: 0.3509 - sparse_categorical_accuracy: 0.8489 - val_loss: 0.3618 - val_sparse_categorical_accuracy: 0.8473\n",
            "Epoch 39/200\n",
            "74/74 [==============================] - 0s 6ms/step - loss: 0.3459 - sparse_categorical_accuracy: 0.8540 - val_loss: 0.3485 - val_sparse_categorical_accuracy: 0.8634\n",
            "Epoch 40/200\n",
            "74/74 [==============================] - 0s 6ms/step - loss: 0.3357 - sparse_categorical_accuracy: 0.8595 - val_loss: 0.3524 - val_sparse_categorical_accuracy: 0.8592\n",
            "Epoch 41/200\n",
            "74/74 [==============================] - 0s 6ms/step - loss: 0.3382 - sparse_categorical_accuracy: 0.8546 - val_loss: 0.3433 - val_sparse_categorical_accuracy: 0.8609\n",
            "Epoch 42/200\n",
            "74/74 [==============================] - 0s 6ms/step - loss: 0.3264 - sparse_categorical_accuracy: 0.8601 - val_loss: 0.3425 - val_sparse_categorical_accuracy: 0.8660\n",
            "Epoch 43/200\n",
            "74/74 [==============================] - 0s 6ms/step - loss: 0.3299 - sparse_categorical_accuracy: 0.8576 - val_loss: 0.3456 - val_sparse_categorical_accuracy: 0.8609\n",
            "Epoch 44/200\n",
            "74/74 [==============================] - 0s 7ms/step - loss: 0.3288 - sparse_categorical_accuracy: 0.8606 - val_loss: 0.3489 - val_sparse_categorical_accuracy: 0.8584\n",
            "Epoch 45/200\n",
            "74/74 [==============================] - 0s 4ms/step - loss: 0.3269 - sparse_categorical_accuracy: 0.8572 - val_loss: 0.3427 - val_sparse_categorical_accuracy: 0.8601\n",
            "Epoch 46/200\n",
            "74/74 [==============================] - 0s 4ms/step - loss: 0.3191 - sparse_categorical_accuracy: 0.8678 - val_loss: 0.3493 - val_sparse_categorical_accuracy: 0.8533\n",
            "Epoch 47/200\n",
            "74/74 [==============================] - 0s 4ms/step - loss: 0.3127 - sparse_categorical_accuracy: 0.8667 - val_loss: 0.3394 - val_sparse_categorical_accuracy: 0.8601\n",
            "Epoch 48/200\n",
            "74/74 [==============================] - 0s 4ms/step - loss: 0.3199 - sparse_categorical_accuracy: 0.8629 - val_loss: 0.3421 - val_sparse_categorical_accuracy: 0.8601\n",
            "Epoch 49/200\n",
            "74/74 [==============================] - 0s 4ms/step - loss: 0.3056 - sparse_categorical_accuracy: 0.8712 - val_loss: 0.3448 - val_sparse_categorical_accuracy: 0.8626\n",
            "Epoch 50/200\n",
            "74/74 [==============================] - 0s 4ms/step - loss: 0.3122 - sparse_categorical_accuracy: 0.8684 - val_loss: 0.3324 - val_sparse_categorical_accuracy: 0.8711\n",
            "Epoch 51/200\n",
            "74/74 [==============================] - 0s 6ms/step - loss: 0.3112 - sparse_categorical_accuracy: 0.8701 - val_loss: 0.3354 - val_sparse_categorical_accuracy: 0.8694\n",
            "Epoch 52/200\n",
            "74/74 [==============================] - 0s 6ms/step - loss: 0.3109 - sparse_categorical_accuracy: 0.8684 - val_loss: 0.3392 - val_sparse_categorical_accuracy: 0.8584\n",
            "Epoch 53/200\n",
            "74/74 [==============================] - 0s 6ms/step - loss: 0.3059 - sparse_categorical_accuracy: 0.8671 - val_loss: 0.3426 - val_sparse_categorical_accuracy: 0.8617\n",
            "Epoch 54/200\n",
            "74/74 [==============================] - 0s 6ms/step - loss: 0.3053 - sparse_categorical_accuracy: 0.8727 - val_loss: 0.3454 - val_sparse_categorical_accuracy: 0.8567\n",
            "Epoch 55/200\n",
            "74/74 [==============================] - 0s 6ms/step - loss: 0.2995 - sparse_categorical_accuracy: 0.8691 - val_loss: 0.3376 - val_sparse_categorical_accuracy: 0.8626\n",
            "Epoch 56/200\n",
            "74/74 [==============================] - 0s 6ms/step - loss: 0.2923 - sparse_categorical_accuracy: 0.8763 - val_loss: 0.3517 - val_sparse_categorical_accuracy: 0.8634\n",
            "Epoch 57/200\n",
            "74/74 [==============================] - 0s 7ms/step - loss: 0.2988 - sparse_categorical_accuracy: 0.8701 - val_loss: 0.3383 - val_sparse_categorical_accuracy: 0.8617\n",
            "Epoch 58/200\n",
            "74/74 [==============================] - 0s 7ms/step - loss: 0.2858 - sparse_categorical_accuracy: 0.8769 - val_loss: 0.3343 - val_sparse_categorical_accuracy: 0.8694\n",
            "Epoch 59/200\n",
            "74/74 [==============================] - 1s 7ms/step - loss: 0.2887 - sparse_categorical_accuracy: 0.8786 - val_loss: 0.3318 - val_sparse_categorical_accuracy: 0.8668\n",
            "Epoch 60/200\n",
            "74/74 [==============================] - 0s 6ms/step - loss: 0.2938 - sparse_categorical_accuracy: 0.8754 - val_loss: 0.3324 - val_sparse_categorical_accuracy: 0.8601\n",
            "Epoch 61/200\n",
            "74/74 [==============================] - 0s 5ms/step - loss: 0.2924 - sparse_categorical_accuracy: 0.8792 - val_loss: 0.3285 - val_sparse_categorical_accuracy: 0.8677\n",
            "Epoch 62/200\n",
            "74/74 [==============================] - 0s 5ms/step - loss: 0.2805 - sparse_categorical_accuracy: 0.8835 - val_loss: 0.3408 - val_sparse_categorical_accuracy: 0.8634\n",
            "Epoch 63/200\n",
            "74/74 [==============================] - 0s 4ms/step - loss: 0.2835 - sparse_categorical_accuracy: 0.8822 - val_loss: 0.3341 - val_sparse_categorical_accuracy: 0.8668\n",
            "Epoch 64/200\n",
            "74/74 [==============================] - 0s 4ms/step - loss: 0.2797 - sparse_categorical_accuracy: 0.8875 - val_loss: 0.3313 - val_sparse_categorical_accuracy: 0.8719\n",
            "Epoch 65/200\n",
            "74/74 [==============================] - 0s 4ms/step - loss: 0.2749 - sparse_categorical_accuracy: 0.8833 - val_loss: 0.3349 - val_sparse_categorical_accuracy: 0.8719\n",
            "Epoch 66/200\n",
            "74/74 [==============================] - 0s 4ms/step - loss: 0.2793 - sparse_categorical_accuracy: 0.8841 - val_loss: 0.3362 - val_sparse_categorical_accuracy: 0.8626\n",
            "Epoch 67/200\n",
            "74/74 [==============================] - 0s 4ms/step - loss: 0.2828 - sparse_categorical_accuracy: 0.8814 - val_loss: 0.3360 - val_sparse_categorical_accuracy: 0.8694\n",
            "Epoch 68/200\n",
            "74/74 [==============================] - 0s 4ms/step - loss: 0.2780 - sparse_categorical_accuracy: 0.8814 - val_loss: 0.3282 - val_sparse_categorical_accuracy: 0.8651\n",
            "Epoch 69/200\n",
            "74/74 [==============================] - 0s 4ms/step - loss: 0.2751 - sparse_categorical_accuracy: 0.8833 - val_loss: 0.3241 - val_sparse_categorical_accuracy: 0.8651\n",
            "Epoch 70/200\n",
            "74/74 [==============================] - 0s 4ms/step - loss: 0.2799 - sparse_categorical_accuracy: 0.8809 - val_loss: 0.3287 - val_sparse_categorical_accuracy: 0.8660\n",
            "Epoch 71/200\n",
            "74/74 [==============================] - 0s 4ms/step - loss: 0.2732 - sparse_categorical_accuracy: 0.8862 - val_loss: 0.3206 - val_sparse_categorical_accuracy: 0.8677\n",
            "Epoch 72/200\n",
            "74/74 [==============================] - 0s 4ms/step - loss: 0.2659 - sparse_categorical_accuracy: 0.8892 - val_loss: 0.3222 - val_sparse_categorical_accuracy: 0.8694\n",
            "Epoch 73/200\n",
            "74/74 [==============================] - 0s 4ms/step - loss: 0.2660 - sparse_categorical_accuracy: 0.8848 - val_loss: 0.3254 - val_sparse_categorical_accuracy: 0.8719\n",
            "Epoch 74/200\n",
            "74/74 [==============================] - 0s 4ms/step - loss: 0.2611 - sparse_categorical_accuracy: 0.8888 - val_loss: 0.3248 - val_sparse_categorical_accuracy: 0.8702\n",
            "Epoch 75/200\n",
            "74/74 [==============================] - 0s 4ms/step - loss: 0.2626 - sparse_categorical_accuracy: 0.8911 - val_loss: 0.3229 - val_sparse_categorical_accuracy: 0.8728\n",
            "Epoch 76/200\n",
            "74/74 [==============================] - 0s 4ms/step - loss: 0.2643 - sparse_categorical_accuracy: 0.8905 - val_loss: 0.3280 - val_sparse_categorical_accuracy: 0.8753\n",
            "Epoch 77/200\n",
            "74/74 [==============================] - 0s 4ms/step - loss: 0.2672 - sparse_categorical_accuracy: 0.8877 - val_loss: 0.3318 - val_sparse_categorical_accuracy: 0.8626\n",
            "Epoch 78/200\n",
            "74/74 [==============================] - 0s 4ms/step - loss: 0.2588 - sparse_categorical_accuracy: 0.8903 - val_loss: 0.3233 - val_sparse_categorical_accuracy: 0.8762\n",
            "Epoch 79/200\n",
            "74/74 [==============================] - 0s 4ms/step - loss: 0.2545 - sparse_categorical_accuracy: 0.8941 - val_loss: 0.3186 - val_sparse_categorical_accuracy: 0.8787\n",
            "Epoch 80/200\n",
            "74/74 [==============================] - 0s 4ms/step - loss: 0.2660 - sparse_categorical_accuracy: 0.8916 - val_loss: 0.3184 - val_sparse_categorical_accuracy: 0.8711\n",
            "Epoch 81/200\n",
            "74/74 [==============================] - 0s 4ms/step - loss: 0.2606 - sparse_categorical_accuracy: 0.8922 - val_loss: 0.3157 - val_sparse_categorical_accuracy: 0.8677\n",
            "Epoch 82/200\n",
            "74/74 [==============================] - 0s 4ms/step - loss: 0.2569 - sparse_categorical_accuracy: 0.8939 - val_loss: 0.3197 - val_sparse_categorical_accuracy: 0.8745\n",
            "Epoch 83/200\n",
            "74/74 [==============================] - 0s 4ms/step - loss: 0.2578 - sparse_categorical_accuracy: 0.8941 - val_loss: 0.3247 - val_sparse_categorical_accuracy: 0.8668\n",
            "Epoch 84/200\n",
            "74/74 [==============================] - 0s 4ms/step - loss: 0.2586 - sparse_categorical_accuracy: 0.8928 - val_loss: 0.3214 - val_sparse_categorical_accuracy: 0.8736\n",
            "Epoch 85/200\n",
            "74/74 [==============================] - 0s 4ms/step - loss: 0.2569 - sparse_categorical_accuracy: 0.8981 - val_loss: 0.3207 - val_sparse_categorical_accuracy: 0.8711\n",
            "Epoch 86/200\n",
            "74/74 [==============================] - 0s 4ms/step - loss: 0.2474 - sparse_categorical_accuracy: 0.8990 - val_loss: 0.3262 - val_sparse_categorical_accuracy: 0.8779\n",
            "Epoch 87/200\n",
            "74/74 [==============================] - 0s 4ms/step - loss: 0.2467 - sparse_categorical_accuracy: 0.8973 - val_loss: 0.3266 - val_sparse_categorical_accuracy: 0.8719\n",
            "Epoch 88/200\n",
            "74/74 [==============================] - 0s 4ms/step - loss: 0.2528 - sparse_categorical_accuracy: 0.8933 - val_loss: 0.3288 - val_sparse_categorical_accuracy: 0.8728\n",
            "Epoch 89/200\n",
            "74/74 [==============================] - 0s 4ms/step - loss: 0.2612 - sparse_categorical_accuracy: 0.8892 - val_loss: 0.3194 - val_sparse_categorical_accuracy: 0.8787\n",
            "Epoch 90/200\n",
            "74/74 [==============================] - 0s 4ms/step - loss: 0.2462 - sparse_categorical_accuracy: 0.8996 - val_loss: 0.3288 - val_sparse_categorical_accuracy: 0.8702\n",
            "Epoch 91/200\n",
            "74/74 [==============================] - 0s 4ms/step - loss: 0.2540 - sparse_categorical_accuracy: 0.8954 - val_loss: 0.3195 - val_sparse_categorical_accuracy: 0.8745\n",
            "Epoch 92/200\n",
            "74/74 [==============================] - 0s 6ms/step - loss: 0.2464 - sparse_categorical_accuracy: 0.8988 - val_loss: 0.3259 - val_sparse_categorical_accuracy: 0.8787\n",
            "Epoch 93/200\n",
            "74/74 [==============================] - 1s 7ms/step - loss: 0.2565 - sparse_categorical_accuracy: 0.8943 - val_loss: 0.3190 - val_sparse_categorical_accuracy: 0.8719\n",
            "Epoch 94/200\n",
            "74/74 [==============================] - 0s 6ms/step - loss: 0.2436 - sparse_categorical_accuracy: 0.8992 - val_loss: 0.3105 - val_sparse_categorical_accuracy: 0.8796\n",
            "Epoch 95/200\n",
            "74/74 [==============================] - 0s 7ms/step - loss: 0.2386 - sparse_categorical_accuracy: 0.9026 - val_loss: 0.3160 - val_sparse_categorical_accuracy: 0.8762\n",
            "Epoch 96/200\n",
            "74/74 [==============================] - 0s 6ms/step - loss: 0.2484 - sparse_categorical_accuracy: 0.8998 - val_loss: 0.3212 - val_sparse_categorical_accuracy: 0.8745\n",
            "Epoch 97/200\n",
            "74/74 [==============================] - 1s 7ms/step - loss: 0.2390 - sparse_categorical_accuracy: 0.9032 - val_loss: 0.3176 - val_sparse_categorical_accuracy: 0.8711\n",
            "Epoch 98/200\n",
            "74/74 [==============================] - 1s 7ms/step - loss: 0.2387 - sparse_categorical_accuracy: 0.9028 - val_loss: 0.3279 - val_sparse_categorical_accuracy: 0.8694\n",
            "Epoch 99/200\n",
            "74/74 [==============================] - 0s 6ms/step - loss: 0.2348 - sparse_categorical_accuracy: 0.8994 - val_loss: 0.3211 - val_sparse_categorical_accuracy: 0.8736\n",
            "Epoch 100/200\n",
            "74/74 [==============================] - 0s 6ms/step - loss: 0.2370 - sparse_categorical_accuracy: 0.9026 - val_loss: 0.3149 - val_sparse_categorical_accuracy: 0.8762\n",
            "Epoch 101/200\n",
            "74/74 [==============================] - 0s 5ms/step - loss: 0.2246 - sparse_categorical_accuracy: 0.9075 - val_loss: 0.3245 - val_sparse_categorical_accuracy: 0.8762\n",
            "Epoch 102/200\n",
            "74/74 [==============================] - 0s 4ms/step - loss: 0.2294 - sparse_categorical_accuracy: 0.9062 - val_loss: 0.3178 - val_sparse_categorical_accuracy: 0.8770\n",
            "Epoch 103/200\n",
            "74/74 [==============================] - 0s 4ms/step - loss: 0.2330 - sparse_categorical_accuracy: 0.9066 - val_loss: 0.3251 - val_sparse_categorical_accuracy: 0.8745\n",
            "Epoch 104/200\n",
            "74/74 [==============================] - 0s 4ms/step - loss: 0.2321 - sparse_categorical_accuracy: 0.9017 - val_loss: 0.3226 - val_sparse_categorical_accuracy: 0.8685\n",
            "Epoch 105/200\n",
            "74/74 [==============================] - 0s 4ms/step - loss: 0.2351 - sparse_categorical_accuracy: 0.9022 - val_loss: 0.3193 - val_sparse_categorical_accuracy: 0.8753\n",
            "Epoch 106/200\n",
            "74/74 [==============================] - 0s 4ms/step - loss: 0.2344 - sparse_categorical_accuracy: 0.9015 - val_loss: 0.3184 - val_sparse_categorical_accuracy: 0.8736\n",
            "Epoch 107/200\n",
            "74/74 [==============================] - 0s 4ms/step - loss: 0.2330 - sparse_categorical_accuracy: 0.9030 - val_loss: 0.3203 - val_sparse_categorical_accuracy: 0.8685\n",
            "Epoch 108/200\n",
            "74/74 [==============================] - 0s 5ms/step - loss: 0.2287 - sparse_categorical_accuracy: 0.9077 - val_loss: 0.3190 - val_sparse_categorical_accuracy: 0.8762\n",
            "Epoch 109/200\n",
            "74/74 [==============================] - 0s 4ms/step - loss: 0.2262 - sparse_categorical_accuracy: 0.9075 - val_loss: 0.3284 - val_sparse_categorical_accuracy: 0.8719\n",
            "Epoch 110/200\n",
            "74/74 [==============================] - 0s 4ms/step - loss: 0.2261 - sparse_categorical_accuracy: 0.9079 - val_loss: 0.3230 - val_sparse_categorical_accuracy: 0.8787\n",
            "Epoch 111/200\n",
            "74/74 [==============================] - 0s 5ms/step - loss: 0.2268 - sparse_categorical_accuracy: 0.9098 - val_loss: 0.3138 - val_sparse_categorical_accuracy: 0.8787\n",
            "Epoch 112/200\n",
            "74/74 [==============================] - 0s 4ms/step - loss: 0.2221 - sparse_categorical_accuracy: 0.9056 - val_loss: 0.3165 - val_sparse_categorical_accuracy: 0.8736\n",
            "Epoch 113/200\n",
            "74/74 [==============================] - 0s 4ms/step - loss: 0.2316 - sparse_categorical_accuracy: 0.9041 - val_loss: 0.3309 - val_sparse_categorical_accuracy: 0.8762\n",
            "Epoch 114/200\n",
            "74/74 [==============================] - 0s 4ms/step - loss: 0.2160 - sparse_categorical_accuracy: 0.9115 - val_loss: 0.3288 - val_sparse_categorical_accuracy: 0.8702\n",
            "Epoch 115/200\n",
            "74/74 [==============================] - 0s 4ms/step - loss: 0.2232 - sparse_categorical_accuracy: 0.9094 - val_loss: 0.3224 - val_sparse_categorical_accuracy: 0.8762\n",
            "Epoch 116/200\n",
            "74/74 [==============================] - 0s 4ms/step - loss: 0.2325 - sparse_categorical_accuracy: 0.8983 - val_loss: 0.3167 - val_sparse_categorical_accuracy: 0.8719\n",
            "Epoch 117/200\n",
            "74/74 [==============================] - 0s 4ms/step - loss: 0.2181 - sparse_categorical_accuracy: 0.9115 - val_loss: 0.3180 - val_sparse_categorical_accuracy: 0.8796\n",
            "Epoch 118/200\n",
            "74/74 [==============================] - 0s 4ms/step - loss: 0.2207 - sparse_categorical_accuracy: 0.9115 - val_loss: 0.3306 - val_sparse_categorical_accuracy: 0.8753\n",
            "Epoch 119/200\n",
            "74/74 [==============================] - 0s 5ms/step - loss: 0.2185 - sparse_categorical_accuracy: 0.9083 - val_loss: 0.3185 - val_sparse_categorical_accuracy: 0.8745\n",
            "Epoch 120/200\n",
            "74/74 [==============================] - 0s 4ms/step - loss: 0.2178 - sparse_categorical_accuracy: 0.9094 - val_loss: 0.3262 - val_sparse_categorical_accuracy: 0.8753\n",
            "Epoch 121/200\n",
            "74/74 [==============================] - 0s 4ms/step - loss: 0.2176 - sparse_categorical_accuracy: 0.9124 - val_loss: 0.3279 - val_sparse_categorical_accuracy: 0.8762\n",
            "Epoch 122/200\n",
            "74/74 [==============================] - 0s 4ms/step - loss: 0.2148 - sparse_categorical_accuracy: 0.9128 - val_loss: 0.3221 - val_sparse_categorical_accuracy: 0.8830\n",
            "Epoch 123/200\n",
            "74/74 [==============================] - 0s 4ms/step - loss: 0.2034 - sparse_categorical_accuracy: 0.9160 - val_loss: 0.3210 - val_sparse_categorical_accuracy: 0.8796\n",
            "Epoch 124/200\n",
            "74/74 [==============================] - 0s 4ms/step - loss: 0.2182 - sparse_categorical_accuracy: 0.9102 - val_loss: 0.3240 - val_sparse_categorical_accuracy: 0.8804\n",
            "Epoch 124: early stopping\n"
          ]
        }
      ],
      "source": [
        "learning_rate = 0.0005\n",
        "batch_size = 64\n",
        "hidden_units = 64\n",
        "projection_units = 128\n",
        "num_epochs = 200\n",
        "dropout_rate = 0.3\n",
        "num_classes = 2\n",
        "input_shape1 = (19,)\n",
        "input_shape2 = (38,)\n",
        "\n",
        "from keras.callbacks import ModelCheckpoint, EarlyStopping\n",
        "classifier = create_classifier()\n",
        "classifier.summary()\n",
        "\n",
        "history = classifier.fit(x=xtra_ac, y=ytra_a, validation_data=(xval_ac, yval_a), batch_size=batch_size, epochs=num_epochs, callbacks=[EarlyStopping(monitor='val_loss', mode='min', verbose=1, patience=30)])"
      ]
    },
    {
      "cell_type": "code",
      "execution_count": null,
      "metadata": {
        "colab": {
          "base_uri": "https://localhost:8080/"
        },
        "id": "zpQ-9nb_vL_O",
        "outputId": "a7f3ea5e-aeaa-4056-f917-13d3810afcf2"
      },
      "outputs": [
        {
          "name": "stdout",
          "output_type": "stream",
          "text": [
            "150/150 [==============================] - 0s 2ms/step - loss: 3.1447 - sparse_categorical_accuracy: 0.7617\n",
            "0.7617456912994385\n",
            "150/150 [==============================] - 0s 1ms/step\n",
            "Test accuracy: 76.175%\n",
            "Postprocessing Test accuracy: 82.585%\n",
            "Test F1_score: 68.314%\n",
            "Postprocessing F1_score: 80.199%\n"
          ]
        }
      ],
      "source": [
        "accuracy = classifier.evaluate(xtest_ac, ytest)[1]\n",
        "print(accuracy)\n",
        "##  Accuracy on post processed labels (each word should contain only one stressed syllable)\n",
        "pred_output= classifier.predict(xtest_ac)\n",
        "# pred_labels= pred_output.argmax(axis =1)\n",
        "pred1_labels = pred_output[:,1]\n",
        "post_labels = make_partitions(wtest, pred1_labels)\n",
        "post_accuracy = calculate_accuracy(post_labels, ytest)\n",
        "\n",
        "F1_score_WoPP = f1_score(ytest, pred_output.argmax(axis=1))\n",
        "F1_score_WPP = f1_score(ytest, post_labels)\n",
        "\n",
        "print(f\"Test accuracy: {round(accuracy * 100, 3)}%\")\n",
        "print(f\"Postprocessing Test accuracy: {round(post_accuracy * 100, 3)}%\")\n",
        "print(f\"Test F1_score: {round(F1_score_WoPP * 100, 3)}%\")\n",
        "print(f\"Postprocessing F1_score: {round(F1_score_WPP * 100, 3)}%\")"
      ]
    },
    {
      "cell_type": "code",
      "execution_count": null,
      "metadata": {
        "colab": {
          "base_uri": "https://localhost:8080/"
        },
        "id": "hrdVsL3lhJTz",
        "outputId": "eeb36e35-46e9-4e0d-8892-bdc44b0a6180"
      },
      "outputs": [
        {
          "name": "stdout",
          "output_type": "stream",
          "text": [
            "[[0.00365241 0.9963476 ]\n",
            " [0.9952295  0.00477048]\n",
            " [0.9386474  0.06135263]\n",
            " ...\n",
            " [0.14561768 0.8543823 ]\n",
            " [0.98402655 0.01597348]\n",
            " [0.9824058  0.01759416]]\n"
          ]
        }
      ],
      "source": [
        "print(pred_output)"
      ]
    },
    {
      "cell_type": "code",
      "execution_count": null,
      "metadata": {
        "colab": {
          "base_uri": "https://localhost:8080/"
        },
        "id": "FTjg7ujbd0Lv",
        "outputId": "62deab2d-e841-4725-8a93-4e7ddbf78ca6"
      },
      "outputs": [
        {
          "name": "stdout",
          "output_type": "stream",
          "text": [
            "314\n"
          ]
        }
      ],
      "source": [
        "inaccurate_indices = []\n",
        "for i in range(len(post_labels)):\n",
        "    if post_labels[i] != ytest[i]:\n",
        "        inaccurate_indices.append(i)\n",
        "print(len(inaccurate_indices))"
      ]
    },
    {
      "cell_type": "code",
      "execution_count": null,
      "metadata": {
        "id": "uDYwyOHsfGyv"
      },
      "outputs": [],
      "source": [
        "new_array = xtest_a[inaccurate_indices]"
      ]
    },
    {
      "cell_type": "code",
      "execution_count": null,
      "metadata": {
        "colab": {
          "base_uri": "https://localhost:8080/"
        },
        "id": "lYg_hYahlB7U",
        "outputId": "0b1022b9-5329-4fed-b808-ada5bfa5bcb0"
      },
      "outputs": [
        {
          "name": "stdout",
          "output_type": "stream",
          "text": [
            "[[-0.32618123 -0.11955624 -0.43673654 ...  1.28741675 -0.18443\n",
            "  -0.43610226]\n",
            " [-0.27862984 -0.47228711 -0.17909384 ...  0.64660961 -0.18443\n",
            "  -1.09067232]\n",
            " [ 0.12251953 -0.33604709 -0.45253141 ...  0.79238856 -0.70591123\n",
            "  -0.57529244]\n",
            " ...\n",
            " [ 0.99006663  0.717825    0.88522703 ... -0.52146543  0.73265766\n",
            "   0.23727729]\n",
            " [-0.76690572 -0.98085484 -0.90234678 ... -0.68461169 -0.51277003\n",
            "  -0.5026236 ]\n",
            " [-0.328765   -0.37839626 -0.71037262 ... -0.91981712  1.12893011\n",
            "   1.15774923]]\n"
          ]
        }
      ],
      "source": [
        "print(new_array)"
      ]
    },
    {
      "cell_type": "code",
      "execution_count": null,
      "metadata": {
        "colab": {
          "base_uri": "https://localhost:8080/"
        },
        "id": "e7LhqgfEmQI0",
        "outputId": "177376a6-1f19-4eff-d51b-ade1fd5350af"
      },
      "outputs": [
        {
          "name": "stdout",
          "output_type": "stream",
          "text": [
            "dict_keys(['__header__', '__version__', '__globals__', 'AF', 'AF_info', 'CF', 'CF_info'])\n",
            "(21, 5891)\n"
          ]
        }
      ],
      "source": [
        "fatyp = 'TypicalFA_comb1'\n",
        "drivepath = '/content/drive/MyDrive/finalData/'+ fatyp +'/';\n",
        "#featFiles = 'GER_train_fisher-2000_FA_GT_ESTphnTrans_estStress'               #glob.glob(drivepath + '*train*')\n",
        "filee = drivepath+'GER_train_fisher-2000_FA_GT_ESTphnTrans_estStress.mat'\n",
        "train_path = filee; test_path = filee.replace('train','test')\n",
        "data = scipy.io.loadmat(train_path)\n",
        "print(data.keys())\n",
        "AF = data['AF']\n",
        "print(AF.shape)"
      ]
    },
    {
      "cell_type": "code",
      "execution_count": null,
      "metadata": {
        "colab": {
          "base_uri": "https://localhost:8080/"
        },
        "id": "i8fMj9Bzo__p",
        "outputId": "5b0819bf-db5e-49c6-b60f-3966f0c72eac"
      },
      "outputs": [
        {
          "name": "stdout",
          "output_type": "stream",
          "text": [
            "5891\n"
          ]
        }
      ],
      "source": [
        "zeros_count = np.count_nonzero(AF == 20, axis=0)\n",
        "print(len(zeros_count))"
      ]
    },
    {
      "cell_type": "code",
      "execution_count": null,
      "metadata": {
        "colab": {
          "base_uri": "https://localhost:8080/"
        },
        "id": "3GUGZsVppYMJ",
        "outputId": "04e8c9c4-e01e-414f-8a34-e420a6b190e9"
      },
      "outputs": [
        {
          "name": "stdout",
          "output_type": "stream",
          "text": [
            "Number of zeros in the second-to-last row: 3313\n",
            "Number of ones in the second-to-last row: 2578\n"
          ]
        }
      ],
      "source": [
        "second_to_last_row = AF[-2, :]\n",
        "\n",
        "# Count the number of zeros in the second-to-last row\n",
        "zeros_count = np.count_nonzero(second_to_last_row == 0)\n",
        "\n",
        "# Print the count\n",
        "print(\"Number of zeros in the second-to-last row:\", zeros_count)\n",
        "\n",
        "# Count the number of zeros in the second-to-last row\n",
        "ones_count = np.count_nonzero(second_to_last_row == 1)\n",
        "\n",
        "# Print the count\n",
        "print(\"Number of ones in the second-to-last row:\", ones_count)\n"
      ]
    },
    {
      "cell_type": "code",
      "execution_count": null,
      "metadata": {
        "id": "c9HlX_kGmkNz"
      },
      "outputs": [],
      "source": [
        "saving = AF[:,inaccurate_indices]"
      ]
    },
    {
      "cell_type": "code",
      "execution_count": null,
      "metadata": {
        "colab": {
          "base_uri": "https://localhost:8080/"
        },
        "id": "2lOUHKLrmukx",
        "outputId": "1dd7260f-baee-454c-ebb5-ed995a7830a4"
      },
      "outputs": [
        {
          "name": "stdout",
          "output_type": "stream",
          "text": [
            "(21, 314)\n"
          ]
        }
      ],
      "source": [
        "print(saving.shape)"
      ]
    },
    {
      "cell_type": "code",
      "execution_count": null,
      "metadata": {
        "id": "tN-UpQHAlMpS"
      },
      "outputs": [],
      "source": [
        "scipy.io.savemat('check.mat', {'matrix_name':saving})"
      ]
    },
    {
      "cell_type": "code",
      "execution_count": null,
      "metadata": {
        "colab": {
          "base_uri": "https://localhost:8080/"
        },
        "id": "73QuMHx0sGUI",
        "outputId": "ee84fcf8-50b4-41c6-d650-3b2f1f1834c6"
      },
      "outputs": [
        {
          "name": "stdout",
          "output_type": "stream",
          "text": [
            "(4789,)\n",
            "[0.997248   0.02355868 0.02213604 ... 0.9652264  0.01718037 0.00157761]\n",
            "[1, 0, 0, 1, 0, 0, 0, 1, 0, 0, 0, 1, 1, 0, 1, 0, 1, 0, 0, 1, 0, 0, 1, 0, 0, 1, 0, 0, 1, 0, 0, 1, 0, 1, 0, 1, 0, 1, 0, 1, 0, 1, 0, 1, 0, 1, 0, 0, 0, 1, 1, 0, 1, 0, 1, 0, 1, 0, 1, 0, 1, 0, 1, 0, 1, 0, 1, 0, 1, 0, 1, 0, 1, 0, 1, 0, 1, 0, 1, 0, 0, 1, 0, 0, 1, 0, 1, 0, 1, 0, 1, 0, 1, 0, 1, 0, 1, 0, 0, 1, 0, 1, 0, 1, 0, 0, 1, 1, 0, 1, 0, 1, 0, 0, 0, 1, 1, 0, 0, 1, 1, 0, 1, 0, 1, 0, 1, 0, 1, 0, 1, 0, 1, 0, 1, 0, 0, 1, 1, 0, 0, 0, 1, 0, 1, 0, 0, 1, 0, 1, 0, 0, 1, 1, 0, 0, 1, 1, 0, 1, 0, 1, 0, 1, 0, 1, 0, 0, 1, 0, 1, 0, 0, 1, 0, 1, 0, 0, 1, 0, 1, 0, 1, 0, 1, 0, 1, 0, 1, 0, 0, 1, 0, 0, 1, 0, 1, 0, 0, 1, 0, 1, 1, 0, 1, 0, 0, 1, 0, 1, 0, 1, 1, 0, 0, 1, 0, 0, 0, 0, 0, 1, 1, 0, 0, 0, 1, 1, 0, 0, 1, 0, 1, 0, 1, 0, 1, 0, 0, 1, 0, 1, 1, 0, 0, 1, 1, 0, 0, 1, 0, 0, 1, 1, 0, 0, 0, 1, 0, 0, 0, 1, 1, 0, 0, 1, 0, 1, 0, 0, 1, 0, 0, 1, 0, 1, 0, 1, 0, 1, 0, 0, 1, 0, 0, 1, 1, 0, 0, 1, 1, 0, 0, 1, 1, 0, 1, 0, 1, 0, 0, 1, 0, 0, 1, 0, 0, 1, 1, 0, 1, 0, 0, 1, 0, 1, 0, 1, 1, 0, 1, 0, 1, 0, 1, 0, 0, 1, 0, 1, 0, 0, 1, 0, 1, 0, 0, 1, 0, 1, 1, 0, 1, 0, 0, 1, 0, 1, 0, 0, 0, 1, 0, 1, 0, 1, 0, 1, 0, 1, 0, 0, 1, 0, 1, 0, 1, 0, 0, 1, 0, 1, 0, 1, 1, 0, 1, 0, 1, 0, 0, 1, 1, 0, 0, 1, 0, 1, 0, 0, 1, 0, 0, 1, 1, 0, 0, 0, 1, 1, 0, 0, 1, 1, 0, 1, 0, 0, 1, 0, 1, 0, 1, 0, 1, 0, 1, 0, 1, 0, 1, 0, 1, 0, 1, 0, 1, 0, 1, 0, 0, 1, 0, 1, 0, 1, 0, 1, 0, 0, 1, 0, 0, 1, 0, 0, 0, 1, 0, 0, 0, 1, 1, 0, 1, 0, 0, 1, 0, 0, 0, 1, 0, 1, 0, 0, 1, 0, 0, 1, 0, 1, 0, 1, 0, 1, 0, 1, 0, 1, 0, 1, 0, 0, 0, 1, 1, 0, 0, 1, 0, 1, 1, 0, 1, 0, 1, 0, 1, 0, 1, 0, 1, 0, 1, 0, 1, 0, 1, 0, 1, 0, 1, 0, 0, 1, 0, 1, 0, 0, 1, 0, 0, 1, 0, 1, 0, 1, 0, 1, 0, 1, 0, 1, 0, 1, 0, 0, 1, 0, 1, 0, 1, 0, 1, 0, 1, 0, 1, 0, 1, 0, 0, 0, 1, 1, 0, 0, 1, 1, 0, 1, 0, 0, 0, 1, 0, 1, 0, 0, 1, 0, 0, 1, 1, 0, 1, 0, 1, 0, 0, 1, 1, 0, 1, 0, 0, 1, 0, 0, 1, 0, 1, 0, 0, 1, 0, 0, 1, 1, 0, 1, 0, 0, 1, 0, 0, 1, 0, 1, 0, 0, 1, 0, 1, 1, 0, 1, 0, 0, 1, 0, 1, 0, 1, 1, 0, 0, 1, 0, 1, 0, 1, 0, 0, 1, 0, 0, 0, 1, 0, 0, 1, 0, 0, 0, 1, 1, 0, 0, 1, 0, 1, 0, 1, 0, 1, 0, 0, 1, 1, 0, 1, 0, 0, 1, 1, 0, 0, 1, 0, 1, 0, 1, 0, 0, 0, 1, 0, 0, 1, 0, 1, 0, 0, 1, 0, 1, 0, 0, 1, 0, 0, 1, 0, 0, 1, 1, 0, 0, 1, 1, 0, 0, 1, 0, 1, 0, 1, 0, 1, 0, 1, 0, 1, 0, 0, 1, 1, 0, 0, 1, 0, 1, 0, 0, 1, 0, 1, 0, 0, 1, 0, 1, 0, 1, 0, 0, 1, 0, 1, 0, 1, 1, 0, 1, 0, 1, 0, 1, 0, 0, 1, 0, 1, 0, 0, 1, 0, 1, 0, 0, 1, 0, 1, 1, 0, 1, 0, 0, 1, 0, 1, 0, 0, 0, 1, 0, 1, 0, 1, 0, 1, 0, 1, 0, 0, 0, 1, 0, 1, 0, 1, 0, 1, 1, 0, 1, 0, 0, 1, 1, 0, 0, 1, 0, 1, 0, 0, 1, 0, 0, 1, 1, 0, 0, 0, 1, 1, 0, 0, 1, 1, 0, 1, 0, 0, 1, 0, 1, 0, 1, 0, 1, 0, 0, 1, 0, 1, 0, 1, 0, 1, 0, 1, 0, 1, 0, 1, 0, 1, 0, 0, 1, 0, 1, 0, 1, 0, 1, 0, 1, 0, 0, 1, 0, 0, 1, 0, 0, 1, 1, 0, 1, 0, 1, 0, 0, 1, 0, 0, 1, 0, 0, 1, 0, 0, 1, 0, 0, 1, 0, 1, 0, 1, 0, 1, 0, 1, 0, 1, 0, 1, 0, 0, 1, 1, 0, 0, 1, 1, 0, 1, 0, 1, 0, 1, 0, 1, 0, 1, 0, 1, 0, 1, 0, 1, 0, 1, 0, 1, 0, 1, 0, 1, 0, 0, 1, 0, 1, 0, 0, 1, 0, 0, 1, 0, 1, 0, 1, 0, 1, 0, 1, 0, 1, 0, 1, 0, 0, 1, 0, 0, 1, 1, 0, 1, 0, 1, 0, 1, 0, 1, 0, 1, 0, 1, 0, 1, 0, 1, 0, 1, 0, 1, 0, 1, 0, 0, 1, 0, 1, 1, 0, 0, 0, 1, 0, 1, 0, 0, 0, 1, 0, 1, 1, 0, 1, 0, 1, 0, 1, 0, 1, 0, 0, 1, 0, 1, 0, 1, 0, 0, 1, 0, 1, 0, 0, 1, 0, 1, 0, 0, 0, 1, 0, 1, 0, 0, 0, 1, 0, 1, 0, 0, 1, 0, 1, 0, 1, 0, 1, 0, 1, 0, 0, 1, 0, 0, 1, 0, 1, 0, 0, 1, 1, 0, 1, 0, 1, 0, 0, 1, 0, 1, 0, 1, 1, 0, 0, 1, 0, 1, 0, 1, 0, 0, 1, 0, 1, 0, 0, 0, 0, 1, 0, 0, 0, 1, 1, 0, 0, 1, 0, 1, 0, 0, 1, 1, 0, 0, 1, 1, 0, 1, 0, 0, 1, 1, 0, 0, 1, 0, 0, 1, 1, 0, 0, 0, 1, 0, 0, 1, 0, 1, 0, 0, 1, 0, 1, 0, 0, 1, 0, 0, 0, 1, 0, 0, 1, 0, 0, 0, 0, 1, 1, 0, 0, 1, 0, 0, 1, 1, 0, 1, 0, 0, 1, 0, 0, 1, 1, 0, 1, 0, 1, 0, 0, 1, 1, 0, 1, 0, 0, 1, 1, 0, 0, 1, 0, 0, 0, 1, 1, 0, 1, 0, 0, 1, 0, 1, 0, 1, 1, 0, 1, 0, 1, 0, 0, 1, 0, 1, 0, 0, 1, 0, 1, 0, 0, 1, 0, 1, 1, 0, 1, 0, 0, 1, 0, 1, 0, 0, 1, 0, 1, 0, 0, 1, 0, 1, 0, 0, 1, 0, 1, 0, 1, 0, 1, 1, 0, 1, 0, 0, 1, 1, 0, 1, 0, 0, 0, 1, 1, 0, 0, 1, 0, 0, 1, 1, 0, 0, 0, 1, 1, 0, 0, 1, 1, 0, 1, 0, 0, 1, 0, 1, 0, 1, 0, 1, 0, 1, 0, 0, 1, 1, 0, 1, 0, 0, 1, 0, 1, 0, 1, 0, 1, 0, 1, 0, 0, 1, 1, 0, 1, 0, 0, 1, 0, 0, 1, 0, 0, 1, 1, 0, 1, 0, 1, 0, 0, 1, 0, 0, 0, 1, 0, 1, 0, 0, 1, 0, 0, 1, 0, 1, 0, 1, 0, 1, 0, 1, 0, 1, 0, 1, 0, 0, 1, 1, 0, 0, 1, 1, 0, 1, 0, 1, 0, 1, 0, 1, 0, 1, 0, 1, 0, 1, 0, 1, 0, 1, 0, 1, 0, 1, 0, 0, 1, 0, 0, 1, 0, 1, 0, 1, 0, 1, 0, 1, 0, 1, 0, 1, 0, 1, 0, 0, 1, 0, 1, 0, 1, 0, 1, 0, 1, 0, 1, 0, 1, 0, 1, 0, 0, 1, 0, 0, 1, 1, 0, 1, 0, 1, 0, 0, 0, 1, 0, 0, 1, 0, 0, 1, 1, 0, 1, 0, 1, 0, 1, 0, 1, 0, 1, 0, 0, 1, 0, 1, 0, 0, 1, 0, 0, 1, 0, 0, 0, 1, 0, 1, 1, 0, 1, 0, 0, 1, 0, 1, 0, 0, 1, 0, 1, 0, 1, 0, 1, 0, 1, 0, 1, 0, 0, 1, 0, 1, 0, 0, 1, 0, 0, 1, 0, 1, 1, 0, 1, 0, 1, 0, 1, 0, 0, 1, 0, 1, 1, 0, 0, 1, 0, 1, 0, 1, 0, 0, 0, 1, 1, 0, 0, 1, 0, 1, 0, 1, 0, 0, 1, 0, 1, 1, 0, 0, 1, 0, 0, 1, 1, 0, 1, 0, 0, 1, 1, 0, 0, 1, 0, 0, 1, 1, 0, 0, 0, 1, 0, 0, 1, 0, 1, 0, 0, 1, 0, 1, 0, 0, 1, 0, 0, 1, 0, 1, 0, 0, 1, 0, 1, 0, 1, 0, 1, 0, 0, 1, 1, 0, 0, 1, 0, 0, 1, 1, 0, 1, 0, 1, 0, 1, 0, 0, 1, 1, 0, 0, 1, 0, 1, 0, 0, 1, 0, 0, 0, 1, 1, 0, 1, 0, 1, 0, 0, 0, 1, 1, 0, 1, 0, 0, 1, 0, 1, 0, 1, 1, 0, 1, 0, 1, 0, 1, 0, 0, 1, 0, 1, 0, 0, 1, 0, 1, 0, 1, 0, 0, 1, 1, 0, 1, 0, 0, 1, 0, 1, 0, 0, 0, 1, 0, 1, 0, 1, 1, 0, 0, 1, 0, 0, 0, 1, 0, 1, 0, 1, 1, 0, 1, 0, 1, 0, 0, 1, 1, 0, 0, 1, 0, 1, 0, 0, 1, 0, 0, 1, 1, 0, 0, 0, 1, 1, 0, 0, 1, 1, 0, 1, 0, 0, 1, 0, 1, 0, 1, 0, 1, 0, 0, 0, 1, 1, 0, 1, 0, 1, 0, 1, 0, 1, 0, 1, 0, 1, 0, 0, 1, 0, 1, 0, 1, 0, 1, 0, 1, 0, 0, 1, 0, 0, 1, 0, 0, 1, 1, 0, 1, 0, 1, 0, 0, 1, 0, 0, 0, 1, 0, 1, 0, 0, 1, 0, 0, 1, 0, 1, 0, 1, 0, 1, 0, 1, 0, 1, 0, 1, 0, 0, 1, 1, 0, 0, 1, 0, 1, 1, 0, 1, 0, 1, 0, 1, 0, 1, 0, 1, 0, 1, 0, 1, 0, 1, 0, 0, 1, 0, 1, 0, 0, 1, 0, 0, 1, 0, 1, 0, 1, 0, 1, 0, 1, 0, 1, 0, 1, 0, 0, 1, 0, 1, 0, 1, 0, 1, 0, 1, 0, 1, 0, 1, 0, 1, 0, 0, 1, 0, 0, 1, 1, 0, 1, 0, 1, 0, 0, 1, 0, 1, 1, 0, 0, 1, 0, 0, 1, 0, 0, 1, 0, 0, 1, 1, 0, 1, 0, 1, 0, 1, 0, 0, 1, 0, 0, 1, 0, 1, 0, 0, 1, 0, 1, 0, 1, 0, 1, 0, 1, 0, 1, 0, 1, 0, 0, 0, 1, 0, 1, 0, 0, 1, 1, 0, 0, 1, 0, 1, 1, 0, 0, 1, 0, 0, 0, 1, 0, 0, 1, 0, 0, 0, 1, 1, 0, 0, 1, 0, 1, 0, 0, 1, 0, 0, 1, 1, 0, 0, 1, 1, 0, 0, 0, 1, 0, 0, 0, 1, 1, 0, 0, 1, 0, 1, 0, 0, 1, 0, 1, 0, 0, 0, 0, 1, 0, 0, 1, 0, 0, 1, 0, 0, 1, 0, 0, 1, 1, 0, 1, 0, 0, 1, 0, 1, 0, 1, 0, 0, 1, 1, 0, 0, 1, 1, 0, 1, 0, 0, 1, 1, 0, 0, 1, 0, 0, 1, 0, 1, 0, 1, 0, 0, 1, 0, 1, 0, 1, 0, 0, 1, 0, 1, 0, 1, 0, 0, 1, 1, 0, 0, 1, 1, 0, 1, 0, 1, 0, 1, 0, 0, 1, 0, 1, 0, 0, 1, 0, 1, 0, 0, 1, 0, 1, 1, 0, 1, 0, 0, 1, 0, 1, 0, 0, 0, 1, 0, 1, 0, 1, 1, 0, 0, 1, 0, 0, 1, 0, 1, 0, 0, 1, 0, 1, 1, 0, 0, 1, 1, 0, 1, 0, 1, 0, 0, 1, 1, 0, 0, 0, 1, 1, 0, 0, 1, 0, 0, 1, 1, 0, 0, 0, 1, 1, 0, 0, 1, 1, 0, 1, 0, 0, 1, 0, 1, 0, 1, 0, 1, 0, 1, 0, 1, 0, 1, 0, 1, 0, 0, 1, 0, 1, 0, 1, 0, 1, 0, 1, 0, 0, 1, 0, 0, 1, 0, 0, 0, 1, 0, 0, 0, 1, 1, 0, 1, 0, 1, 0, 0, 1, 0, 0, 0, 1, 0, 1, 0, 0, 1, 0, 0, 1, 0, 1, 0, 1, 0, 1, 0, 1, 0, 1, 0, 1, 0, 1, 0, 0, 0, 1, 1, 0, 0, 1, 0, 1, 1, 0, 1, 0, 1, 0, 1, 0, 1, 0, 1, 0, 1, 0, 1, 0, 1, 0, 1, 0, 1, 0, 1, 0, 0, 1, 1, 0, 0, 1, 0, 1, 0, 1, 0, 1, 0, 1, 0, 1, 0, 1, 0, 0, 1, 0, 1, 0, 1, 0, 1, 0, 1, 0, 1, 0, 0, 1, 1, 0, 0, 1, 0, 0, 1, 1, 0, 1, 0, 1, 0, 1, 0, 0, 1, 1, 0, 0, 0, 1, 0, 1, 0, 0, 1, 0, 1, 0, 1, 0, 1, 0, 0, 1, 1, 0, 1, 0, 1, 0, 0, 1, 1, 0, 1, 0, 0, 1, 0, 1, 0, 0, 1, 0, 1, 0, 0, 1, 0, 1, 0, 1, 0, 0, 1, 1, 0, 1, 0, 0, 1, 0, 0, 1, 0, 1, 0, 0, 1, 0, 1, 1, 0, 1, 0, 0, 1, 0, 1, 0, 1, 1, 0, 0, 1, 0, 0, 0, 1, 0, 0, 1, 0, 0, 0, 1, 1, 0, 0, 1, 0, 1, 0, 0, 1, 1, 0, 0, 1, 1, 0, 1, 0, 0, 1, 1, 0, 0, 1, 0, 1, 0, 1, 0, 0, 1, 0, 0, 0, 1, 0, 1, 0, 0, 1, 0, 1, 0, 0, 1, 0, 0, 1, 0, 1, 0, 1, 0, 0, 1, 1, 0, 0, 1, 1, 0, 1, 0, 0, 1, 1, 0, 0, 1, 0, 0, 1, 0, 1, 0, 0, 1, 0, 1, 0, 1, 0, 1, 1, 0, 1, 0, 1, 0, 1, 0, 0, 1, 0, 0, 0, 1, 1, 0, 1, 0, 1, 0, 0, 1, 1, 0, 1, 0, 0, 1, 0, 1, 0, 0, 0, 1, 0, 1, 0, 1, 1, 0, 0, 1, 0, 0, 0, 1, 1, 0, 0, 1, 0, 1, 0, 1, 0, 1, 1, 0, 1, 0, 1, 0, 0, 1, 1, 0, 0, 1, 0, 1, 0, 0, 1, 0, 0, 1, 1, 0, 0, 0, 1, 1, 0, 0, 1, 1, 0, 1, 0, 0, 1, 0, 1, 0, 1, 0, 1, 0, 0, 1, 0, 1, 0, 1, 0, 1, 0, 1, 0, 0, 1, 0, 1, 0, 1, 0, 1, 0, 1, 0, 1, 0, 0, 1, 0, 1, 0, 1, 0, 0, 1, 0, 1, 0, 1, 0, 1, 0, 1, 0, 0, 1, 0, 0, 1, 0, 0, 0, 1, 0, 0, 0, 1, 1, 0, 1, 0, 1, 0, 0, 1, 0, 0, 0, 1, 0, 1, 0, 0, 1, 0, 0, 1, 0, 1, 0, 1, 0, 1, 0, 1, 0, 1, 0, 1, 0, 0, 1, 1, 0, 0, 1, 0, 1, 1, 0, 1, 0, 1, 0, 1, 0, 1, 0, 1, 0, 1, 0, 1, 0, 1, 0, 1, 0, 1, 0, 1, 0, 0, 1, 0, 1, 0, 0, 1, 0, 0, 1, 0, 1, 0, 1, 0, 1, 0, 1, 0, 1, 0, 1, 0, 0, 1, 0, 0, 1, 0, 1, 0, 0, 1, 0, 0, 1, 1, 0, 1, 0, 1, 0, 1, 0, 1, 0, 1, 0, 0, 1, 0, 0, 0, 1, 0, 1, 0, 1, 1, 0, 1, 0, 0, 1, 0, 1, 0, 0, 1, 0, 1, 0, 1, 0, 1, 0, 1, 0, 1, 0, 1, 0, 1, 0, 0, 1, 0, 1, 1, 0, 1, 0, 0, 1, 0, 1, 0, 1, 1, 0, 0, 1, 0, 0, 1, 1, 0, 0, 1, 0, 0, 0, 1, 0, 0, 1, 0, 0, 0, 1, 1, 0, 0, 1, 0, 1, 0, 0, 1, 1, 0, 0, 1, 1, 0, 1, 0, 0, 1, 1, 0, 0, 1, 0, 0, 1, 1, 0, 0, 0, 1, 0, 0, 1, 0, 1, 0, 0, 1, 0, 1, 0, 0, 1, 0, 0, 1, 0, 0, 1, 1, 0, 0, 1, 1, 0, 0, 1, 0, 0, 1, 1, 0, 1, 0, 1, 0, 1, 0, 0, 1, 1, 0, 0, 1, 0, 1, 0, 1, 0, 0, 0, 0, 1, 0, 1, 1, 0, 1, 0, 0, 0, 1, 1, 0, 0, 1, 0, 1, 1, 0, 1, 0, 1, 0, 1, 0, 0, 1, 0, 0, 0, 1, 1, 0, 1, 0, 1, 0, 0, 1, 1, 0, 1, 0, 0, 1, 0, 1, 0, 0, 1, 0, 1, 0, 1, 1, 0, 0, 1, 0, 0, 1, 0, 0, 1, 0, 1, 0, 1, 0, 1, 1, 0, 1, 0, 0, 0, 1, 0, 0, 0, 1, 0, 0, 1, 0, 0, 1, 1, 0, 1, 0, 0, 1, 0, 0, 1, 1, 0, 0, 0, 1, 1, 0, 0, 1, 0, 1, 1, 0, 0, 1, 0, 1, 0, 1, 0, 1, 0, 1, 0, 0, 1, 0, 1, 0, 1, 0, 1, 0, 1, 0, 0, 1, 0, 0, 1, 0, 0, 1, 1, 0, 1, 0, 0, 1, 0, 0, 0, 1, 0, 1, 0, 0, 1, 0, 0, 1, 0, 1, 0, 1, 0, 1, 0, 1, 0, 1, 0, 1, 0, 1, 0, 0, 1, 0, 1, 0, 0, 1, 1, 0, 1, 0, 1, 0, 1, 0, 1, 0, 1, 0, 1, 0, 1, 0, 1, 0, 1, 0, 1, 0, 1, 0, 0, 1, 0, 0, 1, 0, 1, 0, 1, 0, 1, 0, 1, 0, 1, 0, 1, 0, 0, 1, 0, 0, 1, 1, 0, 1, 0, 1, 0, 1, 0, 1, 0, 0, 1, 1, 0, 0, 1, 1, 0, 0, 1, 1, 0, 1, 0, 0, 1, 1, 0, 0, 1, 0, 0, 0, 1, 1, 0, 1, 0, 1, 0, 0, 1, 0, 1, 0, 0, 1, 0, 1, 0, 0, 0, 1, 0, 1, 0, 0, 0, 1, 0, 1, 0, 0, 1, 0, 1, 0, 0, 1, 0, 1, 1, 0, 1, 0, 0, 0, 0, 1, 1, 0, 0, 1, 0, 1, 0, 1, 0, 1, 1, 0, 0, 0, 1, 1, 0, 1, 0, 0, 1, 0, 0, 0, 1, 0, 0, 1, 0, 0, 0, 1, 1, 0, 0, 1, 0, 1, 0, 1, 0, 0, 1, 0, 1, 1, 0, 1, 0, 0, 1, 0, 1, 1, 0, 0, 1, 1, 0, 0, 1, 0, 1, 0, 1, 0, 0, 0, 1, 0, 0, 1, 0, 0, 1, 0, 1, 0, 1, 0, 0, 1, 0, 0, 1, 0, 0, 1, 1, 0, 0, 1, 1, 0, 0, 1, 1, 0, 1, 0, 0, 1, 1, 0, 0, 1, 0, 0, 1, 1, 0, 1, 0, 0, 1, 1, 0, 0, 1, 1, 0, 1, 0, 1, 0, 1, 0, 0, 1, 0, 0, 0, 1, 1, 0, 0, 1, 0, 1, 0, 0, 0, 1, 0, 1, 0, 1, 0, 1, 0, 1, 0, 0, 0, 1, 1, 0, 0, 1, 0, 1, 1, 0, 0, 1, 1, 0, 1, 0, 1, 0, 0, 1, 1, 0, 0, 1, 0, 1, 0, 0, 1, 0, 0, 1, 1, 0, 0, 0, 1, 1, 0, 0, 1, 0, 1, 1, 0, 0, 1, 0, 0, 1, 1, 0, 1, 0, 0, 1, 0, 1, 0, 1, 0, 1, 0, 1, 0, 1, 0, 0, 1, 0, 1, 0, 1, 0, 1, 0, 1, 0, 0, 1, 0, 0, 1, 0, 0, 1, 1, 0, 0, 1, 1, 0, 0, 1, 0, 0, 0, 1, 0, 1, 0, 0, 1, 0, 0, 1, 0, 1, 0, 1, 0, 1, 0, 1, 0, 1, 0, 0, 1, 1, 0, 0, 0, 1, 1, 0, 0, 1, 0, 1, 1, 0, 1, 0, 1, 0, 1, 0, 1, 0, 1, 0, 1, 0, 1, 0, 0, 1, 0, 0, 1, 0, 1, 0, 1, 0, 1, 0, 1, 0, 1, 0, 0, 1, 0, 1, 0, 1, 0, 1, 0, 1, 0, 1, 0, 1, 0, 1, 0, 1, 0, 0, 1, 0, 0, 1, 0, 1, 1, 0, 1, 0, 1, 0, 1, 0, 1, 0, 1, 0, 0, 1, 1, 0, 0, 0, 1, 0, 1, 0, 0, 0, 1, 0, 1, 1, 0, 1, 0, 1, 0, 1, 0, 1, 0, 1, 0, 0, 1, 0, 0, 1, 0, 1, 0, 0, 1, 0, 0, 1, 0, 1, 1, 0, 0, 1, 0, 0, 0, 1, 1, 0, 0, 1, 1, 0, 1, 0, 1, 0, 0, 1, 0, 1, 0, 0, 1, 0, 1, 1, 0, 1, 0, 0, 0, 1, 1, 0, 0, 1, 0, 1, 0, 0, 1, 0, 1, 0, 1, 1, 0, 0, 1, 0, 0, 1, 0, 1, 1, 0, 0, 1, 1, 0, 0, 1, 0, 1, 0, 1, 0, 0, 0, 0, 1, 0, 0, 1, 0, 1, 0, 1, 0, 1, 0, 0, 1, 0, 0, 1, 0, 0, 1, 1, 0, 0, 1, 1, 0, 0, 1, 0, 0, 1, 1, 0, 0, 1, 1, 0, 1, 0, 0, 1, 0, 1, 0, 1, 0, 1, 0, 0, 1, 0, 1, 0, 0, 0, 1, 0, 1, 0, 1, 0, 1, 1, 0, 1, 0, 1, 0, 0, 1, 0, 0, 0, 1, 1, 0, 1, 0, 0, 1, 0, 1, 1, 0, 1, 0, 0, 1, 0, 1, 0, 0, 1, 0, 1, 0, 1, 0, 1, 0, 0, 0, 1, 0, 1, 1, 0, 0, 1, 0, 1, 0, 1, 0, 1, 1, 0, 1, 0, 0, 1, 0, 1, 0, 0, 1, 0, 1, 1, 0, 0, 1, 0, 0, 1, 1, 0, 0, 0, 1, 1, 0, 0, 1, 0, 1, 0, 1, 0, 1, 0, 1, 0, 1, 0, 1, 0, 0, 1, 0, 1, 0, 0, 1, 1, 0, 1, 0, 1, 0, 1, 0, 1, 0, 0, 1, 0, 0, 1, 0, 0, 0, 1, 0, 0, 0, 1, 1, 0, 1, 0, 1, 0, 0, 1, 0, 0, 0, 1, 0, 1, 0, 0, 1, 0, 0, 1, 0, 1, 0, 1, 0, 1, 0, 1, 0, 1, 0, 1, 0, 1, 0, 0, 0, 1, 1, 0, 0, 1, 1, 0, 1, 0, 1, 0, 1, 0, 1, 0, 1, 0, 1, 0, 1, 0, 1, 0, 1, 0, 1, 0, 1, 0, 1, 0, 1, 0, 1, 0, 0, 1, 0, 0, 1, 0, 1, 0, 1, 0, 1, 0, 1, 0, 1, 0, 1, 0, 0, 1, 0, 1, 0, 1, 0, 1, 0, 1, 0, 1, 0, 1, 0, 1, 0, 0, 1, 0, 0, 1, 1, 0, 1, 0, 1, 0, 1, 0, 1, 0, 1, 0, 1, 0, 1, 0, 0, 1, 1, 0, 0, 0, 1, 0, 1, 0, 0, 0, 1, 1, 0, 1, 0, 1, 0, 0, 1, 1, 0, 1, 0, 1, 0, 0, 1, 1, 0, 0, 1, 0, 1, 0, 1, 0, 0, 1, 0, 0, 1, 0, 0, 0, 1, 0, 1, 1, 0, 1, 0, 0, 1, 0, 1, 0, 0, 1, 0, 1, 0, 1, 0, 1, 0, 1, 0, 1, 0, 1, 0, 0, 0, 1, 0, 1, 0, 0, 1, 1, 0, 1, 0, 1, 0, 0, 1, 0, 1, 0, 1, 1, 0, 0, 1, 0, 1, 0, 1, 0, 0, 1, 0, 0, 0, 1, 0, 0, 1, 0, 0, 0, 1, 1, 0, 0, 1, 0, 1, 0, 1, 0, 0, 1, 0, 1, 1, 0, 1, 0, 0, 1, 1, 0, 1, 0, 0, 1, 1, 0, 0, 1, 0, 0, 1, 1, 0, 0, 0, 1, 0, 0, 1, 0, 0, 1, 0, 1, 0, 1, 0, 0, 0, 1, 0, 1, 0, 1, 0, 1, 0, 0, 1, 1, 0, 0, 1, 0, 1, 0, 1, 0, 1, 0, 1, 0, 1, 0, 1, 0, 0, 1, 0, 1, 0, 0, 1, 0, 1, 0, 1, 0, 0, 0, 1, 1, 0, 1, 0, 0, 1, 0, 1, 0, 1, 1, 0, 1, 0, 1, 0, 1, 0, 0, 1, 0, 0, 1, 0, 1, 0, 1, 0, 1, 0, 0, 1, 1, 0, 1, 0, 0, 1, 0, 1, 0, 0, 0, 1, 0, 1, 1, 0, 0, 1, 0, 1, 0, 0, 1, 0, 1, 0, 0, 1, 0, 1, 1, 0, 0, 1, 1, 0, 1, 0, 1, 0, 0, 1, 1, 0, 0, 1, 0, 1, 0, 0, 1, 0, 0, 1, 1, 0, 0, 0, 1, 1, 0, 0, 1, 0, 1, 1, 0, 0, 1, 0, 1, 0, 1, 0, 1, 0, 0, 1, 0, 1, 0, 1, 0, 1, 0, 1, 0, 0, 1, 1, 0, 1, 0, 0, 1, 0, 1, 0, 1, 0, 1, 0, 1, 0, 1, 0, 1, 0, 1, 0, 0, 1, 0, 0, 1, 0, 0, 0, 1, 0, 0, 0, 1, 1, 0, 1, 0, 1, 0, 0, 1, 0, 0, 0, 1, 0, 1, 0, 0, 1, 0, 0, 1, 0, 1, 0, 1, 0, 1, 0, 1, 0, 1, 0, 0, 1, 0, 1, 1, 0, 0, 1, 1, 0, 1, 0, 1, 0, 0, 1, 1, 0, 1, 0, 1, 0, 1, 0, 1, 0, 1, 0, 1, 0, 1, 0, 0, 1, 0, 1, 0, 0, 1, 0, 0, 1, 0, 1, 0, 1, 0, 1, 0, 1, 0, 1, 0, 1, 0, 0, 1, 0, 1, 0, 1, 0, 1, 0, 1, 0, 1, 0, 1, 0, 1, 0, 0, 1, 0, 0, 1, 1, 0, 1, 0, 0, 0, 1, 0, 1, 0, 0, 1, 0, 0, 1, 1, 0, 1, 0, 1, 0, 1, 0, 1, 0, 1, 0, 0, 1, 0, 0, 1, 0, 1, 0, 0, 1, 0, 0, 1, 0, 1, 0, 0, 1, 0, 1, 0, 0, 0, 1, 0, 1, 0, 0, 0, 1, 0, 1, 0, 0, 1, 0, 1, 0, 1, 0, 1, 0, 1, 0, 0, 1, 0, 0, 1, 0, 1, 0, 0, 1, 1, 0, 1, 0, 1, 0, 0, 1, 0, 1, 0, 1, 1, 0, 0, 1, 0, 1, 0, 1, 0, 0, 1, 0, 0, 0, 1, 0, 0, 1, 0, 0, 0, 1, 1, 0, 0, 1, 0, 1, 0, 1, 0, 1, 0, 0, 1, 1, 0, 1, 0, 0, 1, 1, 0, 0, 1, 0, 0, 1, 1, 0, 0, 0, 1, 0, 0, 1, 0, 1, 0, 0, 1, 0, 1, 0, 0, 1, 0, 0, 1, 0, 0, 1, 1, 0, 0, 1, 1, 0, 1, 0, 1, 0, 1, 0, 0, 1, 0, 1, 0, 1, 0, 0, 0, 1, 1, 0, 1, 0, 0, 1, 0, 1, 0, 1, 1, 0, 1, 0, 1, 0, 1, 0, 0, 1, 0, 1, 0, 0, 1, 0, 1, 0, 1, 0, 0, 1, 1, 0, 1, 0, 0, 1, 0, 1, 0, 0, 0, 1, 0, 1, 0, 1, 0, 1, 0, 1, 0, 0, 0, 1, 1, 0, 0, 1, 0, 1, 0, 1, 0, 1, 1, 0, 1, 0, 1, 0, 0, 1, 1, 0, 0, 1, 0, 1, 0, 0, 1, 0, 0, 1, 1, 0, 0, 0, 1, 1, 0, 0, 1, 0, 1, 1, 0, 0, 1, 0, 0, 1, 1, 0, 1, 0, 0, 1, 0, 1, 0, 1, 0, 1, 0, 1, 0, 1, 0, 0, 1, 0, 1, 0, 1, 0, 1, 0, 1, 0, 0]\n"
          ]
        }
      ],
      "source": [
        "pred1_labels = pred_output[:, 1]\n",
        "print(pred1_labels.shape)\n",
        "print(pred1_labels)\n",
        "post_labels = make_partitions(wtest, pred1_labels)\n",
        "print(post_labels)"
      ]
    },
    {
      "cell_type": "markdown",
      "metadata": {
        "id": "UNcd28lgxOqZ"
      },
      "source": [
        "upto here only\n"
      ]
    },
    {
      "cell_type": "markdown",
      "metadata": {
        "id": "FsJflApVxURo"
      },
      "source": [
        "# Single iteration upto here"
      ]
    },
    {
      "cell_type": "code",
      "execution_count": null,
      "metadata": {
        "colab": {
          "base_uri": "https://localhost:8080/"
        },
        "id": "8WsneRSmFptf",
        "outputId": "3a142587-a82a-4143-c8d7-6d2cd525426e"
      },
      "outputs": [
        {
          "data": {
            "text/plain": [
              "array([1, 0, 0, ..., 1, 0, 0])"
            ]
          },
          "execution_count": 78,
          "metadata": {},
          "output_type": "execute_result"
        }
      ],
      "source": [
        "pred_output.argmax(axis =1)"
      ]
    },
    {
      "cell_type": "code",
      "execution_count": null,
      "metadata": {
        "colab": {
          "base_uri": "https://localhost:8080/"
        },
        "id": "2XW01Zn4v4dk",
        "outputId": "38996285-7407-4704-bb80-fbae7005d5a1"
      },
      "outputs": [
        {
          "data": {
            "text/plain": [
              "array([1., 0., 0., ..., 1., 0., 0.])"
            ]
          },
          "execution_count": 79,
          "metadata": {},
          "output_type": "execute_result"
        }
      ],
      "source": [
        "ytest"
      ]
    },
    {
      "cell_type": "code",
      "execution_count": null,
      "metadata": {
        "colab": {
          "base_uri": "https://localhost:8080/"
        },
        "id": "ejkWfj6QwpIr",
        "outputId": "fc04d5ed-07ee-42a5-e6b6-213a7cf47b16"
      },
      "outputs": [
        {
          "data": {
            "text/plain": [
              "0.8835322195704057"
            ]
          },
          "execution_count": 80,
          "metadata": {},
          "output_type": "execute_result"
        }
      ],
      "source": [
        "f1_score(ytest, pred_output.argmax(axis =1))"
      ]
    },
    {
      "cell_type": "code",
      "execution_count": null,
      "metadata": {
        "colab": {
          "base_uri": "https://localhost:8080/"
        },
        "id": "XCy9o05Ew5Ro",
        "outputId": "95f1476c-2a08-435d-fe97-56e40db1729e"
      },
      "outputs": [
        {
          "data": {
            "text/plain": [
              "0.9268408551068883"
            ]
          },
          "execution_count": 81,
          "metadata": {},
          "output_type": "execute_result"
        }
      ],
      "source": [
        "f1_score(ytest, post_labels)"
      ]
    },
    {
      "cell_type": "code",
      "execution_count": null,
      "metadata": {
        "colab": {
          "base_uri": "https://localhost:8080/"
        },
        "id": "_an15OBiWZ7t",
        "outputId": "b16aeaad-967b-491a-fc07-a764e52daf74"
      },
      "outputs": [
        {
          "name": "stdout",
          "output_type": "stream",
          "text": [
            "150/150 [==============================] - 1s 3ms/step\n"
          ]
        }
      ],
      "source": [
        "output_layer = classifier.layers[-2].output\n",
        "new_model = Model(inputs=classifier.input, outputs=output_layer)\n",
        "\n",
        "# generate some input data\n",
        "input_data = [xtest_a, xtest_ac]\n",
        "\n",
        "# use the predict method to get the output from the last-but-one layer\n",
        "output = new_model.predict(input_data)"
      ]
    },
    {
      "cell_type": "code",
      "execution_count": null,
      "metadata": {
        "colab": {
          "base_uri": "https://localhost:8080/",
          "height": 298
        },
        "id": "JJZRqqnmDq0b",
        "outputId": "6ca6eec1-54f9-4c21-b6cd-e0a490eecd56"
      },
      "outputs": [
        {
          "name": "stdout",
          "output_type": "stream",
          "text": [
            "[-30.487669    17.733316    37.919586   ... -56.286472    40.302948\n",
            "   0.24058552]\n",
            "[ 62.970608  -8.572245  45.509453 ... -11.506646   9.219881  71.06346 ]\n"
          ]
        },
        {
          "ename": "NameError",
          "evalue": "ignored",
          "output_type": "error",
          "traceback": [
            "\u001b[0;31m---------------------------------------------------------------------------\u001b[0m",
            "\u001b[0;31mNameError\u001b[0m                                 Traceback (most recent call last)",
            "\u001b[0;32m<ipython-input-88-ef4dd96cdf54>\u001b[0m in \u001b[0;36m<cell line: 25>\u001b[0;34m()\u001b[0m\n\u001b[1;32m     23\u001b[0m \u001b[0mprint\u001b[0m\u001b[0;34m(\u001b[0m\u001b[0mx_train_encoded\u001b[0m\u001b[0;34m[\u001b[0m\u001b[0;34m:\u001b[0m\u001b[0;34m,\u001b[0m\u001b[0;36m0\u001b[0m\u001b[0;34m]\u001b[0m\u001b[0;34m)\u001b[0m\u001b[0;34m\u001b[0m\u001b[0;34m\u001b[0m\u001b[0m\n\u001b[1;32m     24\u001b[0m \u001b[0mprint\u001b[0m\u001b[0;34m(\u001b[0m\u001b[0mx_train_encoded\u001b[0m\u001b[0;34m[\u001b[0m\u001b[0;34m:\u001b[0m\u001b[0;34m,\u001b[0m\u001b[0;36m1\u001b[0m\u001b[0;34m]\u001b[0m\u001b[0;34m)\u001b[0m\u001b[0;34m\u001b[0m\u001b[0;34m\u001b[0m\u001b[0m\n\u001b[0;32m---> 25\u001b[0;31m \u001b[0mprint\u001b[0m\u001b[0;34m(\u001b[0m\u001b[0mc\u001b[0m\u001b[0;34m=\u001b[0m\u001b[0my_train\u001b[0m\u001b[0;34m[\u001b[0m\u001b[0;34m:\u001b[0m\u001b[0mn_predict\u001b[0m\u001b[0;34m]\u001b[0m\u001b[0;34m)\u001b[0m\u001b[0;34m\u001b[0m\u001b[0;34m\u001b[0m\u001b[0m\n\u001b[0m\u001b[1;32m     26\u001b[0m \u001b[0;34m\u001b[0m\u001b[0m\n\u001b[1;32m     27\u001b[0m \u001b[0;32mdef\u001b[0m \u001b[0mvis_data\u001b[0m\u001b[0;34m(\u001b[0m\u001b[0mx_train_encoded\u001b[0m\u001b[0;34m,\u001b[0m \u001b[0my_train\u001b[0m\u001b[0;34m,\u001b[0m \u001b[0mvis_dim\u001b[0m\u001b[0;34m,\u001b[0m \u001b[0mn_predict\u001b[0m\u001b[0;34m,\u001b[0m \u001b[0mn_train\u001b[0m\u001b[0;34m,\u001b[0m \u001b[0mbuild_anim\u001b[0m\u001b[0;34m)\u001b[0m\u001b[0;34m:\u001b[0m\u001b[0;34m\u001b[0m\u001b[0;34m\u001b[0m\u001b[0m\n",
            "\u001b[0;31mNameError\u001b[0m: name 'y_train' is not defined"
          ]
        }
      ],
      "source": [
        "from keras.utils import to_categorical\n",
        "# x_tra_a_enco=encoder1(xtest_a)\n",
        "# x_tra_ac_enco=encoder2(xtest_ac)\n",
        "# xtra_enco = tf.keras.layers.Concatenate(axis=1)([x_tra_a_enco, x_tra_ac_enco])\n",
        "xtra_enco = output\n",
        "# ytra_a_enco = to_categorical(ytest)\n",
        "\n",
        "ytra_a_enco = ytest\n",
        "\n",
        "\n",
        "import numpy as np\n",
        "import math\n",
        "from sklearn.manifold import TSNE\n",
        "\n",
        "import matplotlib.colors as c\n",
        "import matplotlib.pyplot as plt\n",
        "from mpl_toolkits import mplot3d\n",
        "from subprocess import call\n",
        "vis_dim = 2\n",
        "\n",
        "x_train_encoded = TSNE(n_components=vis_dim).fit_transform(xtra_enco)\n",
        "\n",
        "print(x_train_encoded[:,0])\n",
        "print(x_train_encoded[:,1])\n",
        "print(c=y_train[:n_predict])\n",
        "\n",
        "def vis_data(x_train_encoded, y_train, vis_dim, n_predict, n_train, build_anim):\n",
        "    cmap = plt.get_cmap('rainbow', 10)\n",
        "\n",
        "    \n",
        "    # 3-dim vis: show one view, then compile animated .gif of many angled views\n",
        "    if vis_dim == 3:\n",
        "        # Simple static figure\n",
        "        fig = plt.figure()\n",
        "        ax = plt.axes(projection='3d')\n",
        "        p = ax.scatter3D(x_train_encoded[:,0], x_train_encoded[:,1], x_train_encoded[:,2], \n",
        "                c=y_train[:n_predict], cmap=cmap, edgecolor='black')\n",
        "        fig.colorbar(p, drawedges=True)\n",
        "        plt.show()\n",
        "\n",
        "        # Build animation from many static figures\n",
        "        if build_anim:\n",
        "            angles = np.linspace(180, 360, 20)\n",
        "            i = 0\n",
        "            for angle in angles:\n",
        "                fig = plt.figure()\n",
        "                ax = plt.axes(projection='3d')\n",
        "                ax.view_init(10, angle)\n",
        "                p = ax.scatter3D(x_train_encoded[:,0], x_train_encoded[:,1], x_train_encoded[:,2], \n",
        "                        c=y_train[:n_predict], cmap=cmap, edgecolor='black')\n",
        "                fig.colorbar(p, drawedges=True)\n",
        "                outfile = 'anim/3dplot_step_' + chr(i + 97) + '.png'\n",
        "                plt.savefig(outfile, dpi=96)\n",
        "                i += 1\n",
        "            call(['convert', '-delay', '50', 'anim/3dplot*', 'anim/3dplot_anim_' + str(n_train) + '.gif'])\n",
        "\n",
        "    # 2-dim vis: plot and colorbar.\n",
        "    elif vis_dim == 2:\n",
        "        plt.scatter(x_train_encoded[:,0], x_train_encoded[:,1], c=y_train[:n_predict], edgecolor='black', cmap=cmap)\n",
        "        plt.colorbar(drawedges=True)\n",
        "        plt.show()\n"
      ]
    },
    {
      "cell_type": "code",
      "execution_count": null,
      "metadata": {
        "colab": {
          "base_uri": "https://localhost:8080/",
          "height": 435
        },
        "id": "gDCqcDndDqx0",
        "outputId": "837460ff-a712-4c0f-e939-ad60e9cfd8bc"
      },
      "outputs": [
        {
          "data": {
            "image/png": "[encoded data removed]",
            "text/plain": [
              "<Figure size 640x480 with 2 Axes>"
            ]
          },
          "metadata": {},
          "output_type": "display_data"
        }
      ],
      "source": [
        "train_new = False\n",
        "n_train = 4789\n",
        "predict_new = False\n",
        "n_predict = 4789\n",
        "vis_dim = 2\n",
        "build_anim = False\n",
        "\n",
        "vis_data(x_train_encoded, ytra_a_enco, vis_dim, n_predict, n_train, build_anim)"
      ]
    },
    {
      "cell_type": "code",
      "execution_count": null,
      "metadata": {
        "id": "ql3eHdw50dNM"
      },
      "outputs": [],
      "source": [
        "import matplotlib.pyplot as plt\n",
        "from sklearn.manifold import TSNE\n",
        "from keras.layers import Input, Dense\n",
        "from keras.models import Model\n",
        "import seaborn as sns"
      ]
    },
    {
      "cell_type": "code",
      "execution_count": null,
      "metadata": {
        "colab": {
          "base_uri": "https://localhost:8080/",
          "height": 781
        },
        "id": "8TtDGRMa0g8C",
        "outputId": "04779910-fca4-4d31-a278-8538dcf30eeb"
      },
      "outputs": [
        {
          "name": "stdout",
          "output_type": "stream",
          "text": [
            "185/185 [==============================] - 1s 4ms/step\n",
            "(5891, 10)\n",
            "[t-SNE] Computing 91 nearest neighbors...\n",
            "[t-SNE] Indexed 5891 samples in 0.012s...\n",
            "[t-SNE] Computed neighbors for 5891 samples in 0.470s...\n",
            "[t-SNE] Computed conditional probabilities for sample 1000 / 5891\n",
            "[t-SNE] Computed conditional probabilities for sample 2000 / 5891\n",
            "[t-SNE] Computed conditional probabilities for sample 3000 / 5891\n",
            "[t-SNE] Computed conditional probabilities for sample 4000 / 5891\n",
            "[t-SNE] Computed conditional probabilities for sample 5000 / 5891\n",
            "[t-SNE] Computed conditional probabilities for sample 5891 / 5891\n",
            "[t-SNE] Mean sigma: 0.185905\n",
            "[t-SNE] KL divergence after 250 iterations with early exaggeration: 74.901894\n",
            "[t-SNE] KL divergence after 1000 iterations: 1.119865\n"
          ]
        },
        {
          "name": "stderr",
          "output_type": "stream",
          "text": [
            "<ipython-input-87-179baf66a2e8>:10: UserWarning: The palette list has more values (10) than needed (2), which may not be intended.\n",
            "  sns.scatterplot(x=\"comp-1\", y=\"comp-2\", hue=df.y.tolist(),\n"
          ]
        },
        {
          "data": {
            "text/plain": [
              "[Text(0.5, 1.0, 'MNIST data T-SNE projection')]"
            ]
          },
          "execution_count": 87,
          "metadata": {},
          "output_type": "execute_result"
        },
        {
          "data": {
            "image/png": "[encoded data removed]",
            "text/plain": [
              "<Figure size 640x480 with 1 Axes>"
            ]
          },
          "metadata": {},
          "output_type": "display_data"
        }
      ],
      "source": [
        "encoded_data = encoder1.predict(xtrain)\n",
        "print(encoded_data.shape)\n",
        "tsne = TSNE(n_components=2, verbose=1, random_state=123)\n",
        "z = tsne.fit_transform(encoded_data)\n",
        "df = pd.DataFrame()\n",
        "df[\"y\"] = ytrain\n",
        "df[\"comp-1\"] = z[:,0]\n",
        "df[\"comp-2\"] = z[:,1]\n",
        "\n",
        "sns.scatterplot(x=\"comp-1\", y=\"comp-2\", hue=df.y.tolist(),\n",
        "                palette=sns.color_palette(\"hls\", 10),\n",
        "                data=df).set(title=\"MNIST data T-SNE projection\")"
      ]
    },
    {
      "cell_type": "code",
      "execution_count": null,
      "metadata": {
        "colab": {
          "base_uri": "https://localhost:8080/"
        },
        "id": "TUHx03c6MuFh",
        "outputId": "0dee2597-f029-48c6-c5c1-71b5cfc1d7ba"
      },
      "outputs": [
        {
          "name": "stdout",
          "output_type": "stream",
          "text": [
            "Epoch 1/200\n",
            "148/148 [==============================] - 7s 21ms/step - loss: 0.2550 - sparse_categorical_accuracy: 0.9017 - val_loss: 0.3346 - val_sparse_categorical_accuracy: 0.8821\n",
            "Epoch 2/200\n",
            "148/148 [==============================] - 1s 6ms/step - loss: 0.2030 - sparse_categorical_accuracy: 0.9295 - val_loss: 0.3469 - val_sparse_categorical_accuracy: 0.8838\n",
            "Epoch 3/200\n",
            "148/148 [==============================] - 1s 7ms/step - loss: 0.1888 - sparse_categorical_accuracy: 0.9353 - val_loss: 0.3474 - val_sparse_categorical_accuracy: 0.8830\n",
            "Epoch 4/200\n",
            "148/148 [==============================] - 1s 5ms/step - loss: 0.1845 - sparse_categorical_accuracy: 0.9338 - val_loss: 0.3756 - val_sparse_categorical_accuracy: 0.8821\n",
            "Epoch 5/200\n",
            "148/148 [==============================] - 1s 5ms/step - loss: 0.1860 - sparse_categorical_accuracy: 0.9283 - val_loss: 0.3486 - val_sparse_categorical_accuracy: 0.8821\n",
            "Epoch 6/200\n",
            "148/148 [==============================] - 1s 5ms/step - loss: 0.1908 - sparse_categorical_accuracy: 0.9327 - val_loss: 0.3696 - val_sparse_categorical_accuracy: 0.8787\n",
            "Epoch 7/200\n",
            "148/148 [==============================] - 1s 5ms/step - loss: 0.1845 - sparse_categorical_accuracy: 0.9325 - val_loss: 0.3388 - val_sparse_categorical_accuracy: 0.8745\n",
            "Epoch 8/200\n",
            "148/148 [==============================] - 1s 4ms/step - loss: 0.1825 - sparse_categorical_accuracy: 0.9351 - val_loss: 0.3345 - val_sparse_categorical_accuracy: 0.8787\n",
            "Epoch 9/200\n",
            "148/148 [==============================] - 1s 5ms/step - loss: 0.1824 - sparse_categorical_accuracy: 0.9321 - val_loss: 0.3308 - val_sparse_categorical_accuracy: 0.8762\n",
            "Epoch 10/200\n",
            "148/148 [==============================] - 1s 5ms/step - loss: 0.1741 - sparse_categorical_accuracy: 0.9336 - val_loss: 0.3364 - val_sparse_categorical_accuracy: 0.8770\n",
            "Epoch 11/200\n",
            "148/148 [==============================] - 1s 4ms/step - loss: 0.1763 - sparse_categorical_accuracy: 0.9344 - val_loss: 0.3507 - val_sparse_categorical_accuracy: 0.8779\n",
            "Epoch 12/200\n",
            "148/148 [==============================] - 1s 5ms/step - loss: 0.1734 - sparse_categorical_accuracy: 0.9353 - val_loss: 0.3365 - val_sparse_categorical_accuracy: 0.8796\n",
            "Epoch 13/200\n",
            "148/148 [==============================] - 1s 5ms/step - loss: 0.1782 - sparse_categorical_accuracy: 0.9319 - val_loss: 0.3418 - val_sparse_categorical_accuracy: 0.8779\n",
            "Epoch 14/200\n",
            "148/148 [==============================] - 1s 5ms/step - loss: 0.1790 - sparse_categorical_accuracy: 0.9365 - val_loss: 0.3645 - val_sparse_categorical_accuracy: 0.8779\n",
            "Epoch 15/200\n",
            "148/148 [==============================] - 1s 5ms/step - loss: 0.1737 - sparse_categorical_accuracy: 0.9389 - val_loss: 0.3501 - val_sparse_categorical_accuracy: 0.8796\n",
            "Epoch 16/200\n",
            "148/148 [==============================] - 1s 5ms/step - loss: 0.1710 - sparse_categorical_accuracy: 0.9348 - val_loss: 0.3742 - val_sparse_categorical_accuracy: 0.8787\n",
            "Epoch 17/200\n",
            "148/148 [==============================] - 1s 6ms/step - loss: 0.1812 - sparse_categorical_accuracy: 0.9312 - val_loss: 0.3538 - val_sparse_categorical_accuracy: 0.8813\n",
            "Epoch 18/200\n",
            "148/148 [==============================] - 1s 7ms/step - loss: 0.1744 - sparse_categorical_accuracy: 0.9331 - val_loss: 0.3286 - val_sparse_categorical_accuracy: 0.8804\n",
            "Epoch 19/200\n",
            "148/148 [==============================] - 1s 7ms/step - loss: 0.1740 - sparse_categorical_accuracy: 0.9353 - val_loss: 0.3195 - val_sparse_categorical_accuracy: 0.8821\n",
            "Epoch 20/200\n",
            "148/148 [==============================] - 1s 7ms/step - loss: 0.1607 - sparse_categorical_accuracy: 0.9365 - val_loss: 0.4410 - val_sparse_categorical_accuracy: 0.8762\n",
            "Epoch 21/200\n",
            "148/148 [==============================] - 1s 6ms/step - loss: 0.1742 - sparse_categorical_accuracy: 0.9340 - val_loss: 0.3699 - val_sparse_categorical_accuracy: 0.8796\n",
            "Epoch 22/200\n",
            "148/148 [==============================] - 1s 5ms/step - loss: 0.1720 - sparse_categorical_accuracy: 0.9359 - val_loss: 0.3412 - val_sparse_categorical_accuracy: 0.8779\n",
            "Epoch 23/200\n",
            "148/148 [==============================] - 1s 5ms/step - loss: 0.1717 - sparse_categorical_accuracy: 0.9357 - val_loss: 0.3589 - val_sparse_categorical_accuracy: 0.8796\n",
            "Epoch 24/200\n",
            "148/148 [==============================] - 1s 5ms/step - loss: 0.1700 - sparse_categorical_accuracy: 0.9368 - val_loss: 0.3616 - val_sparse_categorical_accuracy: 0.8787\n",
            "Epoch 25/200\n",
            "148/148 [==============================] - 1s 4ms/step - loss: 0.1689 - sparse_categorical_accuracy: 0.9355 - val_loss: 0.3803 - val_sparse_categorical_accuracy: 0.8838\n",
            "Epoch 26/200\n",
            "148/148 [==============================] - 1s 5ms/step - loss: 0.1668 - sparse_categorical_accuracy: 0.9387 - val_loss: 0.3526 - val_sparse_categorical_accuracy: 0.8813\n",
            "Epoch 27/200\n",
            "148/148 [==============================] - 1s 5ms/step - loss: 0.1641 - sparse_categorical_accuracy: 0.9363 - val_loss: 0.3699 - val_sparse_categorical_accuracy: 0.8872\n",
            "Epoch 28/200\n",
            "148/148 [==============================] - 1s 5ms/step - loss: 0.1787 - sparse_categorical_accuracy: 0.9357 - val_loss: 0.3513 - val_sparse_categorical_accuracy: 0.8796\n",
            "Epoch 29/200\n",
            "148/148 [==============================] - 1s 5ms/step - loss: 0.1726 - sparse_categorical_accuracy: 0.9374 - val_loss: 0.3492 - val_sparse_categorical_accuracy: 0.8813\n",
            "Epoch 29: early stopping\n",
            "150/150 [==============================] - 0s 2ms/step - loss: 0.2848 - sparse_categorical_accuracy: 0.8968\n",
            "Test accuracy: 89.685%\n"
          ]
        }
      ],
      "source": [
        "def create_classifier(encoder, trainable):\n",
        "\n",
        "    for layer in encoder.layers:\n",
        "        layer.trainable = trainable\n",
        "\n",
        "    inputs1 = keras.Input(shape=input_shape1)\n",
        "    inputs2 = keras.Input(shape=input_shape2)\n",
        "    features1 = encoder1(inputs1)\n",
        "    features2 = encoder2(inputs2)\n",
        "    features = tf.keras.layers.Concatenate(axis=1)([features1, features2])\n",
        "    # features = layers.Dropout(0.2)(features)\n",
        "    features = layers.Dense(hidden_units, activation=\"relu\")(features)\n",
        "    features = layers.Dropout(dropout_rate)(features)\n",
        "    features = layers.Dense(hidden_units, activation=\"relu\")(features)\n",
        "    features = layers.Dense(hidden_units//2, activation=\"relu\")(features)\n",
        "    features = layers.Dropout(0.1)(features)\n",
        "    features = layers.Dense(hidden_units//2, activation=\"relu\")(features)\n",
        "    # features = layers.Dropout(dropout_rate)(features)\n",
        "    outputs = layers.Dense(num_classes, activation=\"softmax\")(features)\n",
        "\n",
        "    model = keras.Model(inputs=[inputs1,inputs2], outputs=outputs)\n",
        "    model.compile(\n",
        "        optimizer=keras.optimizers.Adam(learning_rate),\n",
        "        loss=keras.losses.SparseCategoricalCrossentropy(),\n",
        "        metrics=[keras.metrics.SparseCategoricalAccuracy()],\n",
        "    )\n",
        "    return model\n",
        "\n",
        "\n",
        "learning_rate = 0.001\n",
        "batch_size = 32\n",
        "hidden_units = 128\n",
        "projection_units = 128\n",
        "num_epochs = 200\n",
        "dropout_rate = 0.2\n",
        "temperature = 0.05\n",
        "num_classes = 2\n",
        "input_shape1 = (19,)\n",
        "input_shape2 = (38,)\n",
        "\n",
        "from keras.callbacks import ModelCheckpoint ,EarlyStopping\n",
        "classifier = create_classifier(encoder_with_projection_head, trainable=False)\n",
        "\n",
        "history = classifier.fit(x=[xtra_a,xtra_ac], y=ytra_a, validation_data =([xval_a,xval_ac],yval_a), batch_size=batch_size, epochs=num_epochs, callbacks=[EarlyStopping(monitor='val_loss', mode='min', verbose=1, patience=10)])\n",
        "\n",
        "accuracy = classifier.evaluate([xtest_a,xtest_ac], ytest)[1]\n",
        "print(f\"Test accuracy: {round(accuracy * 100, 3)}%\")"
      ]
    },
    {
      "cell_type": "code",
      "execution_count": null,
      "metadata": {
        "colab": {
          "base_uri": "https://localhost:8080/"
        },
        "id": "N47R7fwNHOqG",
        "outputId": "19b15fbd-1a9e-4ad4-f05a-6a7b1409910f"
      },
      "outputs": [
        {
          "name": "stdout",
          "output_type": "stream",
          "text": [
            "(4713, 16)\n",
            "(4713, 16)\n"
          ]
        }
      ],
      "source": [
        "a = encoder1(xtra_a)\n",
        "print(a.shape)\n",
        "b = encoder2(xtra_ac)\n",
        "print(b.shape)"
      ]
    },
    {
      "cell_type": "code",
      "execution_count": null,
      "metadata": {
        "id": "ptvOclytHmjz"
      },
      "outputs": [],
      "source": [
        "features = tf.keras.layers.Concatenate(axis=1)([a, b])"
      ]
    },
    {
      "cell_type": "code",
      "execution_count": null,
      "metadata": {
        "colab": {
          "base_uri": "https://localhost:8080/"
        },
        "id": "bAZW4Q_THqNK",
        "outputId": "50589532-73d3-4c27-ff36-6b9db4dce673"
      },
      "outputs": [
        {
          "data": {
            "text/plain": [
              "TensorShape([4713, 32])"
            ]
          },
          "execution_count": 28,
          "metadata": {},
          "output_type": "execute_result"
        }
      ],
      "source": [
        "features.shape"
      ]
    },
    {
      "cell_type": "code",
      "execution_count": null,
      "metadata": {
        "id": "SbVNU-kwIcJO"
      },
      "outputs": [],
      "source": [
        "feature_vectors_normalized = tf.math.l2_normalize(features, axis=0)"
      ]
    },
    {
      "cell_type": "code",
      "execution_count": null,
      "metadata": {
        "colab": {
          "base_uri": "https://localhost:8080/"
        },
        "id": "r5LVLhOnIgs3",
        "outputId": "383f5539-d4d9-4461-c576-e38f0032ec75"
      },
      "outputs": [
        {
          "data": {
            "text/plain": [
              "TensorShape([4713, 32])"
            ]
          },
          "execution_count": 32,
          "metadata": {},
          "output_type": "execute_result"
        }
      ],
      "source": [
        "feature_vectors_normalized.shape"
      ]
    },
    {
      "cell_type": "code",
      "execution_count": null,
      "metadata": {
        "id": "ScA4bdpoI0Au"
      },
      "outputs": [],
      "source": [
        "logits = tf.divide(tf.matmul(feature_vectors_normalized, tf.transpose(feature_vectors_normalized)), 0.2)"
      ]
    },
    {
      "cell_type": "code",
      "execution_count": null,
      "metadata": {
        "colab": {
          "base_uri": "https://localhost:8080/"
        },
        "id": "3x6kq5hZJQXb",
        "outputId": "89753c27-f64b-4544-caa5-7d995f61dd56"
      },
      "outputs": [
        {
          "data": {
            "text/plain": [
              "TensorShape([4713, 4713])"
            ]
          },
          "execution_count": 35,
          "metadata": {},
          "output_type": "execute_result"
        }
      ],
      "source": [
        "logits.shape"
      ]
    },
    {
      "cell_type": "code",
      "execution_count": null,
      "metadata": {
        "id": "RGZfDb5PJlBp"
      },
      "outputs": [],
      "source": [
        "labels = tf.squeeze(ytra_a)"
      ]
    },
    {
      "cell_type": "code",
      "execution_count": null,
      "metadata": {
        "colab": {
          "base_uri": "https://localhost:8080/"
        },
        "id": "1T3VuzfUJs0x",
        "outputId": "2c7cfae2-e4b6-4979-ad06-a0c129d5eaef"
      },
      "outputs": [
        {
          "data": {
            "text/plain": [
              "TensorShape([4713])"
            ]
          },
          "execution_count": 39,
          "metadata": {},
          "output_type": "execute_result"
        }
      ],
      "source": [
        "labels.shape"
      ]
    },
    {
      "cell_type": "code",
      "execution_count": null,
      "metadata": {
        "colab": {
          "base_uri": "https://localhost:8080/"
        },
        "id": "WkT8Xp_aJ3U4",
        "outputId": "efa05901-eaa6-4472-ae5d-026a937eb790"
      },
      "outputs": [
        {
          "name": "stdout",
          "output_type": "stream",
          "text": [
            "tf.Tensor(8.457547, shape=(), dtype=float32)\n"
          ]
        }
      ],
      "source": [
        "print(tfa.losses.npairs_loss(labels, logits))"
      ]
    },
    {
      "cell_type": "code",
      "execution_count": null,
      "metadata": {
        "colab": {
          "base_uri": "https://localhost:8080/",
          "height": 1000
        },
        "id": "ue2TXVZfCZe3",
        "outputId": "7dba7c46-a103-4ec7-a5ec-6f3f0d12e4d8"
      },
      "outputs": [
        {
          "name": "stdout",
          "output_type": "stream",
          "text": [
            "Classification with:::::: GER_train_fisher-2000_FA_GT_ESTphnTrans_estStress.mat\n",
            "test file::::::: GER_test_fisher-2000_FA_GT_ESTphnTrans_estStress.mat\n",
            "dict_keys(['__header__', '__version__', '__globals__', 'AF', 'AF_info', 'CF', 'CF_info'])\n",
            "dict_keys(['__header__', '__version__', '__globals__', 'AF', 'AF_info', 'CF', 'CF_info'])\n",
            "dict_keys(['__header__', '__version__', '__globals__', 'AF', 'AF_info', 'CF', 'CF_info'])\n",
            "5891\n",
            "(5891, 19)\n",
            "(1178, 19)\n",
            "Fold  2  xtrain shape::::::: (4713, 19)\n",
            "(1178, 38)\n",
            "Model: \"model_6\"\n",
            "__________________________________________________________________________________________________\n",
            " Layer (type)                   Output Shape         Param #     Connected to                     \n",
            "==================================================================================================\n",
            " input_37 (InputLayer)          [(None, 19)]         0           []                               \n",
            "                                                                                                  \n",
            " dense_78 (Dense)               (None, 32)           640         ['input_37[0][0]']               \n",
            "                                                                                                  \n",
            " input_38 (InputLayer)          [(None, 38)]         0           []                               \n",
            "                                                                                                  \n",
            " dense_79 (Dense)               (None, 128)          4224        ['dense_78[0][0]']               \n",
            "                                                                                                  \n",
            " dense_83 (Dense)               (None, 32)           1248        ['input_38[0][0]']               \n",
            "                                                                                                  \n",
            " dropout_16 (Dropout)           (None, 128)          0           ['dense_79[0][0]']               \n",
            "                                                                                                  \n",
            " dense_84 (Dense)               (None, 128)          4224        ['dense_83[0][0]']               \n",
            "                                                                                                  \n",
            " dense_80 (Dense)               (None, 64)           8256        ['dropout_16[0][0]']             \n",
            "                                                                                                  \n",
            " dropout_18 (Dropout)           (None, 128)          0           ['dense_84[0][0]']               \n",
            "                                                                                                  \n",
            " dropout_17 (Dropout)           (None, 64)           0           ['dense_80[0][0]']               \n",
            "                                                                                                  \n",
            " dense_85 (Dense)               (None, 64)           8256        ['dropout_18[0][0]']             \n",
            "                                                                                                  \n",
            " dense_81 (Dense)               (None, 32)           2080        ['dropout_17[0][0]']             \n",
            "                                                                                                  \n",
            " dense_86 (Dense)               (None, 32)           2080        ['dense_85[0][0]']               \n",
            "                                                                                                  \n",
            " dense_82 (Dense)               (None, 16)           528         ['dense_81[0][0]']               \n",
            "                                                                                                  \n",
            " dense_87 (Dense)               (None, 16)           528         ['dense_86[0][0]']               \n",
            "                                                                                                  \n",
            " concatenate_12 (Concatenate)   (None, 32)           0           ['dense_82[0][0]',               \n",
            "                                                                  'dense_87[0][0]']               \n",
            "                                                                                                  \n",
            " dense_88 (Dense)               (None, 16)           528         ['concatenate_12[0][0]']         \n",
            "                                                                                                  \n",
            " dense_89 (Dense)               (None, 4)            68          ['dense_88[0][0]']               \n",
            "                                                                                                  \n",
            " dense_90 (Dense)               (None, 1)            5           ['dense_89[0][0]']               \n",
            "                                                                                                  \n",
            "==================================================================================================\n",
            "Total params: 32,665\n",
            "Trainable params: 32,665\n",
            "Non-trainable params: 0\n",
            "__________________________________________________________________________________________________\n",
            "Epoch 1/200\n",
            "148/148 [==============================] - 5s 8ms/step - loss: 0.5709 - accuracy: 0.7049\n",
            "Epoch 2/200\n",
            "148/148 [==============================] - 1s 5ms/step - loss: 0.4303 - accuracy: 0.8044\n",
            "Epoch 3/200\n",
            "148/148 [==============================] - 1s 4ms/step - loss: 0.3765 - accuracy: 0.8332\n",
            "Epoch 4/200\n",
            "148/148 [==============================] - 1s 4ms/step - loss: 0.3513 - accuracy: 0.8428\n",
            "Epoch 5/200\n",
            "148/148 [==============================] - 1s 4ms/step - loss: 0.3218 - accuracy: 0.8614\n",
            "Epoch 6/200\n",
            "148/148 [==============================] - 1s 4ms/step - loss: 0.3025 - accuracy: 0.8712\n",
            "Epoch 7/200\n",
            "148/148 [==============================] - 1s 5ms/step - loss: 0.2874 - accuracy: 0.8791\n",
            "Epoch 8/200\n",
            "148/148 [==============================] - 1s 4ms/step - loss: 0.2688 - accuracy: 0.8897\n",
            "Epoch 9/200\n",
            "148/148 [==============================] - 1s 4ms/step - loss: 0.2467 - accuracy: 0.8990\n",
            "Epoch 10/200\n",
            "148/148 [==============================] - 1s 4ms/step - loss: 0.2315 - accuracy: 0.9062\n",
            "Epoch 11/200\n",
            "148/148 [==============================] - 1s 5ms/step - loss: 0.2296 - accuracy: 0.9083\n",
            "Epoch 12/200\n",
            "148/148 [==============================] - 1s 4ms/step - loss: 0.2168 - accuracy: 0.9128\n",
            "Epoch 13/200\n",
            "148/148 [==============================] - 1s 4ms/step - loss: 0.1991 - accuracy: 0.9221\n",
            "Epoch 14/200\n",
            "148/148 [==============================] - 1s 4ms/step - loss: 0.1890 - accuracy: 0.9274\n",
            "Epoch 15/200\n",
            "148/148 [==============================] - 1s 4ms/step - loss: 0.1894 - accuracy: 0.9230\n",
            "Epoch 16/200\n",
            "148/148 [==============================] - 1s 4ms/step - loss: 0.1739 - accuracy: 0.9319\n",
            "Epoch 17/200\n",
            "148/148 [==============================] - 1s 6ms/step - loss: 0.1748 - accuracy: 0.9323\n",
            "Epoch 18/200\n",
            "148/148 [==============================] - 1s 7ms/step - loss: 0.1633 - accuracy: 0.9376\n",
            "Epoch 19/200\n",
            "148/148 [==============================] - 1s 7ms/step - loss: 0.1617 - accuracy: 0.9380\n",
            "Epoch 20/200\n",
            "148/148 [==============================] - 1s 7ms/step - loss: 0.1543 - accuracy: 0.9412\n",
            "Epoch 21/200\n",
            "148/148 [==============================] - 1s 6ms/step - loss: 0.1437 - accuracy: 0.9431\n",
            "Epoch 22/200\n",
            "148/148 [==============================] - 1s 4ms/step - loss: 0.1352 - accuracy: 0.9501\n",
            "Epoch 23/200\n",
            "148/148 [==============================] - 1s 4ms/step - loss: 0.1337 - accuracy: 0.9535\n",
            "Epoch 24/200\n",
            "148/148 [==============================] - 1s 4ms/step - loss: 0.1351 - accuracy: 0.9491\n",
            "Epoch 25/200\n",
            "148/148 [==============================] - 1s 4ms/step - loss: 0.1310 - accuracy: 0.9474\n",
            "Epoch 26/200\n",
            "148/148 [==============================] - 1s 5ms/step - loss: 0.1261 - accuracy: 0.9516\n",
            "Epoch 27/200\n",
            "148/148 [==============================] - 1s 5ms/step - loss: 0.1232 - accuracy: 0.9546\n",
            "Epoch 28/200\n",
            "148/148 [==============================] - 1s 5ms/step - loss: 0.1143 - accuracy: 0.9548\n",
            "Epoch 29/200\n",
            "148/148 [==============================] - 1s 4ms/step - loss: 0.1087 - accuracy: 0.9588\n",
            "Epoch 30/200\n",
            "148/148 [==============================] - 1s 4ms/step - loss: 0.1117 - accuracy: 0.9559\n",
            "Epoch 31/200\n",
            "148/148 [==============================] - 1s 4ms/step - loss: 0.1037 - accuracy: 0.9601\n",
            "Epoch 32/200\n",
            "148/148 [==============================] - 1s 4ms/step - loss: 0.0931 - accuracy: 0.9654\n",
            "Epoch 33/200\n",
            "148/148 [==============================] - 1s 4ms/step - loss: 0.1031 - accuracy: 0.9593\n",
            "Epoch 34/200\n",
            "148/148 [==============================] - 1s 4ms/step - loss: 0.0928 - accuracy: 0.9641\n",
            "Epoch 35/200\n",
            "148/148 [==============================] - 1s 4ms/step - loss: 0.0936 - accuracy: 0.9637\n",
            "Epoch 36/200\n",
            "148/148 [==============================] - 1s 6ms/step - loss: 0.0934 - accuracy: 0.9639\n",
            "Epoch 37/200\n",
            "148/148 [==============================] - 1s 7ms/step - loss: 0.0854 - accuracy: 0.9665\n",
            "Epoch 38/200\n",
            "148/148 [==============================] - 1s 7ms/step - loss: 0.0820 - accuracy: 0.9699\n",
            "Epoch 39/200\n",
            "148/148 [==============================] - 1s 7ms/step - loss: 0.0873 - accuracy: 0.9682\n",
            "Epoch 40/200\n",
            "148/148 [==============================] - 1s 9ms/step - loss: 0.0872 - accuracy: 0.9639\n",
            "Epoch 41/200\n",
            "148/148 [==============================] - 1s 7ms/step - loss: 0.0814 - accuracy: 0.9711\n",
            "Epoch 42/200\n",
            "148/148 [==============================] - 1s 4ms/step - loss: 0.0809 - accuracy: 0.9711\n",
            "Epoch 43/200\n",
            "148/148 [==============================] - 1s 4ms/step - loss: 0.0753 - accuracy: 0.9737\n",
            "Epoch 44/200\n",
            "148/148 [==============================] - 1s 5ms/step - loss: 0.0676 - accuracy: 0.9762\n",
            "Epoch 45/200\n",
            "148/148 [==============================] - 1s 4ms/step - loss: 0.0785 - accuracy: 0.9726\n",
            "Epoch 46/200\n",
            "148/148 [==============================] - 1s 5ms/step - loss: 0.0785 - accuracy: 0.9677\n",
            "Epoch 47/200\n",
            "148/148 [==============================] - 1s 4ms/step - loss: 0.0725 - accuracy: 0.9726\n",
            "Epoch 48/200\n",
            "148/148 [==============================] - 1s 6ms/step - loss: 0.0625 - accuracy: 0.9760\n",
            "Epoch 49/200\n",
            "148/148 [==============================] - 1s 9ms/step - loss: 0.0688 - accuracy: 0.9731\n",
            "Epoch 50/200\n",
            "148/148 [==============================] - 1s 10ms/step - loss: 0.0671 - accuracy: 0.9745\n",
            "Epoch 51/200\n",
            "148/148 [==============================] - 1s 9ms/step - loss: 0.0703 - accuracy: 0.9745\n",
            "Epoch 52/200\n",
            "148/148 [==============================] - 2s 12ms/step - loss: 0.0663 - accuracy: 0.9762\n",
            "Epoch 53/200\n",
            "148/148 [==============================] - 2s 13ms/step - loss: 0.0663 - accuracy: 0.9745\n",
            "Epoch 54/200\n",
            "148/148 [==============================] - 1s 8ms/step - loss: 0.0627 - accuracy: 0.9762\n",
            "Epoch 55/200\n",
            "148/148 [==============================] - 1s 5ms/step - loss: 0.0550 - accuracy: 0.9803\n",
            "Epoch 56/200\n",
            "148/148 [==============================] - 1s 4ms/step - loss: 0.0573 - accuracy: 0.9777\n",
            "Epoch 57/200\n",
            "148/148 [==============================] - 1s 4ms/step - loss: 0.0651 - accuracy: 0.9762\n",
            "Epoch 58/200\n",
            "148/148 [==============================] - 1s 4ms/step - loss: 0.0531 - accuracy: 0.9807\n",
            "Epoch 59/200\n",
            "148/148 [==============================] - 1s 4ms/step - loss: 0.0599 - accuracy: 0.9767\n",
            "Epoch 60/200\n",
            "148/148 [==============================] - 1s 4ms/step - loss: 0.0510 - accuracy: 0.9796\n",
            "Epoch 61/200\n",
            "148/148 [==============================] - 1s 4ms/step - loss: 0.0479 - accuracy: 0.9828\n",
            "Epoch 62/200\n",
            "148/148 [==============================] - 1s 4ms/step - loss: 0.0540 - accuracy: 0.9796\n",
            "Epoch 63/200\n",
            "148/148 [==============================] - 1s 4ms/step - loss: 0.0603 - accuracy: 0.9784\n",
            "Epoch 64/200\n",
            "148/148 [==============================] - 1s 4ms/step - loss: 0.0614 - accuracy: 0.9771\n",
            "Epoch 65/200\n",
            "148/148 [==============================] - 1s 4ms/step - loss: 0.0572 - accuracy: 0.9777\n",
            "Epoch 66/200\n",
            "148/148 [==============================] - 1s 4ms/step - loss: 0.0542 - accuracy: 0.9796\n",
            "Epoch 67/200\n",
            "148/148 [==============================] - 1s 4ms/step - loss: 0.0471 - accuracy: 0.9828\n",
            "Epoch 68/200\n",
            "148/148 [==============================] - 1s 4ms/step - loss: 0.0544 - accuracy: 0.9809\n",
            "Epoch 69/200\n",
            "148/148 [==============================] - 1s 4ms/step - loss: 0.0498 - accuracy: 0.9803\n",
            "Epoch 70/200\n",
            "148/148 [==============================] - 1s 6ms/step - loss: 0.0433 - accuracy: 0.9849\n",
            "Epoch 71/200\n",
            "148/148 [==============================] - 1s 7ms/step - loss: 0.0549 - accuracy: 0.9798\n",
            "Epoch 72/200\n",
            "148/148 [==============================] - 1s 7ms/step - loss: 0.0476 - accuracy: 0.9807\n",
            "Epoch 73/200\n",
            "148/148 [==============================] - 1s 7ms/step - loss: 0.0493 - accuracy: 0.9803\n",
            "Epoch 74/200\n",
            "148/148 [==============================] - 1s 7ms/step - loss: 0.0446 - accuracy: 0.9832\n",
            "Epoch 75/200\n",
            "148/148 [==============================] - 1s 4ms/step - loss: 0.0386 - accuracy: 0.9864\n",
            "Epoch 76/200\n",
            "148/148 [==============================] - 1s 4ms/step - loss: 0.0429 - accuracy: 0.9835\n",
            "Epoch 77/200\n",
            "148/148 [==============================] - 1s 4ms/step - loss: 0.0474 - accuracy: 0.9828\n",
            "Epoch 78/200\n",
            "148/148 [==============================] - 1s 4ms/step - loss: 0.0460 - accuracy: 0.9805\n",
            "Epoch 79/200\n",
            "148/148 [==============================] - 1s 4ms/step - loss: 0.0430 - accuracy: 0.9868\n",
            "Epoch 80/200\n",
            "148/148 [==============================] - 1s 4ms/step - loss: 0.0404 - accuracy: 0.9843\n",
            "Epoch 81/200\n",
            "148/148 [==============================] - 1s 5ms/step - loss: 0.0425 - accuracy: 0.9854\n",
            "Epoch 82/200\n",
            "148/148 [==============================] - 1s 4ms/step - loss: 0.0480 - accuracy: 0.9845\n",
            "Epoch 83/200\n",
            "148/148 [==============================] - 1s 4ms/step - loss: 0.0451 - accuracy: 0.9824\n",
            "Epoch 84/200\n",
            "148/148 [==============================] - 1s 4ms/step - loss: 0.0454 - accuracy: 0.9843\n",
            "Epoch 85/200\n",
            "148/148 [==============================] - 1s 4ms/step - loss: 0.0376 - accuracy: 0.9881\n",
            "Epoch 86/200\n",
            "148/148 [==============================] - 1s 4ms/step - loss: 0.0389 - accuracy: 0.9871\n",
            "Epoch 87/200\n",
            "148/148 [==============================] - 1s 4ms/step - loss: 0.0497 - accuracy: 0.9813\n",
            "Epoch 88/200\n",
            "148/148 [==============================] - 1s 4ms/step - loss: 0.0480 - accuracy: 0.9841\n",
            "Epoch 89/200\n",
            "148/148 [==============================] - 1s 5ms/step - loss: 0.0457 - accuracy: 0.9837\n",
            "Epoch 90/200\n",
            "148/148 [==============================] - 1s 7ms/step - loss: 0.0396 - accuracy: 0.9854\n",
            "Epoch 91/200\n",
            "148/148 [==============================] - 1s 7ms/step - loss: 0.0324 - accuracy: 0.9881\n",
            "Epoch 92/200\n",
            "148/148 [==============================] - 1s 7ms/step - loss: 0.0333 - accuracy: 0.9866\n",
            "Epoch 93/200\n",
            "148/148 [==============================] - 1s 7ms/step - loss: 0.0492 - accuracy: 0.9818\n",
            "Epoch 94/200\n",
            "148/148 [==============================] - 1s 6ms/step - loss: 0.0475 - accuracy: 0.9809\n",
            "Epoch 95/200\n",
            "148/148 [==============================] - 1s 4ms/step - loss: 0.0362 - accuracy: 0.9875\n",
            "Epoch 96/200\n",
            "148/148 [==============================] - 1s 5ms/step - loss: 0.0287 - accuracy: 0.9894\n",
            "Epoch 97/200\n",
            "148/148 [==============================] - 1s 4ms/step - loss: 0.0339 - accuracy: 0.9879\n",
            "Epoch 98/200\n",
            "148/148 [==============================] - 1s 4ms/step - loss: 0.0526 - accuracy: 0.9830\n",
            "Epoch 99/200\n",
            "148/148 [==============================] - 1s 4ms/step - loss: 0.0333 - accuracy: 0.9900\n",
            "Epoch 100/200\n",
            "148/148 [==============================] - 1s 4ms/step - loss: 0.0311 - accuracy: 0.9888\n",
            "Epoch 101/200\n",
            "148/148 [==============================] - 1s 4ms/step - loss: 0.0377 - accuracy: 0.9862\n",
            "Epoch 102/200\n",
            "148/148 [==============================] - 1s 4ms/step - loss: 0.0446 - accuracy: 0.9837\n",
            "Epoch 103/200\n",
            "148/148 [==============================] - 1s 4ms/step - loss: 0.0380 - accuracy: 0.9866\n",
            "Epoch 104/200\n",
            "148/148 [==============================] - 1s 5ms/step - loss: 0.0317 - accuracy: 0.9885\n",
            "Epoch 105/200\n",
            "148/148 [==============================] - 1s 5ms/step - loss: 0.0267 - accuracy: 0.9907\n",
            "Epoch 106/200\n",
            "148/148 [==============================] - 1s 5ms/step - loss: 0.0320 - accuracy: 0.9871\n",
            "Epoch 107/200\n",
            "148/148 [==============================] - 1s 5ms/step - loss: 0.0466 - accuracy: 0.9824\n",
            "Epoch 108/200\n",
            "148/148 [==============================] - 1s 4ms/step - loss: 0.0434 - accuracy: 0.9856\n",
            "Epoch 109/200\n",
            "148/148 [==============================] - 1s 6ms/step - loss: 0.0255 - accuracy: 0.9915\n",
            "Epoch 110/200\n",
            "148/148 [==============================] - 1s 7ms/step - loss: 0.0323 - accuracy: 0.9881\n",
            "Epoch 111/200\n",
            "148/148 [==============================] - 1s 8ms/step - loss: 0.0318 - accuracy: 0.9885\n",
            "Epoch 112/200\n",
            "148/148 [==============================] - 1s 8ms/step - loss: 0.0332 - accuracy: 0.9873\n",
            "Epoch 113/200\n",
            "148/148 [==============================] - 1s 7ms/step - loss: 0.0402 - accuracy: 0.9862\n",
            "Epoch 114/200\n",
            "148/148 [==============================] - 1s 4ms/step - loss: 0.0328 - accuracy: 0.9905\n",
            "Epoch 115/200\n",
            "148/148 [==============================] - 1s 4ms/step - loss: 0.0361 - accuracy: 0.9864\n",
            "Epoch 116/200\n",
            "148/148 [==============================] - 1s 4ms/step - loss: 0.0369 - accuracy: 0.9879\n",
            "Epoch 117/200\n",
            "148/148 [==============================] - 1s 4ms/step - loss: 0.0313 - accuracy: 0.9879\n",
            "Epoch 118/200\n",
            "148/148 [==============================] - 1s 4ms/step - loss: 0.0338 - accuracy: 0.9883\n",
            "Epoch 119/200\n",
            "148/148 [==============================] - 1s 4ms/step - loss: 0.0267 - accuracy: 0.9900\n",
            "Epoch 120/200\n",
            "148/148 [==============================] - 1s 5ms/step - loss: 0.0323 - accuracy: 0.9875\n",
            "Epoch 121/200\n",
            "148/148 [==============================] - 1s 5ms/step - loss: 0.0277 - accuracy: 0.9892\n",
            "Epoch 122/200\n",
            "148/148 [==============================] - 1s 4ms/step - loss: 0.0320 - accuracy: 0.9885\n",
            "Epoch 123/200\n",
            "148/148 [==============================] - 1s 4ms/step - loss: 0.0358 - accuracy: 0.9868\n",
            "Epoch 124/200\n",
            "148/148 [==============================] - 1s 4ms/step - loss: 0.0298 - accuracy: 0.9898\n",
            "Epoch 125/200\n",
            "148/148 [==============================] - 1s 5ms/step - loss: 0.0264 - accuracy: 0.9905\n",
            "Epoch 126/200\n",
            "148/148 [==============================] - 1s 4ms/step - loss: 0.0359 - accuracy: 0.9879\n",
            "Epoch 127/200\n",
            "148/148 [==============================] - 1s 4ms/step - loss: 0.0402 - accuracy: 0.9843\n",
            "Epoch 128/200\n",
            "148/148 [==============================] - 1s 5ms/step - loss: 0.0284 - accuracy: 0.9898\n",
            "Epoch 129/200\n",
            "148/148 [==============================] - 1s 8ms/step - loss: 0.0234 - accuracy: 0.9911\n",
            "Epoch 130/200\n",
            "148/148 [==============================] - 1s 7ms/step - loss: 0.0266 - accuracy: 0.9909\n",
            "Epoch 131/200\n",
            "148/148 [==============================] - 1s 7ms/step - loss: 0.0312 - accuracy: 0.9890\n",
            "Epoch 132/200\n",
            "148/148 [==============================] - 1s 7ms/step - loss: 0.0375 - accuracy: 0.9871\n",
            "Epoch 133/200\n",
            "148/148 [==============================] - 1s 5ms/step - loss: 0.0295 - accuracy: 0.9877\n",
            "Epoch 134/200\n",
            "148/148 [==============================] - 1s 5ms/step - loss: 0.0283 - accuracy: 0.9911\n",
            "Epoch 135/200\n",
            "148/148 [==============================] - 1s 4ms/step - loss: 0.0303 - accuracy: 0.9888\n",
            "Epoch 136/200\n",
            "148/148 [==============================] - 1s 4ms/step - loss: 0.0266 - accuracy: 0.9896\n",
            "Epoch 137/200\n",
            "148/148 [==============================] - 1s 4ms/step - loss: 0.0276 - accuracy: 0.9909\n",
            "Epoch 138/200\n",
            "148/148 [==============================] - 1s 4ms/step - loss: 0.0310 - accuracy: 0.9894\n",
            "Epoch 139/200\n",
            "148/148 [==============================] - 1s 4ms/step - loss: 0.0297 - accuracy: 0.9890\n",
            "Epoch 140/200\n",
            "148/148 [==============================] - 1s 4ms/step - loss: 0.0294 - accuracy: 0.9888\n",
            "Epoch 141/200\n",
            "148/148 [==============================] - 1s 4ms/step - loss: 0.0332 - accuracy: 0.9877\n",
            "Epoch 142/200\n",
            "148/148 [==============================] - 1s 5ms/step - loss: 0.0284 - accuracy: 0.9905\n",
            "Epoch 143/200\n",
            "148/148 [==============================] - 1s 4ms/step - loss: 0.0213 - accuracy: 0.9921\n",
            "Epoch 144/200\n",
            "148/148 [==============================] - 1s 5ms/step - loss: 0.0290 - accuracy: 0.9898\n",
            "Epoch 145/200\n",
            "148/148 [==============================] - 1s 5ms/step - loss: 0.0251 - accuracy: 0.9911\n",
            "Epoch 146/200\n",
            "148/148 [==============================] - 1s 4ms/step - loss: 0.0171 - accuracy: 0.9951\n",
            "Epoch 147/200\n",
            "148/148 [==============================] - 1s 4ms/step - loss: 0.0263 - accuracy: 0.9902\n",
            "Epoch 148/200\n",
            "148/148 [==============================] - 1s 7ms/step - loss: 0.0388 - accuracy: 0.9851\n",
            "Epoch 149/200\n",
            "148/148 [==============================] - 1s 7ms/step - loss: 0.0231 - accuracy: 0.9915\n",
            "Epoch 150/200\n",
            "148/148 [==============================] - 2s 13ms/step - loss: 0.0301 - accuracy: 0.9875\n",
            "Epoch 151/200\n",
            "148/148 [==============================] - 2s 10ms/step - loss: 0.0297 - accuracy: 0.9885\n",
            "Epoch 152/200\n",
            "148/148 [==============================] - 1s 8ms/step - loss: 0.0315 - accuracy: 0.9881\n",
            "Epoch 153/200\n",
            "148/148 [==============================] - 1s 8ms/step - loss: 0.0295 - accuracy: 0.9915\n",
            "Epoch 154/200\n",
            "148/148 [==============================] - 1s 4ms/step - loss: 0.0225 - accuracy: 0.9930\n",
            "Epoch 155/200\n",
            "148/148 [==============================] - 1s 4ms/step - loss: 0.0238 - accuracy: 0.9924\n",
            "Epoch 156/200\n",
            "148/148 [==============================] - 1s 4ms/step - loss: 0.0214 - accuracy: 0.9930\n",
            "Epoch 157/200\n",
            "148/148 [==============================] - 1s 4ms/step - loss: 0.0297 - accuracy: 0.9892\n",
            "Epoch 158/200\n",
            "148/148 [==============================] - 1s 4ms/step - loss: 0.0245 - accuracy: 0.9907\n",
            "Epoch 159/200\n",
            "148/148 [==============================] - 1s 4ms/step - loss: 0.0328 - accuracy: 0.9877\n",
            "Epoch 160/200\n",
            "148/148 [==============================] - 1s 4ms/step - loss: 0.0249 - accuracy: 0.9921\n",
            "Epoch 161/200\n",
            "148/148 [==============================] - 1s 5ms/step - loss: 0.0247 - accuracy: 0.9915\n",
            "Epoch 162/200\n",
            "148/148 [==============================] - 1s 4ms/step - loss: 0.0337 - accuracy: 0.9877\n",
            "Epoch 163/200\n",
            "148/148 [==============================] - 1s 4ms/step - loss: 0.0319 - accuracy: 0.9890\n",
            "Epoch 164/200\n",
            "148/148 [==============================] - 1s 4ms/step - loss: 0.0258 - accuracy: 0.9896\n",
            "Epoch 165/200\n",
            "148/148 [==============================] - 1s 6ms/step - loss: 0.0222 - accuracy: 0.9924\n",
            "Epoch 166/200\n",
            "148/148 [==============================] - 1s 7ms/step - loss: 0.0273 - accuracy: 0.9896\n",
            "Epoch 167/200\n",
            "148/148 [==============================] - 1s 7ms/step - loss: 0.0321 - accuracy: 0.9888\n",
            "Epoch 168/200\n",
            "148/148 [==============================] - 1s 7ms/step - loss: 0.0218 - accuracy: 0.9934\n",
            "Epoch 169/200\n",
            "148/148 [==============================] - 1s 10ms/step - loss: 0.0237 - accuracy: 0.9915\n",
            "Epoch 170/200\n",
            "148/148 [==============================] - 1s 4ms/step - loss: 0.0198 - accuracy: 0.9938\n",
            "Epoch 171/200\n",
            "148/148 [==============================] - 1s 5ms/step - loss: 0.0235 - accuracy: 0.9930\n",
            "Epoch 172/200\n",
            "148/148 [==============================] - 1s 4ms/step - loss: 0.0244 - accuracy: 0.9919\n",
            "Epoch 173/200\n",
            "148/148 [==============================] - 1s 4ms/step - loss: 0.0213 - accuracy: 0.9943\n",
            "Epoch 174/200\n",
            "148/148 [==============================] - 1s 4ms/step - loss: 0.0215 - accuracy: 0.9926\n",
            "Epoch 175/200\n",
            "148/148 [==============================] - 1s 4ms/step - loss: 0.0243 - accuracy: 0.9909\n",
            "Epoch 176/200\n",
            "148/148 [==============================] - 1s 4ms/step - loss: 0.0186 - accuracy: 0.9930\n",
            "Epoch 177/200\n",
            "148/148 [==============================] - 1s 4ms/step - loss: 0.0258 - accuracy: 0.9911\n",
            "Epoch 178/200\n",
            "148/148 [==============================] - 1s 4ms/step - loss: 0.0218 - accuracy: 0.9932\n",
            "Epoch 179/200\n",
            "148/148 [==============================] - 1s 4ms/step - loss: 0.0235 - accuracy: 0.9917\n",
            "Epoch 180/200\n",
            "148/148 [==============================] - 1s 4ms/step - loss: 0.0223 - accuracy: 0.9909\n",
            "Epoch 181/200\n",
            "148/148 [==============================] - 1s 6ms/step - loss: 0.0244 - accuracy: 0.9926\n",
            "Epoch 182/200\n",
            "148/148 [==============================] - 1s 7ms/step - loss: 0.0196 - accuracy: 0.9924\n",
            "Epoch 183/200\n",
            "148/148 [==============================] - 1s 7ms/step - loss: 0.0182 - accuracy: 0.9921\n",
            "Epoch 184/200\n",
            "148/148 [==============================] - 2s 10ms/step - loss: 0.0295 - accuracy: 0.9890\n",
            "Epoch 185/200\n",
            "148/148 [==============================] - 2s 10ms/step - loss: 0.0236 - accuracy: 0.9926\n",
            "Epoch 186/200\n",
            "148/148 [==============================] - 2s 11ms/step - loss: 0.0253 - accuracy: 0.9907\n",
            "Epoch 187/200\n",
            "148/148 [==============================] - 2s 12ms/step - loss: 0.0244 - accuracy: 0.9907\n",
            "Epoch 188/200\n",
            "148/148 [==============================] - 2s 11ms/step - loss: 0.0224 - accuracy: 0.9934\n",
            "Epoch 189/200\n",
            "148/148 [==============================] - 2s 11ms/step - loss: 0.0203 - accuracy: 0.9921\n",
            "Epoch 190/200\n",
            "148/148 [==============================] - 1s 10ms/step - loss: 0.0158 - accuracy: 0.9936\n",
            "Epoch 191/200\n",
            "148/148 [==============================] - 2s 12ms/step - loss: 0.0249 - accuracy: 0.9921\n",
            "Epoch 192/200\n",
            "148/148 [==============================] - 2s 12ms/step - loss: 0.0181 - accuracy: 0.9936\n",
            "Epoch 193/200\n",
            "148/148 [==============================] - 2s 15ms/step - loss: 0.0179 - accuracy: 0.9945\n",
            "Epoch 194/200\n",
            "148/148 [==============================] - 3s 20ms/step - loss: 0.0236 - accuracy: 0.9924\n",
            "Epoch 195/200\n",
            "148/148 [==============================] - 2s 14ms/step - loss: 0.0200 - accuracy: 0.9932\n",
            "Epoch 196/200\n",
            "148/148 [==============================] - 1s 9ms/step - loss: 0.0216 - accuracy: 0.9928\n",
            "Epoch 197/200\n",
            "148/148 [==============================] - 1s 6ms/step - loss: 0.0175 - accuracy: 0.9934\n",
            "Epoch 198/200\n",
            "148/148 [==============================] - 1s 4ms/step - loss: 0.0257 - accuracy: 0.9911\n",
            "Epoch 199/200\n",
            "148/148 [==============================] - 1s 4ms/step - loss: 0.0275 - accuracy: 0.9926\n",
            "Epoch 200/200\n",
            "148/148 [==============================] - 1s 4ms/step - loss: 0.0172 - accuracy: 0.9947\n"
          ]
        },
        {
          "ename": "KeyboardInterrupt",
          "evalue": "ignored",
          "output_type": "error",
          "traceback": [
            "\u001b[0;31m---------------------------------------------------------------------------\u001b[0m",
            "\u001b[0;31mKeyboardInterrupt\u001b[0m                         Traceback (most recent call last)",
            "\u001b[0;32m<ipython-input-8-b365278b94f5>\u001b[0m in \u001b[0;36m<module>\u001b[0;34m\u001b[0m\n\u001b[1;32m    101\u001b[0m   \u001b[0mcallbacks\u001b[0m\u001b[0;34m=\u001b[0m\u001b[0;34m[\u001b[0m\u001b[0mEarlyStopping\u001b[0m\u001b[0;34m(\u001b[0m\u001b[0mmonitor\u001b[0m\u001b[0;34m=\u001b[0m\u001b[0;34m'val_loss'\u001b[0m\u001b[0;34m,\u001b[0m \u001b[0mmode\u001b[0m\u001b[0;34m=\u001b[0m\u001b[0;34m'min'\u001b[0m\u001b[0;34m,\u001b[0m \u001b[0mverbose\u001b[0m\u001b[0;34m=\u001b[0m\u001b[0;36m1\u001b[0m\u001b[0;34m,\u001b[0m \u001b[0mpatience\u001b[0m\u001b[0;34m=\u001b[0m\u001b[0;36m5\u001b[0m\u001b[0;34m)\u001b[0m\u001b[0;34m]\u001b[0m\u001b[0;34m\u001b[0m\u001b[0;34m\u001b[0m\u001b[0m\n\u001b[1;32m    102\u001b[0m \u001b[0;34m\u001b[0m\u001b[0m\n\u001b[0;32m--> 103\u001b[0;31m   model.fit([ xtra_a, xtra_ac], ytra_a\n\u001b[0m\u001b[1;32m    104\u001b[0m            , epochs=200, batch_size=32)\n",
            "\u001b[0;32m/usr/local/lib/python3.8/dist-packages/keras/utils/traceback_utils.py\u001b[0m in \u001b[0;36merror_handler\u001b[0;34m(*args, **kwargs)\u001b[0m\n\u001b[1;32m     63\u001b[0m         \u001b[0mfiltered_tb\u001b[0m \u001b[0;34m=\u001b[0m \u001b[0;32mNone\u001b[0m\u001b[0;34m\u001b[0m\u001b[0;34m\u001b[0m\u001b[0m\n\u001b[1;32m     64\u001b[0m         \u001b[0;32mtry\u001b[0m\u001b[0;34m:\u001b[0m\u001b[0;34m\u001b[0m\u001b[0;34m\u001b[0m\u001b[0m\n\u001b[0;32m---> 65\u001b[0;31m             \u001b[0;32mreturn\u001b[0m \u001b[0mfn\u001b[0m\u001b[0;34m(\u001b[0m\u001b[0;34m*\u001b[0m\u001b[0margs\u001b[0m\u001b[0;34m,\u001b[0m \u001b[0;34m**\u001b[0m\u001b[0mkwargs\u001b[0m\u001b[0;34m)\u001b[0m\u001b[0;34m\u001b[0m\u001b[0;34m\u001b[0m\u001b[0m\n\u001b[0m\u001b[1;32m     66\u001b[0m         \u001b[0;32mexcept\u001b[0m \u001b[0mException\u001b[0m \u001b[0;32mas\u001b[0m \u001b[0me\u001b[0m\u001b[0;34m:\u001b[0m\u001b[0;34m\u001b[0m\u001b[0;34m\u001b[0m\u001b[0m\n\u001b[1;32m     67\u001b[0m             \u001b[0mfiltered_tb\u001b[0m \u001b[0;34m=\u001b[0m \u001b[0m_process_traceback_frames\u001b[0m\u001b[0;34m(\u001b[0m\u001b[0me\u001b[0m\u001b[0;34m.\u001b[0m\u001b[0m__traceback__\u001b[0m\u001b[0;34m)\u001b[0m\u001b[0;34m\u001b[0m\u001b[0;34m\u001b[0m\u001b[0m\n",
            "\u001b[0;31mKeyboardInterrupt\u001b[0m: "
          ]
        }
      ],
      "source": [
        "import statistics\n",
        "import keras.backend as K\n",
        "from keras.models import Model\n",
        "from keras.layers import Input\n",
        "from keras.layers import Dense, Dropout\n",
        "from keras.layers import concatenate\n",
        "adam = tf.keras.optimizers.Adam(learning_rate=0.001)\n",
        "\n",
        "fatyp = 'TypicalFA_comb1'\n",
        "drivepath = '/content/drive/MyDrive/finalData/'+ fatyp +'/';\n",
        "#featFiles = 'GER_train_fisher-2000_FA_GT_ESTphnTrans_estStress'               #glob.glob(drivepath + '*train*')\n",
        "filee = drivepath+'GER_train_fisher-2000_FA_GT_ESTphnTrans_estStress.mat'\n",
        "featType = 1; #Acoustic or Acoustic+context\n",
        "if featType == 1:\n",
        "  original_dim = 19\n",
        "else:\n",
        "  original_dim = 38\n",
        "#intermediate_dim = 64;  latent_dim = 19\n",
        "WPP_accuracies_avg = []; WoPP_accuracies_avg = [];WPP_all =[]; WoPP_all=[];names=[]\n",
        "WPP_accuracies_std = []; WoPP_accuracies_std = [];\n",
        "# print(featFiles)\n",
        "\n",
        "print('Classification with::::::',os.path.basename(filee))\n",
        "\n",
        "train_path = filee; test_path = filee.replace('train','test')\n",
        "print('test file:::::::',os.path.basename(test_path))\n",
        "xtrain, ytrain, wtrain, info_train = dataloader(train_path, featType); \n",
        "xtrain1, ytrain1, wtrain1, info_train1 = dataloader(train_path, featType=2);\n",
        "\n",
        "xtest, ytest, wtest ,info_test = dataloader(test_path, featType)\n",
        "# xtest1, ytest1, wtest1, info_test1 = dataloader(test_path, featType=2);\n",
        "\n",
        "train_size = xtrain.shape[0]\n",
        "print(train_size)\n",
        "avg_trainfeat=np.mean(xtrain, axis=0)\n",
        "std_trainfeat=np.std(xtrain, axis=0)\n",
        "\n",
        "avg_trainfeat1=np.mean(xtrain1, axis=0)\n",
        "std_trainfeat1=np.std(xtrain1, axis=0)\n",
        "\n",
        "\n",
        "xtest = normalization(xtest,avg_trainfeat,std_trainfeat)\n",
        "xtrain = normalization(xtrain,avg_trainfeat,std_trainfeat)\n",
        "xtrain1 = normalization(xtrain1,avg_trainfeat1,std_trainfeat1)\n",
        "\n",
        "print(xtrain.shape)\n",
        "woPP=[]; wPP=[]\n",
        "\n",
        "for j in range(1,2): # folds \n",
        "\n",
        "  xval_a = xtrain[(train_size*j)//5:(train_size*(j+1))//5];\n",
        "  print(xval_a.shape)\n",
        "  yval_a = ytrain[(train_size*j)//5:(train_size*(j+1))//5]\n",
        "  xtra_a = np.concatenate((xtrain[:(train_size*j)//5], xtrain[((train_size*(j+1))//5):]), axis=0); \n",
        "  ytra_a = np.concatenate((ytrain[:(train_size*j)//5], ytrain[((train_size*(j+1))//5):]), axis=0)\n",
        "  print('Fold  '+str(j+1)+'  xtrain shape:::::::', xtra_a.shape)\n",
        "\n",
        "  xval_ac = xtrain1[(train_size*j)//5:(train_size*(j+1))//5];\n",
        "  print(xval_ac.shape)\n",
        "  yval_ac = ytrain1[(train_size*j)//5:(train_size*(j+1))//5]\n",
        "  xtra_ac = np.concatenate((xtrain1[:(train_size*j)//5], xtrain1[((train_size*(j+1))//5):]), axis=0); \n",
        "  ytra_ac = np.concatenate((ytrain1[:(train_size*j)//5], ytrain1[((train_size*(j+1))//5):]), axis=0)\n",
        "\n",
        "  lab_input = keras.Input(shape=(1,), name=\"lab_input\")\n",
        "  inp1 = Input(shape=(19,))\n",
        "  hidden1a = Dense(32, activation='relu')(inp1)\n",
        "  x = Dense(128, activation='relu')(hidden1a)\n",
        "  x = Dropout(0.3)(x)\n",
        "  x = Dense(64, activation='relu')(x)\n",
        "  x = Dropout(0.2)(x)\n",
        "  x = Dense(32, activation='relu')(x)\n",
        "  hidden3a = Dense(16, activation='relu')(x)\n",
        "  # outputa = Dense(1, activation='sigmoid')(hidden3a)\n",
        "  # model1 = Model(inputs=inp1, outputs=outputa)\n",
        "\n",
        "\n",
        "  inp2 = Input(shape=(38,))\n",
        "  hidden1b = Dense(32, activation='relu')(inp2)\n",
        "  x = Dense(128, activation='relu')(hidden1b)\n",
        "  x = Dropout(0.2)(x)\n",
        "  x = Dense(64, activation='relu')(x)\n",
        "  # x = Dropout(0.2)(x)\n",
        "  x = Dense(32, activation='relu')(x)\n",
        "  hidden3b = Dense(16, activation='relu')(x)\n",
        "  # outputb = Dense(1, activation='sigmoid')(hidden3)\n",
        "  # model2 = Model(inputs=inp2, outputs=outputb)\n",
        "\n",
        "  x = concatenate([hidden3a, hidden3b])\n",
        "  out = Dense(16, activation='relu')(x)\n",
        "  x = Dropout(0.2)(x)\n",
        "  out = Dense(4, activation='relu')(out)\n",
        "  out = Dense(1, activation='sigmoid')(out)\n",
        "  model = Model(inputs=[inp1, inp2], outputs=out)#outputs=[[hidden3a,hidden3b],out]\n",
        "\n",
        "  \n",
        "\n",
        "  model.compile(optimizer='adam', loss = 'binary_crossentropy', metrics = ['accuracy']) #['binary_crossentropy',loss]\n",
        "  model.summary()\n",
        "  callbacks=[EarlyStopping(monitor='val_loss', mode='min', verbose=1, patience=5)]\n",
        "\n",
        "  model.fit([ xtra_a, xtra_ac], ytra_a\n",
        "           , epochs=200, batch_size=32)\n"
      ]
    },
    {
      "cell_type": "code",
      "execution_count": null,
      "metadata": {
        "id": "oqxTDQ261V-B"
      },
      "outputs": [],
      "source": []
    }
  ],
  "metadata": {
    "accelerator": "GPU",
    "colab": {
      "gpuType": "T4",
      "provenance": [],
      "toc_visible": true
    },
    "gpuClass": "standard",
    "kernelspec": {
      "display_name": "Python 3",
      "name": "python3"
    },
    "language_info": {
      "codemirror_mode": {
        "name": "ipython",
        "version": 3
      },
      "file_extension": ".py",
      "mimetype": "text/x-python",
      "name": "python",
      "nbconvert_exporter": "python",
      "pygments_lexer": "ipython3",
      "version": "3.11.1"
    }
  },
  "nbformat": 4,
  "nbformat_minor": 0
}
